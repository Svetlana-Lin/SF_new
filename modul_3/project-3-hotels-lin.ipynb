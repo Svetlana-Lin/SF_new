{
 "cells": [
  {
   "cell_type": "code",
   "execution_count": 348,
   "metadata": {
    "_cell_guid": "b1076dfc-b9ad-4769-8c92-a6c4dae69d19",
    "_uuid": "8f2839f25d086af736a60e9eeb907d3b93b6e0e5",
    "execution": {
     "iopub.execute_input": "2023-07-07T23:06:40.265823Z",
     "iopub.status.busy": "2023-07-07T23:06:40.265359Z",
     "iopub.status.idle": "2023-07-07T23:06:40.274961Z",
     "shell.execute_reply": "2023-07-07T23:06:40.273763Z",
     "shell.execute_reply.started": "2023-07-07T23:06:40.265782Z"
    }
   },
   "outputs": [
    {
     "name": "stdout",
     "output_type": "stream",
     "text": [
      "/kaggle/input/sf-booking/hotels_test.csv\n",
      "/kaggle/input/sf-booking/hotels_train.csv\n",
      "/kaggle/input/sf-booking/submission.csv\n"
     ]
    }
   ],
   "source": [
    "# This Python 3 environment comes with many helpful analytics libraries installed\n",
    "# It is defined by the kaggle/python Docker image: https://github.com/kaggle/docker-python\n",
    "# For example, here's several helpful packages to load\n",
    "\n",
    "import numpy as np # linear algebra\n",
    "import pandas as pd # data processing, CSV file I/O (e.g. pd.read_csv)\n",
    "\n",
    "# Input data files are available in the read-only \"../input/\" directory\n",
    "# For example, running this (by clicking run or pressing Shift+Enter) will list all files under the input directory\n",
    "\n",
    "import os\n",
    "for dirname, _, filenames in os.walk('/kaggle/input'):\n",
    "    for filename in filenames:\n",
    "        print(os.path.join(dirname, filename))\n",
    "\n",
    "# You can write up to 20GB to the current directory (/kaggle/working/) that gets preserved as output when you create a version using \"Save & Run All\" \n",
    "# You can also write temporary files to /kaggle/temp/, but they won't be saved outside of the current session"
   ]
  },
  {
   "cell_type": "code",
   "execution_count": 349,
   "metadata": {
    "execution": {
     "iopub.execute_input": "2023-07-07T23:06:40.316350Z",
     "iopub.status.busy": "2023-07-07T23:06:40.315971Z",
     "iopub.status.idle": "2023-07-07T23:06:42.845448Z",
     "shell.execute_reply": "2023-07-07T23:06:42.844157Z",
     "shell.execute_reply.started": "2023-07-07T23:06:40.316319Z"
    }
   },
   "outputs": [
    {
     "name": "stderr",
     "output_type": "stream",
     "text": [
      "/tmp/ipykernel_32/866889126.py:8: DeprecationWarning: Please use `pearsonr` from the `scipy.stats` namespace, the `scipy.stats.stats` namespace is deprecated.\n",
      "  from scipy.stats.stats import pearsonr\n"
     ]
    }
   ],
   "source": [
    "import plotly\n",
    "%matplotlib inline\n",
    "import matplotlib.pyplot as plt\n",
    "import seaborn as sns\n",
    "import re\n",
    "from ast import literal_eval\n",
    "\n",
    "from scipy.stats.stats import pearsonr\n",
    "import itertools\n",
    "\n",
    "from sklearn.ensemble import RandomForestRegressor # инструмент для создания и обучения модели  \n",
    "from sklearn import metrics # инструменты для оценки точности модели \n",
    "\n",
    "from sklearn import preprocessing\n",
    "\n",
    "# импортируем библиотеку обработки текста\n",
    "import nltk\n",
    "from nltk.sentiment.vader import SentimentIntensityAnalyzer\n",
    "import time\n",
    "\n",
    "# Загружаем специальный удобный инструмент для разделения датасета:\n",
    "from sklearn.model_selection import train_test_split\n",
    "\n",
    "# всегда фиксируйте RANDOM_SEED, чтобы ваши эксперименты были воспроизводимы!\n",
    "RANDOM_SEED = 42\n",
    "\n",
    "# зафиксируем версию пакетов, чтобы эксперименты были воспроизводимы:\n",
    "!pip freeze > requirements.txt"
   ]
  },
  {
   "cell_type": "code",
   "execution_count": 350,
   "metadata": {
    "execution": {
     "iopub.execute_input": "2023-07-07T23:06:42.848573Z",
     "iopub.status.busy": "2023-07-07T23:06:42.848029Z",
     "iopub.status.idle": "2023-07-07T23:06:46.292296Z",
     "shell.execute_reply": "2023-07-07T23:06:46.290887Z",
     "shell.execute_reply.started": "2023-07-07T23:06:42.848540Z"
    }
   },
   "outputs": [],
   "source": [
    "# Подгрузим наши данные из соревнования\n",
    "\n",
    "DATA_DIR = '/kaggle/input/sf-booking/'\n",
    "df_train = pd.read_csv(DATA_DIR+'/hotels_train.csv') # датасет для обучения\n",
    "df_test = pd.read_csv(DATA_DIR+'hotels_test.csv') # датасет для предсказания\n",
    "sample_submission = pd.read_csv(DATA_DIR+'/submission.csv') # самбмишн"
   ]
  },
  {
   "cell_type": "code",
   "execution_count": 351,
   "metadata": {
    "execution": {
     "iopub.execute_input": "2023-07-07T23:06:46.294071Z",
     "iopub.status.busy": "2023-07-07T23:06:46.293738Z",
     "iopub.status.idle": "2023-07-07T23:06:46.582844Z",
     "shell.execute_reply": "2023-07-07T23:06:46.581606Z",
     "shell.execute_reply.started": "2023-07-07T23:06:46.294042Z"
    }
   },
   "outputs": [
    {
     "name": "stderr",
     "output_type": "stream",
     "text": [
      "/tmp/ipykernel_32/3925405557.py:6: FutureWarning: The frame.append method is deprecated and will be removed from pandas in a future version. Use pandas.concat instead.\n",
      "  hotels = df_test.append(df_train, sort=False).reset_index(drop=True) # объединяем\n"
     ]
    }
   ],
   "source": [
    "# ВАЖНО! дря корректной обработки признаков объединяем трейн и тест в один датасет\n",
    "df_train['sample'] = 1 # помечаем где у нас трейн\n",
    "df_test['sample'] = 0 # помечаем где у нас тест\n",
    "df_test['reviewer_score'] = 0 # в тесте у нас нет значения reviewer_score, мы его должны предсказать, по этому пока просто заполняем нулями\n",
    "\n",
    "hotels = df_test.append(df_train, sort=False).reset_index(drop=True) # объединяем"
   ]
  },
  {
   "cell_type": "code",
   "execution_count": 352,
   "metadata": {
    "execution": {
     "iopub.execute_input": "2023-07-07T23:06:46.587757Z",
     "iopub.status.busy": "2023-07-07T23:06:46.587408Z",
     "iopub.status.idle": "2023-07-07T23:06:47.237110Z",
     "shell.execute_reply": "2023-07-07T23:06:47.236227Z",
     "shell.execute_reply.started": "2023-07-07T23:06:46.587729Z"
    }
   },
   "outputs": [
    {
     "name": "stdout",
     "output_type": "stream",
     "text": [
      "<class 'pandas.core.frame.DataFrame'>\n",
      "RangeIndex: 515738 entries, 0 to 515737\n",
      "Data columns (total 18 columns):\n",
      " #   Column                                      Non-Null Count   Dtype  \n",
      "---  ------                                      --------------   -----  \n",
      " 0   hotel_address                               515738 non-null  object \n",
      " 1   additional_number_of_scoring                515738 non-null  int64  \n",
      " 2   review_date                                 515738 non-null  object \n",
      " 3   average_score                               515738 non-null  float64\n",
      " 4   hotel_name                                  515738 non-null  object \n",
      " 5   reviewer_nationality                        515738 non-null  object \n",
      " 6   negative_review                             515738 non-null  object \n",
      " 7   review_total_negative_word_counts           515738 non-null  int64  \n",
      " 8   total_number_of_reviews                     515738 non-null  int64  \n",
      " 9   positive_review                             515738 non-null  object \n",
      " 10  review_total_positive_word_counts           515738 non-null  int64  \n",
      " 11  total_number_of_reviews_reviewer_has_given  515738 non-null  int64  \n",
      " 12  tags                                        515738 non-null  object \n",
      " 13  days_since_review                           515738 non-null  object \n",
      " 14  lat                                         512470 non-null  float64\n",
      " 15  lng                                         512470 non-null  float64\n",
      " 16  sample                                      515738 non-null  int64  \n",
      " 17  reviewer_score                              515738 non-null  float64\n",
      "dtypes: float64(4), int64(6), object(8)\n",
      "memory usage: 70.8+ MB\n"
     ]
    }
   ],
   "source": [
    "hotels.info()"
   ]
  },
  {
   "cell_type": "markdown",
   "metadata": {},
   "source": [
    "Первоначальные признаки датасета:  \n",
    "\n",
    "**hotel_address** — адрес отеля;  \n",
    "**review_date** — дата, когда рецензент разместил соответствующий отзыв;  \n",
    "**average_score** — средний балл отеля, рассчитанный на основе последнего комментария за последний год;  \n",
    "**hotel_name** — название отеля;  \n",
    "**reviewer_nationality** — страна рецензента;  \n",
    "**negative_review** — отрицательный отзыв, который рецензент дал отелю;  \n",
    "**review_total_negative_word_counts** — общее количество слов в отрицательном отзыв;  \n",
    "**positive_review** — положительный отзыв, который рецензент дал отелю;  \n",
    "**review_total_positive_word_counts** — общее количество слов в положительном отзыве.  \n",
    "**reviewer_score** — оценка, которую рецензент поставил отелю на основе своего опыта;  \n",
    "**total_number_of_reviews_reviewer_has_given** — количество отзывов, которые рецензенты дали в прошлом;  \n",
    "**total_number_of_reviews** — общее количество действительных отзывов об отеле;  \n",
    "**tags** — теги, которые рецензент дал отелю;  \n",
    "**days_since_review** — количество дней между датой проверки и датой очистки;  \n",
    "**additional_number_of_scoring** — есть также некоторые гости, которые просто поставили оценку сервису, но не оставили отзыв. Это число указывает, сколько там действительных оценок без проверки.  \n",
    "**lat** — географическая широта отеля;  \n",
    "**lng** — географическая долгота отеля.  \n",
    "\n",
    "Пропуски есть только в 2х признаках - широте и долготе отелей. Заполним их, но предварительно разметим какие данные были пропущены."
   ]
  },
  {
   "cell_type": "code",
   "execution_count": 353,
   "metadata": {
    "execution": {
     "iopub.execute_input": "2023-07-07T23:06:47.239706Z",
     "iopub.status.busy": "2023-07-07T23:06:47.239081Z",
     "iopub.status.idle": "2023-07-07T23:06:47.284005Z",
     "shell.execute_reply": "2023-07-07T23:06:47.282773Z",
     "shell.execute_reply.started": "2023-07-07T23:06:47.239665Z"
    }
   },
   "outputs": [],
   "source": [
    "df = hotels.copy()"
   ]
  },
  {
   "cell_type": "code",
   "execution_count": 354,
   "metadata": {
    "execution": {
     "iopub.execute_input": "2023-07-07T23:06:47.285655Z",
     "iopub.status.busy": "2023-07-07T23:06:47.285299Z",
     "iopub.status.idle": "2023-07-07T23:06:47.295598Z",
     "shell.execute_reply": "2023-07-07T23:06:47.294397Z",
     "shell.execute_reply.started": "2023-07-07T23:06:47.285627Z"
    }
   },
   "outputs": [],
   "source": [
    "cols_with_missing = ['lng']                          # т.к. в обоих колонках пропуски в одинаковых местах, сделаем разметку только по 1 столбцу\n",
    "\n",
    "for col in cols_with_missing:\n",
    "    df[col + '_was_missing'] = df[col].isna()\n",
    "    \n",
    "df['lng_was_missing'] = np.where((df['lng_was_missing'] == True), 1, 0)"
   ]
  },
  {
   "cell_type": "code",
   "execution_count": 355,
   "metadata": {
    "execution": {
     "iopub.execute_input": "2023-07-07T23:06:47.297253Z",
     "iopub.status.busy": "2023-07-07T23:06:47.296920Z",
     "iopub.status.idle": "2023-07-07T23:06:47.609995Z",
     "shell.execute_reply": "2023-07-07T23:06:47.608809Z",
     "shell.execute_reply.started": "2023-07-07T23:06:47.297215Z"
    }
   },
   "outputs": [
    {
     "name": "stderr",
     "output_type": "stream",
     "text": [
      "/tmp/ipykernel_32/1425893375.py:3: FutureWarning: Indexing with multiple keys (implicitly converted to a tuple of keys) will be deprecated, use a list instead.\n",
      "  hotel_coordinates = coor_df.groupby('hotel_address')['lat', 'lng'].first().to_dict()\n"
     ]
    }
   ],
   "source": [
    "coor_df= df[['hotel_address', 'lat', 'lng']]\n",
    "# словарь с координатами отелей\n",
    "hotel_coordinates = coor_df.groupby('hotel_address')['lat', 'lng'].first().to_dict()\n",
    "\n",
    "# словарь с координатами отелей с карт\n",
    "hotel_lat = {'20 Rue De La Ga t 14th arr 75014 Paris France': 48.827845,\n",
    "  '23 Rue Damr mont 18th arr 75018 Paris France': 48.886363,\n",
    "  '4 rue de la P pini re 8th arr 75008 Paris France': 48.868109,\n",
    "  'Bail n 4 6 Eixample 08010 Barcelona Spain': 41.390955,\n",
    "  'Gr nentorgasse 30 09 Alsergrund 1090 Vienna Austria': 48.222980,\n",
    "  'Hasenauerstra e 12 19 D bling 1190 Vienna Austria': 48.779481,\n",
    "  'Josefst dter Stra e 10 12 08 Josefstadt 1080 Vienna Austria': 48.210918,\n",
    "  'Josefst dter Stra e 22 08 Josefstadt 1080 Vienna Austria': 48.210834,\n",
    "  'Landstra er G rtel 5 03 Landstra e 1030 Vienna Austria': 48.19288089795001,\n",
    "  'Paragonstra e 1 11 Simmering 1110 Vienna Austria': 48.16637426860036,\n",
    "  'Pau Clar s 122 Eixample 08009 Barcelona Spain': 41.39287199168932,\n",
    "  'Savoyenstra e 2 16 Ottakring 1160 Vienna Austria': 48.21969804202635,\n",
    "  'Sep lveda 180 Eixample 08011 Barcelona Spain': 41.40156839291513,\n",
    "  'Sieveringer Stra e 4 19 D bling 1190 Vienna Austria': 48.246253876270494,\n",
    "  'Taborstra e 8 A 02 Leopoldstadt 1020 Vienna Austria': 48.21363741266167,\n",
    "  'W hringer Stra e 12 09 Alsergrund 1090 Vienna Austria': 48.226431942000715,\n",
    "  'W hringer Stra e 33 35 09 Alsergrund 1090 Vienna Austria': 48.22620322382607}\n",
    " \n",
    "hotel_lng = {'20 Rue De La Ga t 14th arr 75014 Paris France': 2.321028,\n",
    "  '23 Rue Damr mont 18th arr 75018 Paris France': 2.349278,\n",
    "  '4 rue de la P pini re 8th arr 75008 Paris France': 2.360294,\n",
    "  'Bail n 4 6 Eixample 08010 Barcelona Spain': 2.155579,\n",
    "  'Gr nentorgasse 30 09 Alsergrund 1090 Vienna Austria': 16.357630,\n",
    "  'Hasenauerstra e 12 19 D bling 1190 Vienna Austria': 15.657069,\n",
    "  'Josefst dter Stra e 10 12 08 Josefstadt 1080 Vienna Austria': 16.347119,\n",
    "  'Josefst dter Stra e 22 08 Josefstadt 1080 Vienna Austria': 16.347110,\n",
    "  'Landstra er G rtel 5 03 Landstra e 1030 Vienna Austria': 16.401198146858796,\n",
    "  'Paragonstra e 1 11 Simmering 1110 Vienna Austria': 16.445599235618207,\n",
    "  'Pau Clar s 122 Eixample 08009 Barcelona Spain': 2.1671877389652274,\n",
    "  'Savoyenstra e 2 16 Ottakring 1160 Vienna Austria': 16.285581368183013,\n",
    "  'Sep lveda 180 Eixample 08011 Barcelona Spain': 2.1350468077126257,\n",
    "  'Sieveringer Stra e 4 19 D bling 1190 Vienna Austria': 16.34184552954927,\n",
    "  'Taborstra e 8 A 02 Leopoldstadt 1020 Vienna Austria': 16.38012185469133,\n",
    "  'W hringer Stra e 12 09 Alsergrund 1090 Vienna Austria': 16.356993686635533,\n",
    "  'W hringer Stra e 33 35 09 Alsergrund 1090 Vienna Austria': 16.356822025255575}\n",
    "\n",
    "# заполним пропущенные значения\n",
    "df['lat_new'] = df.hotel_address.map(hotel_lat)                               # вспомогательный столбец\n",
    "df['lat'] = np.where((df['lat'].isnull()), df['lat_new'], df['lat'])  # заполнение пропусков\n",
    "\n",
    "df['lng_new'] = df.hotel_address.map(hotel_lng)\n",
    "df['lng'] = np.where((df['lng'].isnull()), df['lng_new'], df['lng'])\n",
    "\n",
    "df.drop(['lat_new', 'lng_new'], axis = 1, inplace = True) # удаляем вспомогательные столбцы"
   ]
  },
  {
   "cell_type": "code",
   "execution_count": 356,
   "metadata": {
    "execution": {
     "iopub.execute_input": "2023-07-07T23:06:47.611882Z",
     "iopub.status.busy": "2023-07-07T23:06:47.611501Z",
     "iopub.status.idle": "2023-07-07T23:06:48.715442Z",
     "shell.execute_reply": "2023-07-07T23:06:48.714607Z",
     "shell.execute_reply.started": "2023-07-07T23:06:47.611848Z"
    }
   },
   "outputs": [
    {
     "data": {
      "text/plain": [
       "336"
      ]
     },
     "execution_count": 356,
     "metadata": {},
     "output_type": "execute_result"
    }
   ],
   "source": [
    "len(df[df.duplicated()])"
   ]
  },
  {
   "cell_type": "markdown",
   "metadata": {},
   "source": [
    "В данных 336 дублирующих строк, но по условиям соревнования удалять их нельзя, а разметка только ухудшает метрику, по-этому пока их не трогаем."
   ]
  },
  {
   "cell_type": "markdown",
   "metadata": {},
   "source": [
    "### review_date\n",
    "\n",
    "Приведем признак в формат даты и обогатим датасет новыми признаками (создание признака года ухудшило метрику)"
   ]
  },
  {
   "cell_type": "code",
   "execution_count": 357,
   "metadata": {
    "execution": {
     "iopub.execute_input": "2023-07-07T23:06:48.717278Z",
     "iopub.status.busy": "2023-07-07T23:06:48.716550Z",
     "iopub.status.idle": "2023-07-07T23:06:49.249758Z",
     "shell.execute_reply": "2023-07-07T23:06:49.248454Z",
     "shell.execute_reply.started": "2023-07-07T23:06:48.717248Z"
    }
   },
   "outputs": [],
   "source": [
    "df['review_date'] = pd.to_datetime(df['review_date'])\n",
    "\n",
    "df['review_month'] = df['review_date'].dt.month\n",
    "df['review_day_of_wk'] = df['review_date'].dt.dayofweek\n",
    "df['is_weekend'] = df['review_day_of_wk'].apply(lambda x: 1 if x >= 5 else 0)\n",
    "df['quarter'] = df['review_date'].dt.quarter"
   ]
  },
  {
   "cell_type": "markdown",
   "metadata": {},
   "source": [
    "### tags\n",
    "\n",
    "Выделим из тегов количество ночей проживания."
   ]
  },
  {
   "cell_type": "code",
   "execution_count": 358,
   "metadata": {
    "execution": {
     "iopub.execute_input": "2023-07-07T23:06:49.254084Z",
     "iopub.status.busy": "2023-07-07T23:06:49.253708Z",
     "iopub.status.idle": "2023-07-07T23:06:59.780446Z",
     "shell.execute_reply": "2023-07-07T23:06:59.779344Z",
     "shell.execute_reply.started": "2023-07-07T23:06:49.254050Z"
    }
   },
   "outputs": [],
   "source": [
    "df['temporal'] = df['tags'].apply(lambda x: literal_eval(x)) # преобразуем строки в списки тегов\n",
    "df['temporal'] = df['temporal'].explode(ignore_index=True)   # разобьем на отдельные теги\n",
    "\n",
    "\n",
    "'''функция, которая выбирает из тегов количество ночей'''\n",
    "\n",
    "def num_nights(tag):\n",
    "    tag = tag.split(' ')\n",
    "    if 'Stayed' in tag:\n",
    "        return tag[-3]\n",
    "    elif 'nights'  in tag:\n",
    "        return tag[-4]\n",
    "    else:\n",
    "        return 0\n",
    "    \n",
    "df1 = df.copy()\n",
    "df1['nights'] = 0\n",
    "df1['nights'] = df1['temporal'].apply(num_nights)            # добавим столбец с количеством ночей\n",
    "\n",
    "df1['nights'] = df1['nights'].astype('int')                  # преобразуем в число"
   ]
  },
  {
   "cell_type": "markdown",
   "metadata": {},
   "source": [
    "### days_since_review\n",
    "\n",
    "преобразуем признак в числовой формат"
   ]
  },
  {
   "cell_type": "code",
   "execution_count": 359,
   "metadata": {
    "execution": {
     "iopub.execute_input": "2023-07-07T23:06:59.782607Z",
     "iopub.status.busy": "2023-07-07T23:06:59.782217Z",
     "iopub.status.idle": "2023-07-07T23:07:00.192002Z",
     "shell.execute_reply": "2023-07-07T23:07:00.190807Z",
     "shell.execute_reply.started": "2023-07-07T23:06:59.782574Z"
    }
   },
   "outputs": [],
   "source": [
    "df2 = df1.copy()\n",
    "\n",
    "'''Функция которая оставляет только первый элемент списка'''\n",
    "\n",
    "def num_days(col):\n",
    "    col = col.split(' ')\n",
    "    return col[0]\n",
    "\n",
    "df2['days_since_review_new'] = 0\n",
    "df2['days_since_review_new'] = df2['days_since_review'].apply(num_days)\n",
    "df2['days_since_review_new'] = df2['days_since_review_new'].astype(int)"
   ]
  },
  {
   "cell_type": "markdown",
   "metadata": {},
   "source": [
    "### hotel_address\n",
    "\n",
    "Выделим города из адреса отеля.  \n",
    "Поскольку для всех адресов, кроме UK, присуща одинаковая структура - возьмем предпоследний элемент."
   ]
  },
  {
   "cell_type": "code",
   "execution_count": 360,
   "metadata": {
    "execution": {
     "iopub.execute_input": "2023-07-07T23:07:00.194091Z",
     "iopub.status.busy": "2023-07-07T23:07:00.193610Z",
     "iopub.status.idle": "2023-07-07T23:07:00.516143Z",
     "shell.execute_reply": "2023-07-07T23:07:00.514915Z",
     "shell.execute_reply.started": "2023-07-07T23:07:00.194050Z"
    }
   },
   "outputs": [],
   "source": [
    "df2['city'] = df2.hotel_address.apply(lambda x: 'London' if x.endswith('United Kingdom') else x.split()[-2])"
   ]
  },
  {
   "cell_type": "markdown",
   "metadata": {},
   "source": [
    "Обогатим датасет данными о населении городов (словарь из открытого источника)."
   ]
  },
  {
   "cell_type": "code",
   "execution_count": 361,
   "metadata": {
    "execution": {
     "iopub.execute_input": "2023-07-07T23:07:00.518041Z",
     "iopub.status.busy": "2023-07-07T23:07:00.517568Z",
     "iopub.status.idle": "2023-07-07T23:07:00.908089Z",
     "shell.execute_reply": "2023-07-07T23:07:00.906927Z",
     "shell.execute_reply.started": "2023-07-07T23:07:00.517999Z"
    }
   },
   "outputs": [],
   "source": [
    "Population = {'Amsterdam': 921468,\n",
    "               'Barcelona' : 1636193,\n",
    "               'London': 9002488,\n",
    "               'Milan' : 1366180,\n",
    "               'Paris' : 2226621,\n",
    "               'Vienna' : 1973403}\n",
    "\n",
    "df2['city'] = df2.hotel_address.apply(lambda x: 'London' if x.endswith('United Kingdom') else x.split()[-2])\n",
    "df2['population'] = df2.city.map(Population)"
   ]
  },
  {
   "cell_type": "markdown",
   "metadata": {},
   "source": [
    "Создадим бинарные признаки по городам"
   ]
  },
  {
   "cell_type": "code",
   "execution_count": 362,
   "metadata": {
    "execution": {
     "iopub.execute_input": "2023-07-07T23:07:00.909755Z",
     "iopub.status.busy": "2023-07-07T23:07:00.909410Z",
     "iopub.status.idle": "2023-07-07T23:07:01.382344Z",
     "shell.execute_reply": "2023-07-07T23:07:01.381037Z",
     "shell.execute_reply.started": "2023-07-07T23:07:00.909720Z"
    }
   },
   "outputs": [],
   "source": [
    "df2 = pd.get_dummies(df2, columns=['city'])"
   ]
  },
  {
   "cell_type": "markdown",
   "metadata": {},
   "source": [
    "### positive_review, negative_review\n",
    "\n",
    "выделим количество позитивных и негативных слов из отзывов"
   ]
  },
  {
   "cell_type": "code",
   "execution_count": 363,
   "metadata": {
    "execution": {
     "iopub.execute_input": "2023-07-07T23:07:01.384153Z",
     "iopub.status.busy": "2023-07-07T23:07:01.383806Z",
     "iopub.status.idle": "2023-07-07T23:07:56.325094Z",
     "shell.execute_reply": "2023-07-07T23:07:56.323906Z",
     "shell.execute_reply.started": "2023-07-07T23:07:01.384124Z"
    }
   },
   "outputs": [],
   "source": [
    "df3 = df2.copy()\n",
    "# слова в отзывах \n",
    "def num_words(scroll):\n",
    "    \n",
    "    i = 0\n",
    "    for word in scroll:\n",
    "        for mood in key_words:\n",
    "            if mood == word.lower():\n",
    "                i += 1\n",
    "    return i\n",
    "\n",
    "key_words = ['good','great','nice','best','excellent','but','delicious', 'friendly', 'lovely', 'amazing', 'tasty', 'friendly', 'comfortable', 'wonderful', 'beautiful', 'super', \n",
    "             'brilliant', 'perfectly', 'liked', 'helpful', 'comfy', 'lovely', 'convenient']\n",
    "\n",
    "df3['words'] = df3.positive_review.str.findall(r\"(\\w+)\")\n",
    "df3['review_mood_good'] = df3.words.dropna().apply(num_words)\n",
    "\n",
    "key_words = ['bed','no','lounge','noise','useless','old','badly', 'cracked', 'broken', 'worn', 'tired', 'little', 'issues', 'tight', 'unimpressive', 'dark', 'faulty', 'inconvenient', 'damage',\n",
    "            'wrong', 'extremely', 'short', 'lilliputian', 'unable', 'nuisance', 'expectations']\n",
    "\n",
    "df3['words_'] = df3.negative_review.str.findall(r\"(\\w+)\")\n",
    "df3['review_mood_bed'] = df3.words_.dropna().apply(num_words)"
   ]
  },
  {
   "cell_type": "code",
   "execution_count": 364,
   "metadata": {
    "execution": {
     "iopub.execute_input": "2023-07-07T23:07:56.327817Z",
     "iopub.status.busy": "2023-07-07T23:07:56.326932Z",
     "iopub.status.idle": "2023-07-07T23:20:38.141222Z",
     "shell.execute_reply": "2023-07-07T23:20:38.140146Z",
     "shell.execute_reply.started": "2023-07-07T23:07:56.327778Z"
    }
   },
   "outputs": [
    {
     "name": "stdout",
     "output_type": "stream",
     "text": [
      "[nltk_data] Downloading package vader_lexicon to\n",
      "[nltk_data]     /usr/share/nltk_data...\n",
      "[nltk_data]   Package vader_lexicon is already up-to-date!\n"
     ]
    }
   ],
   "source": [
    "nltk.downloader.download('vader_lexicon')\n",
    "sent_analyzer = SentimentIntensityAnalyzer()\n",
    "\n",
    "# С помощью SentimentIntensityAnalyzer оценим отзывы по категориям: neg, pos, compound\n",
    "df3['neg_neg'] = df3['negative_review'].apply(lambda x: sent_analyzer.polarity_scores(x)['neg'])\n",
    "df3['pos_neg'] = df3['negative_review'].apply(lambda x: sent_analyzer.polarity_scores(x)['pos'])\n",
    "df3['compound_neg'] = df3['negative_review'].apply(lambda x: sent_analyzer.polarity_scores(x)['compound'])\n",
    "\n",
    "# Так же с поситивными отзывами\n",
    "df3['neg_pos'] = df3['positive_review'].apply(lambda x: sent_analyzer.polarity_scores(x)['neg'])\n",
    "df3['pos_pos'] = df3['positive_review'].apply(lambda x: sent_analyzer.polarity_scores(x)['pos'])\n",
    "df3['compound_pos'] = df3['positive_review'].apply(lambda x: sent_analyzer.polarity_scores(x)['compound'])"
   ]
  },
  {
   "cell_type": "markdown",
   "metadata": {},
   "source": [
    "### Корреляция"
   ]
  },
  {
   "cell_type": "code",
   "execution_count": 365,
   "metadata": {
    "execution": {
     "iopub.execute_input": "2023-07-07T23:20:38.142832Z",
     "iopub.status.busy": "2023-07-07T23:20:38.142483Z",
     "iopub.status.idle": "2023-07-07T23:20:44.774896Z",
     "shell.execute_reply": "2023-07-07T23:20:44.773744Z",
     "shell.execute_reply.started": "2023-07-07T23:20:38.142803Z"
    }
   },
   "outputs": [
    {
     "data": {
      "text/html": [
       "<div>\n",
       "<style scoped>\n",
       "    .dataframe tbody tr th:only-of-type {\n",
       "        vertical-align: middle;\n",
       "    }\n",
       "\n",
       "    .dataframe tbody tr th {\n",
       "        vertical-align: top;\n",
       "    }\n",
       "\n",
       "    .dataframe thead th {\n",
       "        text-align: right;\n",
       "    }\n",
       "</style>\n",
       "<table border=\"1\" class=\"dataframe\">\n",
       "  <thead>\n",
       "    <tr style=\"text-align: right;\">\n",
       "      <th></th>\n",
       "      <th>PCC</th>\n",
       "      <th>p-value</th>\n",
       "    </tr>\n",
       "  </thead>\n",
       "  <tbody>\n",
       "    <tr>\n",
       "      <th>additional_number_of_scoring__total_number_of_reviews</th>\n",
       "      <td>0.824884</td>\n",
       "      <td>0.0</td>\n",
       "    </tr>\n",
       "    <tr>\n",
       "      <th>lat__city_Barcelona</th>\n",
       "      <td>-0.844623</td>\n",
       "      <td>0.0</td>\n",
       "    </tr>\n",
       "    <tr>\n",
       "      <th>lng__city_Vienna</th>\n",
       "      <td>0.824900</td>\n",
       "      <td>0.0</td>\n",
       "    </tr>\n",
       "    <tr>\n",
       "      <th>sample__reviewer_score</th>\n",
       "      <td>0.931753</td>\n",
       "      <td>0.0</td>\n",
       "    </tr>\n",
       "    <tr>\n",
       "      <th>review_month__quarter</th>\n",
       "      <td>0.969874</td>\n",
       "      <td>0.0</td>\n",
       "    </tr>\n",
       "    <tr>\n",
       "      <th>review_day_of_wk__is_weekend</th>\n",
       "      <td>0.830935</td>\n",
       "      <td>0.0</td>\n",
       "    </tr>\n",
       "    <tr>\n",
       "      <th>population__city_London</th>\n",
       "      <td>0.995944</td>\n",
       "      <td>0.0</td>\n",
       "    </tr>\n",
       "    <tr>\n",
       "      <th>neg_neg__compound_neg</th>\n",
       "      <td>-0.739397</td>\n",
       "      <td>0.0</td>\n",
       "    </tr>\n",
       "  </tbody>\n",
       "</table>\n",
       "</div>"
      ],
      "text/plain": [
       "                                                         PCC  p-value\n",
       "additional_number_of_scoring__total_number_of_r...  0.824884      0.0\n",
       "lat__city_Barcelona                                -0.844623      0.0\n",
       "lng__city_Vienna                                    0.824900      0.0\n",
       "sample__reviewer_score                              0.931753      0.0\n",
       "review_month__quarter                               0.969874      0.0\n",
       "review_day_of_wk__is_weekend                        0.830935      0.0\n",
       "population__city_London                             0.995944      0.0\n",
       "neg_neg__compound_neg                              -0.739397      0.0"
      ]
     },
     "execution_count": 365,
     "metadata": {},
     "output_type": "execute_result"
    }
   ],
   "source": [
    "object_columns = [s for s in df3.columns if df3[s].dtypes == 'object' ]\n",
    "df3.drop(object_columns, axis = 1, inplace=True)\n",
    "df3.drop('review_date', axis = 1, inplace=True)\n",
    "\n",
    "correlations = {}\n",
    "columns = df3.columns.tolist()                                                           # список признаков\n",
    "\n",
    "for col_a, col_b in itertools.combinations(columns, 2):                                  # уникальные комбинации столбцов \n",
    "    correlations[col_a + '__' + col_b] = pearsonr(df3.loc[:, col_a], df3.loc[:, col_b])  # парные корреляции, используя scipy.stats.stats.personr\n",
    "\n",
    "result = pd.DataFrame.from_dict(correlations, orient='index')\n",
    "result.columns = ['PCC', 'p-value']\n",
    "\n",
    "result[(result['PCC'] > 0.7) | (result['PCC'] < -0.7)]"
   ]
  },
  {
   "cell_type": "markdown",
   "metadata": {},
   "source": [
    "Корреляция показала тесную связь между 8 парами признаков."
   ]
  },
  {
   "cell_type": "code",
   "execution_count": 366,
   "metadata": {
    "execution": {
     "iopub.execute_input": "2023-07-07T23:20:44.781268Z",
     "iopub.status.busy": "2023-07-07T23:20:44.780157Z",
     "iopub.status.idle": "2023-07-07T23:20:44.838922Z",
     "shell.execute_reply": "2023-07-07T23:20:44.837719Z",
     "shell.execute_reply.started": "2023-07-07T23:20:44.781217Z"
    }
   },
   "outputs": [],
   "source": [
    "# удалим некоторые признаки из пар с высокой корреляцией\n",
    "\n",
    "df3.drop('city_Vienna', axis = 1, inplace=True)"
   ]
  },
  {
   "cell_type": "code",
   "execution_count": 367,
   "metadata": {
    "execution": {
     "iopub.execute_input": "2023-07-07T23:20:44.848198Z",
     "iopub.status.busy": "2023-07-07T23:20:44.844760Z",
     "iopub.status.idle": "2023-07-07T23:20:44.888974Z",
     "shell.execute_reply": "2023-07-07T23:20:44.887902Z",
     "shell.execute_reply.started": "2023-07-07T23:20:44.848146Z"
    }
   },
   "outputs": [],
   "source": [
    "df3.drop('city_London', axis = 1, inplace=True)"
   ]
  },
  {
   "cell_type": "markdown",
   "metadata": {},
   "source": [
    "Удаление других признаков, не смотря на тесную связь, не дало улучшение метрики.  \n",
    "Нормализация и стандартизация всех признаков не привели к улудшению значения метрики."
   ]
  },
  {
   "cell_type": "code",
   "execution_count": 368,
   "metadata": {
    "execution": {
     "iopub.execute_input": "2023-07-07T23:20:44.890986Z",
     "iopub.status.busy": "2023-07-07T23:20:44.890558Z",
     "iopub.status.idle": "2023-07-07T23:20:44.967315Z",
     "shell.execute_reply": "2023-07-07T23:20:44.966098Z",
     "shell.execute_reply.started": "2023-07-07T23:20:44.890947Z"
    }
   },
   "outputs": [],
   "source": [
    "df4 = df3.copy()"
   ]
  },
  {
   "cell_type": "code",
   "execution_count": 369,
   "metadata": {
    "execution": {
     "iopub.execute_input": "2023-07-07T23:20:44.969244Z",
     "iopub.status.busy": "2023-07-07T23:20:44.968826Z",
     "iopub.status.idle": "2023-07-07T23:20:44.977249Z",
     "shell.execute_reply": "2023-07-07T23:20:44.976050Z",
     "shell.execute_reply.started": "2023-07-07T23:20:44.969202Z"
    }
   },
   "outputs": [],
   "source": [
    "# Добавим странных признаков\n",
    "\n",
    "df4['some_1'] = df4['review_total_negative_word_counts'] - df4['review_total_positive_word_counts']"
   ]
  },
  {
   "cell_type": "code",
   "execution_count": 372,
   "metadata": {
    "execution": {
     "iopub.execute_input": "2023-07-07T23:20:45.002908Z",
     "iopub.status.busy": "2023-07-07T23:20:45.002487Z",
     "iopub.status.idle": "2023-07-07T23:20:45.047079Z",
     "shell.execute_reply": "2023-07-07T23:20:45.045931Z",
     "shell.execute_reply.started": "2023-07-07T23:20:45.002869Z"
    }
   },
   "outputs": [
    {
     "name": "stdout",
     "output_type": "stream",
     "text": [
      "<class 'pandas.core.frame.DataFrame'>\n",
      "RangeIndex: 515738 entries, 0 to 515737\n",
      "Data columns (total 31 columns):\n",
      " #   Column                                      Non-Null Count   Dtype  \n",
      "---  ------                                      --------------   -----  \n",
      " 0   additional_number_of_scoring                515738 non-null  int64  \n",
      " 1   average_score                               515738 non-null  float64\n",
      " 2   review_total_negative_word_counts           515738 non-null  int64  \n",
      " 3   total_number_of_reviews                     515738 non-null  int64  \n",
      " 4   review_total_positive_word_counts           515738 non-null  int64  \n",
      " 5   total_number_of_reviews_reviewer_has_given  515738 non-null  int64  \n",
      " 6   lat                                         515738 non-null  float64\n",
      " 7   lng                                         515738 non-null  float64\n",
      " 8   sample                                      515738 non-null  int64  \n",
      " 9   reviewer_score                              515738 non-null  float64\n",
      " 10  lng_was_missing                             515738 non-null  int64  \n",
      " 11  review_month                                515738 non-null  int64  \n",
      " 12  review_day_of_wk                            515738 non-null  int64  \n",
      " 13  is_weekend                                  515738 non-null  int64  \n",
      " 14  quarter                                     515738 non-null  int64  \n",
      " 15  nights                                      515738 non-null  int64  \n",
      " 16  days_since_review_new                       515738 non-null  int64  \n",
      " 17  population                                  515738 non-null  int64  \n",
      " 18  city_Amsterdam                              515738 non-null  uint8  \n",
      " 19  city_Barcelona                              515738 non-null  uint8  \n",
      " 20  city_Milan                                  515738 non-null  uint8  \n",
      " 21  city_Paris                                  515738 non-null  uint8  \n",
      " 22  review_mood_good                            515738 non-null  int64  \n",
      " 23  review_mood_bed                             515738 non-null  int64  \n",
      " 24  neg_neg                                     515738 non-null  float64\n",
      " 25  pos_neg                                     515738 non-null  float64\n",
      " 26  compound_neg                                515738 non-null  float64\n",
      " 27  neg_pos                                     515738 non-null  float64\n",
      " 28  pos_pos                                     515738 non-null  float64\n",
      " 29  compound_pos                                515738 non-null  float64\n",
      " 30  some_1                                      515738 non-null  int64  \n",
      "dtypes: float64(10), int64(17), uint8(4)\n",
      "memory usage: 108.2 MB\n"
     ]
    }
   ],
   "source": [
    "df4.info()"
   ]
  },
  {
   "cell_type": "code",
   "execution_count": 373,
   "metadata": {
    "execution": {
     "iopub.execute_input": "2023-07-07T23:20:45.049226Z",
     "iopub.status.busy": "2023-07-07T23:20:45.048801Z",
     "iopub.status.idle": "2023-07-07T23:20:45.299540Z",
     "shell.execute_reply": "2023-07-07T23:20:45.298573Z",
     "shell.execute_reply.started": "2023-07-07T23:20:45.049195Z"
    }
   },
   "outputs": [],
   "source": [
    "# Теперь выделим тестовую часть\n",
    "train_data = df4.query('sample == 1').drop(['sample'], axis=1)\n",
    "test_data = df4.query('sample == 0').drop(['sample'], axis=1)\n",
    "\n",
    "y = train_data.reviewer_score.values            # наш таргет\n",
    "X = train_data.drop(['reviewer_score'], axis=1)"
   ]
  },
  {
   "cell_type": "code",
   "execution_count": 374,
   "metadata": {
    "execution": {
     "iopub.execute_input": "2023-07-07T23:20:45.301810Z",
     "iopub.status.busy": "2023-07-07T23:20:45.301107Z",
     "iopub.status.idle": "2023-07-07T23:20:45.423797Z",
     "shell.execute_reply": "2023-07-07T23:20:45.422724Z",
     "shell.execute_reply.started": "2023-07-07T23:20:45.301769Z"
    }
   },
   "outputs": [],
   "source": [
    "# Воспользуемся специальной функцие train_test_split для разбивки тестовых данных\n",
    "# выделим 20% данных на валидацию (параметр test_size)\n",
    "X_train, X_test, y_train, y_test = train_test_split(X, y, test_size=0.2, random_state=RANDOM_SEED)"
   ]
  },
  {
   "cell_type": "code",
   "execution_count": 375,
   "metadata": {
    "execution": {
     "iopub.execute_input": "2023-07-07T23:20:45.425448Z",
     "iopub.status.busy": "2023-07-07T23:20:45.425001Z",
     "iopub.status.idle": "2023-07-07T23:20:45.432887Z",
     "shell.execute_reply": "2023-07-07T23:20:45.431714Z",
     "shell.execute_reply.started": "2023-07-07T23:20:45.425414Z"
    }
   },
   "outputs": [
    {
     "data": {
      "text/plain": [
       "((128935, 30), (386803, 30), (386803, 29), (309442, 29), (77361, 29))"
      ]
     },
     "execution_count": 375,
     "metadata": {},
     "output_type": "execute_result"
    }
   ],
   "source": [
    "# проверяем\n",
    "test_data.shape, train_data.shape, X.shape, X_train.shape, X_test.shape"
   ]
  },
  {
   "cell_type": "code",
   "execution_count": 376,
   "metadata": {
    "execution": {
     "iopub.execute_input": "2023-07-07T23:20:45.438260Z",
     "iopub.status.busy": "2023-07-07T23:20:45.437948Z",
     "iopub.status.idle": "2023-07-07T23:20:45.491155Z",
     "shell.execute_reply": "2023-07-07T23:20:45.490319Z",
     "shell.execute_reply.started": "2023-07-07T23:20:45.438234Z"
    }
   },
   "outputs": [],
   "source": [
    "# Создаём модель (НАСТРОЙКИ НЕ ТРОГАЕМ)\n",
    "model = RandomForestRegressor(n_estimators=100, verbose=1, n_jobs=-1, random_state=RANDOM_SEED)"
   ]
  },
  {
   "cell_type": "code",
   "execution_count": 377,
   "metadata": {
    "execution": {
     "iopub.execute_input": "2023-07-07T23:20:45.493528Z",
     "iopub.status.busy": "2023-07-07T23:20:45.492966Z",
     "iopub.status.idle": "2023-07-07T23:23:57.435987Z",
     "shell.execute_reply": "2023-07-07T23:23:57.435160Z",
     "shell.execute_reply.started": "2023-07-07T23:20:45.493466Z"
    }
   },
   "outputs": [
    {
     "name": "stderr",
     "output_type": "stream",
     "text": [
      "[Parallel(n_jobs=-1)]: Using backend ThreadingBackend with 4 concurrent workers.\n",
      "[Parallel(n_jobs=-1)]: Done  42 tasks      | elapsed:  1.4min\n",
      "[Parallel(n_jobs=-1)]: Done 100 out of 100 | elapsed:  3.2min finished\n",
      "[Parallel(n_jobs=4)]: Using backend ThreadingBackend with 4 concurrent workers.\n",
      "[Parallel(n_jobs=4)]: Done  42 tasks      | elapsed:    0.7s\n",
      "[Parallel(n_jobs=4)]: Done 100 out of 100 | elapsed:    1.5s finished\n"
     ]
    }
   ],
   "source": [
    "# Обучаем модель на тестовом наборе данных\n",
    "model.fit(X_train, y_train)\n",
    "\n",
    "# Используем обученную модель для предсказания рейтинга ресторанов в тестовой выборке.\n",
    "# Предсказанные значения записываем в переменную y_pred\n",
    "y_pred = model.predict(X_test)"
   ]
  },
  {
   "cell_type": "code",
   "execution_count": 378,
   "metadata": {
    "execution": {
     "iopub.execute_input": "2023-07-07T23:23:57.437320Z",
     "iopub.status.busy": "2023-07-07T23:23:57.437005Z",
     "iopub.status.idle": "2023-07-07T23:23:57.445332Z",
     "shell.execute_reply": "2023-07-07T23:23:57.444287Z",
     "shell.execute_reply.started": "2023-07-07T23:23:57.437291Z"
    }
   },
   "outputs": [
    {
     "name": "stdout",
     "output_type": "stream",
     "text": [
      "MAPE: 12.566087685771299\n"
     ]
    }
   ],
   "source": [
    "# Сравниваем предсказанные значения (y_pred) с реальными (y_test), и смотрим насколько они отличаются  \n",
    "# Метрика называется Mean Absolute Percentage Error (MAPE) и показывает среднюю абсолютную процентную ошибку предсказанных значений от фактических.  \n",
    "def MAPE(y_test, y_pred): \n",
    "    y_true, y_pred = np.array(y_test), np.array(y_pred)\n",
    "    return np.mean(np.abs((y_test - y_pred) / y_test))*100\n",
    "print('MAPE:', (MAPE(y_test, y_pred)))"
   ]
  },
  {
   "cell_type": "code",
   "execution_count": 379,
   "metadata": {
    "execution": {
     "iopub.execute_input": "2023-07-07T23:23:57.447264Z",
     "iopub.status.busy": "2023-07-07T23:23:57.446932Z",
     "iopub.status.idle": "2023-07-07T23:23:57.956621Z",
     "shell.execute_reply": "2023-07-07T23:23:57.955770Z",
     "shell.execute_reply.started": "2023-07-07T23:23:57.447236Z"
    }
   },
   "outputs": [
    {
     "data": {
      "text/plain": [
       "<Axes: >"
      ]
     },
     "execution_count": 379,
     "metadata": {},
     "output_type": "execute_result"
    },
    {
     "data": {
      "image/png": "[encoded data removed]",
      "text/plain": [
       "<Figure size 1000x1000 with 1 Axes>"
      ]
     },
     "metadata": {},
     "output_type": "display_data"
    }
   ],
   "source": [
    "# в RandomForestRegressor есть возможность вывести самые важные признаки для модели\n",
    "plt.rcParams['figure.figsize'] = (10,10)\n",
    "feat_importances = pd.Series(model.feature_importances_, index=X.columns)\n",
    "feat_importances.nlargest(15).plot(kind='barh')"
   ]
  },
  {
   "cell_type": "code",
   "execution_count": 380,
   "metadata": {
    "execution": {
     "iopub.execute_input": "2023-07-07T23:23:57.958838Z",
     "iopub.status.busy": "2023-07-07T23:23:57.957925Z",
     "iopub.status.idle": "2023-07-07T23:23:57.990883Z",
     "shell.execute_reply": "2023-07-07T23:23:57.989787Z",
     "shell.execute_reply.started": "2023-07-07T23:23:57.958806Z"
    }
   },
   "outputs": [
    {
     "data": {
      "text/html": [
       "<div>\n",
       "<style scoped>\n",
       "    .dataframe tbody tr th:only-of-type {\n",
       "        vertical-align: middle;\n",
       "    }\n",
       "\n",
       "    .dataframe tbody tr th {\n",
       "        vertical-align: top;\n",
       "    }\n",
       "\n",
       "    .dataframe thead th {\n",
       "        text-align: right;\n",
       "    }\n",
       "</style>\n",
       "<table border=\"1\" class=\"dataframe\">\n",
       "  <thead>\n",
       "    <tr style=\"text-align: right;\">\n",
       "      <th></th>\n",
       "      <th>additional_number_of_scoring</th>\n",
       "      <th>average_score</th>\n",
       "      <th>review_total_negative_word_counts</th>\n",
       "      <th>total_number_of_reviews</th>\n",
       "      <th>review_total_positive_word_counts</th>\n",
       "      <th>total_number_of_reviews_reviewer_has_given</th>\n",
       "      <th>lat</th>\n",
       "      <th>lng</th>\n",
       "      <th>reviewer_score</th>\n",
       "      <th>lng_was_missing</th>\n",
       "      <th>...</th>\n",
       "      <th>city_Paris</th>\n",
       "      <th>review_mood_good</th>\n",
       "      <th>review_mood_bed</th>\n",
       "      <th>neg_neg</th>\n",
       "      <th>pos_neg</th>\n",
       "      <th>compound_neg</th>\n",
       "      <th>neg_pos</th>\n",
       "      <th>pos_pos</th>\n",
       "      <th>compound_pos</th>\n",
       "      <th>some_1</th>\n",
       "    </tr>\n",
       "  </thead>\n",
       "  <tbody>\n",
       "    <tr>\n",
       "      <th>80513</th>\n",
       "      <td>360</td>\n",
       "      <td>8.3</td>\n",
       "      <td>12</td>\n",
       "      <td>1181</td>\n",
       "      <td>0</td>\n",
       "      <td>1</td>\n",
       "      <td>51.475172</td>\n",
       "      <td>-0.187063</td>\n",
       "      <td>0.0</td>\n",
       "      <td>0</td>\n",
       "      <td>...</td>\n",
       "      <td>0</td>\n",
       "      <td>0</td>\n",
       "      <td>0</td>\n",
       "      <td>0.000</td>\n",
       "      <td>0.000</td>\n",
       "      <td>0.0000</td>\n",
       "      <td>0.379</td>\n",
       "      <td>0.621</td>\n",
       "      <td>0.3400</td>\n",
       "      <td>12</td>\n",
       "    </tr>\n",
       "    <tr>\n",
       "      <th>69806</th>\n",
       "      <td>531</td>\n",
       "      <td>9.0</td>\n",
       "      <td>0</td>\n",
       "      <td>2298</td>\n",
       "      <td>11</td>\n",
       "      <td>2</td>\n",
       "      <td>51.512196</td>\n",
       "      <td>-0.131838</td>\n",
       "      <td>0.0</td>\n",
       "      <td>0</td>\n",
       "      <td>...</td>\n",
       "      <td>0</td>\n",
       "      <td>0</td>\n",
       "      <td>1</td>\n",
       "      <td>1.000</td>\n",
       "      <td>0.000</td>\n",
       "      <td>-0.7096</td>\n",
       "      <td>0.223</td>\n",
       "      <td>0.281</td>\n",
       "      <td>0.1779</td>\n",
       "      <td>-11</td>\n",
       "    </tr>\n",
       "    <tr>\n",
       "      <th>60045</th>\n",
       "      <td>914</td>\n",
       "      <td>8.5</td>\n",
       "      <td>2</td>\n",
       "      <td>7586</td>\n",
       "      <td>2</td>\n",
       "      <td>8</td>\n",
       "      <td>52.385601</td>\n",
       "      <td>4.847060</td>\n",
       "      <td>0.0</td>\n",
       "      <td>0</td>\n",
       "      <td>...</td>\n",
       "      <td>0</td>\n",
       "      <td>0</td>\n",
       "      <td>0</td>\n",
       "      <td>0.000</td>\n",
       "      <td>0.000</td>\n",
       "      <td>0.0000</td>\n",
       "      <td>0.000</td>\n",
       "      <td>0.000</td>\n",
       "      <td>0.0000</td>\n",
       "      <td>0</td>\n",
       "    </tr>\n",
       "    <tr>\n",
       "      <th>2808</th>\n",
       "      <td>685</td>\n",
       "      <td>8.6</td>\n",
       "      <td>18</td>\n",
       "      <td>2277</td>\n",
       "      <td>6</td>\n",
       "      <td>4</td>\n",
       "      <td>51.532251</td>\n",
       "      <td>-0.109571</td>\n",
       "      <td>0.0</td>\n",
       "      <td>0</td>\n",
       "      <td>...</td>\n",
       "      <td>0</td>\n",
       "      <td>1</td>\n",
       "      <td>0</td>\n",
       "      <td>0.000</td>\n",
       "      <td>0.000</td>\n",
       "      <td>0.0000</td>\n",
       "      <td>0.000</td>\n",
       "      <td>0.000</td>\n",
       "      <td>0.0000</td>\n",
       "      <td>12</td>\n",
       "    </tr>\n",
       "    <tr>\n",
       "      <th>17543</th>\n",
       "      <td>391</td>\n",
       "      <td>8.6</td>\n",
       "      <td>6</td>\n",
       "      <td>2685</td>\n",
       "      <td>8</td>\n",
       "      <td>1</td>\n",
       "      <td>51.490105</td>\n",
       "      <td>-0.138135</td>\n",
       "      <td>0.0</td>\n",
       "      <td>0</td>\n",
       "      <td>...</td>\n",
       "      <td>0</td>\n",
       "      <td>2</td>\n",
       "      <td>0</td>\n",
       "      <td>0.000</td>\n",
       "      <td>0.000</td>\n",
       "      <td>0.0000</td>\n",
       "      <td>0.000</td>\n",
       "      <td>0.643</td>\n",
       "      <td>0.8016</td>\n",
       "      <td>-2</td>\n",
       "    </tr>\n",
       "    <tr>\n",
       "      <th>23434</th>\n",
       "      <td>40</td>\n",
       "      <td>8.8</td>\n",
       "      <td>7</td>\n",
       "      <td>221</td>\n",
       "      <td>4</td>\n",
       "      <td>8</td>\n",
       "      <td>48.845279</td>\n",
       "      <td>2.342295</td>\n",
       "      <td>0.0</td>\n",
       "      <td>0</td>\n",
       "      <td>...</td>\n",
       "      <td>1</td>\n",
       "      <td>0</td>\n",
       "      <td>0</td>\n",
       "      <td>0.000</td>\n",
       "      <td>0.000</td>\n",
       "      <td>0.0000</td>\n",
       "      <td>0.000</td>\n",
       "      <td>0.000</td>\n",
       "      <td>0.0000</td>\n",
       "      <td>3</td>\n",
       "    </tr>\n",
       "    <tr>\n",
       "      <th>54486</th>\n",
       "      <td>194</td>\n",
       "      <td>8.4</td>\n",
       "      <td>0</td>\n",
       "      <td>1431</td>\n",
       "      <td>8</td>\n",
       "      <td>1</td>\n",
       "      <td>48.855312</td>\n",
       "      <td>2.325463</td>\n",
       "      <td>0.0</td>\n",
       "      <td>0</td>\n",
       "      <td>...</td>\n",
       "      <td>1</td>\n",
       "      <td>1</td>\n",
       "      <td>1</td>\n",
       "      <td>1.000</td>\n",
       "      <td>0.000</td>\n",
       "      <td>-0.7096</td>\n",
       "      <td>0.000</td>\n",
       "      <td>0.600</td>\n",
       "      <td>0.7184</td>\n",
       "      <td>-8</td>\n",
       "    </tr>\n",
       "    <tr>\n",
       "      <th>119383</th>\n",
       "      <td>152</td>\n",
       "      <td>9.0</td>\n",
       "      <td>34</td>\n",
       "      <td>1682</td>\n",
       "      <td>11</td>\n",
       "      <td>61</td>\n",
       "      <td>48.832876</td>\n",
       "      <td>2.357253</td>\n",
       "      <td>0.0</td>\n",
       "      <td>0</td>\n",
       "      <td>...</td>\n",
       "      <td>1</td>\n",
       "      <td>4</td>\n",
       "      <td>1</td>\n",
       "      <td>0.138</td>\n",
       "      <td>0.091</td>\n",
       "      <td>-0.1779</td>\n",
       "      <td>0.000</td>\n",
       "      <td>0.640</td>\n",
       "      <td>0.8923</td>\n",
       "      <td>23</td>\n",
       "    </tr>\n",
       "    <tr>\n",
       "      <th>41794</th>\n",
       "      <td>488</td>\n",
       "      <td>8.2</td>\n",
       "      <td>42</td>\n",
       "      <td>4645</td>\n",
       "      <td>6</td>\n",
       "      <td>3</td>\n",
       "      <td>41.411165</td>\n",
       "      <td>2.219201</td>\n",
       "      <td>0.0</td>\n",
       "      <td>0</td>\n",
       "      <td>...</td>\n",
       "      <td>0</td>\n",
       "      <td>1</td>\n",
       "      <td>2</td>\n",
       "      <td>0.184</td>\n",
       "      <td>0.105</td>\n",
       "      <td>-0.3950</td>\n",
       "      <td>0.000</td>\n",
       "      <td>0.000</td>\n",
       "      <td>0.0000</td>\n",
       "      <td>36</td>\n",
       "    </tr>\n",
       "    <tr>\n",
       "      <th>76359</th>\n",
       "      <td>688</td>\n",
       "      <td>7.8</td>\n",
       "      <td>3</td>\n",
       "      <td>2147</td>\n",
       "      <td>3</td>\n",
       "      <td>2</td>\n",
       "      <td>51.531979</td>\n",
       "      <td>-0.061598</td>\n",
       "      <td>0.0</td>\n",
       "      <td>0</td>\n",
       "      <td>...</td>\n",
       "      <td>0</td>\n",
       "      <td>1</td>\n",
       "      <td>0</td>\n",
       "      <td>0.756</td>\n",
       "      <td>0.000</td>\n",
       "      <td>-0.4767</td>\n",
       "      <td>0.000</td>\n",
       "      <td>0.737</td>\n",
       "      <td>0.4215</td>\n",
       "      <td>0</td>\n",
       "    </tr>\n",
       "  </tbody>\n",
       "</table>\n",
       "<p>10 rows × 30 columns</p>\n",
       "</div>"
      ],
      "text/plain": [
       "        additional_number_of_scoring  average_score  \\\n",
       "80513                            360            8.3   \n",
       "69806                            531            9.0   \n",
       "60045                            914            8.5   \n",
       "2808                             685            8.6   \n",
       "17543                            391            8.6   \n",
       "23434                             40            8.8   \n",
       "54486                            194            8.4   \n",
       "119383                           152            9.0   \n",
       "41794                            488            8.2   \n",
       "76359                            688            7.8   \n",
       "\n",
       "        review_total_negative_word_counts  total_number_of_reviews  \\\n",
       "80513                                  12                     1181   \n",
       "69806                                   0                     2298   \n",
       "60045                                   2                     7586   \n",
       "2808                                   18                     2277   \n",
       "17543                                   6                     2685   \n",
       "23434                                   7                      221   \n",
       "54486                                   0                     1431   \n",
       "119383                                 34                     1682   \n",
       "41794                                  42                     4645   \n",
       "76359                                   3                     2147   \n",
       "\n",
       "        review_total_positive_word_counts  \\\n",
       "80513                                   0   \n",
       "69806                                  11   \n",
       "60045                                   2   \n",
       "2808                                    6   \n",
       "17543                                   8   \n",
       "23434                                   4   \n",
       "54486                                   8   \n",
       "119383                                 11   \n",
       "41794                                   6   \n",
       "76359                                   3   \n",
       "\n",
       "        total_number_of_reviews_reviewer_has_given        lat       lng  \\\n",
       "80513                                            1  51.475172 -0.187063   \n",
       "69806                                            2  51.512196 -0.131838   \n",
       "60045                                            8  52.385601  4.847060   \n",
       "2808                                             4  51.532251 -0.109571   \n",
       "17543                                            1  51.490105 -0.138135   \n",
       "23434                                            8  48.845279  2.342295   \n",
       "54486                                            1  48.855312  2.325463   \n",
       "119383                                          61  48.832876  2.357253   \n",
       "41794                                            3  41.411165  2.219201   \n",
       "76359                                            2  51.531979 -0.061598   \n",
       "\n",
       "        reviewer_score  lng_was_missing  ...  city_Paris  review_mood_good  \\\n",
       "80513              0.0                0  ...           0                 0   \n",
       "69806              0.0                0  ...           0                 0   \n",
       "60045              0.0                0  ...           0                 0   \n",
       "2808               0.0                0  ...           0                 1   \n",
       "17543              0.0                0  ...           0                 2   \n",
       "23434              0.0                0  ...           1                 0   \n",
       "54486              0.0                0  ...           1                 1   \n",
       "119383             0.0                0  ...           1                 4   \n",
       "41794              0.0                0  ...           0                 1   \n",
       "76359              0.0                0  ...           0                 1   \n",
       "\n",
       "        review_mood_bed  neg_neg  pos_neg  compound_neg  neg_pos  pos_pos  \\\n",
       "80513                 0    0.000    0.000        0.0000    0.379    0.621   \n",
       "69806                 1    1.000    0.000       -0.7096    0.223    0.281   \n",
       "60045                 0    0.000    0.000        0.0000    0.000    0.000   \n",
       "2808                  0    0.000    0.000        0.0000    0.000    0.000   \n",
       "17543                 0    0.000    0.000        0.0000    0.000    0.643   \n",
       "23434                 0    0.000    0.000        0.0000    0.000    0.000   \n",
       "54486                 1    1.000    0.000       -0.7096    0.000    0.600   \n",
       "119383                1    0.138    0.091       -0.1779    0.000    0.640   \n",
       "41794                 2    0.184    0.105       -0.3950    0.000    0.000   \n",
       "76359                 0    0.756    0.000       -0.4767    0.000    0.737   \n",
       "\n",
       "        compound_pos  some_1  \n",
       "80513         0.3400      12  \n",
       "69806         0.1779     -11  \n",
       "60045         0.0000       0  \n",
       "2808          0.0000      12  \n",
       "17543         0.8016      -2  \n",
       "23434         0.0000       3  \n",
       "54486         0.7184      -8  \n",
       "119383        0.8923      23  \n",
       "41794         0.0000      36  \n",
       "76359         0.4215       0  \n",
       "\n",
       "[10 rows x 30 columns]"
      ]
     },
     "execution_count": 380,
     "metadata": {},
     "output_type": "execute_result"
    }
   ],
   "source": [
    "test_data.sample(10)"
   ]
  },
  {
   "cell_type": "code",
   "execution_count": 381,
   "metadata": {
    "execution": {
     "iopub.execute_input": "2023-07-07T23:23:57.992643Z",
     "iopub.status.busy": "2023-07-07T23:23:57.992262Z",
     "iopub.status.idle": "2023-07-07T23:23:58.003068Z",
     "shell.execute_reply": "2023-07-07T23:23:58.002337Z",
     "shell.execute_reply.started": "2023-07-07T23:23:57.992614Z"
    }
   },
   "outputs": [],
   "source": [
    "test_data = test_data.drop(['reviewer_score'], axis=1)"
   ]
  },
  {
   "cell_type": "code",
   "execution_count": 382,
   "metadata": {
    "execution": {
     "iopub.execute_input": "2023-07-07T23:23:58.004743Z",
     "iopub.status.busy": "2023-07-07T23:23:58.004243Z",
     "iopub.status.idle": "2023-07-07T23:23:58.019210Z",
     "shell.execute_reply": "2023-07-07T23:23:58.018198Z",
     "shell.execute_reply.started": "2023-07-07T23:23:58.004714Z"
    }
   },
   "outputs": [
    {
     "data": {
      "text/plain": [
       "128935"
      ]
     },
     "execution_count": 382,
     "metadata": {},
     "output_type": "execute_result"
    }
   ],
   "source": [
    "len(sample_submission)"
   ]
  },
  {
   "cell_type": "code",
   "execution_count": 383,
   "metadata": {
    "execution": {
     "iopub.execute_input": "2023-07-07T23:23:58.022131Z",
     "iopub.status.busy": "2023-07-07T23:23:58.020920Z",
     "iopub.status.idle": "2023-07-07T23:24:00.471709Z",
     "shell.execute_reply": "2023-07-07T23:24:00.470556Z",
     "shell.execute_reply.started": "2023-07-07T23:23:58.022099Z"
    }
   },
   "outputs": [
    {
     "name": "stderr",
     "output_type": "stream",
     "text": [
      "[Parallel(n_jobs=4)]: Using backend ThreadingBackend with 4 concurrent workers.\n",
      "[Parallel(n_jobs=4)]: Done  42 tasks      | elapsed:    1.1s\n",
      "[Parallel(n_jobs=4)]: Done 100 out of 100 | elapsed:    2.4s finished\n"
     ]
    }
   ],
   "source": [
    "predict_submission = model.predict(test_data)"
   ]
  },
  {
   "cell_type": "code",
   "execution_count": 384,
   "metadata": {
    "execution": {
     "iopub.execute_input": "2023-07-07T23:24:00.473329Z",
     "iopub.status.busy": "2023-07-07T23:24:00.472918Z",
     "iopub.status.idle": "2023-07-07T23:24:00.483158Z",
     "shell.execute_reply": "2023-07-07T23:24:00.482172Z",
     "shell.execute_reply.started": "2023-07-07T23:24:00.473290Z"
    }
   },
   "outputs": [
    {
     "data": {
      "text/plain": [
       "128935"
      ]
     },
     "execution_count": 384,
     "metadata": {},
     "output_type": "execute_result"
    }
   ],
   "source": [
    "len(predict_submission)"
   ]
  },
  {
   "cell_type": "code",
   "execution_count": 385,
   "metadata": {
    "execution": {
     "iopub.execute_input": "2023-07-07T23:24:00.484620Z",
     "iopub.status.busy": "2023-07-07T23:24:00.484189Z",
     "iopub.status.idle": "2023-07-07T23:24:00.804865Z",
     "shell.execute_reply": "2023-07-07T23:24:00.803741Z",
     "shell.execute_reply.started": "2023-07-07T23:24:00.484581Z"
    }
   },
   "outputs": [
    {
     "data": {
      "text/html": [
       "<div>\n",
       "<style scoped>\n",
       "    .dataframe tbody tr th:only-of-type {\n",
       "        vertical-align: middle;\n",
       "    }\n",
       "\n",
       "    .dataframe tbody tr th {\n",
       "        vertical-align: top;\n",
       "    }\n",
       "\n",
       "    .dataframe thead th {\n",
       "        text-align: right;\n",
       "    }\n",
       "</style>\n",
       "<table border=\"1\" class=\"dataframe\">\n",
       "  <thead>\n",
       "    <tr style=\"text-align: right;\">\n",
       "      <th></th>\n",
       "      <th>reviewer_score</th>\n",
       "      <th>id</th>\n",
       "    </tr>\n",
       "  </thead>\n",
       "  <tbody>\n",
       "    <tr>\n",
       "      <th>0</th>\n",
       "      <td>8.646</td>\n",
       "      <td>488440</td>\n",
       "    </tr>\n",
       "    <tr>\n",
       "      <th>1</th>\n",
       "      <td>7.273</td>\n",
       "      <td>274649</td>\n",
       "    </tr>\n",
       "    <tr>\n",
       "      <th>2</th>\n",
       "      <td>8.659</td>\n",
       "      <td>374688</td>\n",
       "    </tr>\n",
       "    <tr>\n",
       "      <th>3</th>\n",
       "      <td>9.761</td>\n",
       "      <td>404352</td>\n",
       "    </tr>\n",
       "    <tr>\n",
       "      <th>4</th>\n",
       "      <td>9.534</td>\n",
       "      <td>451596</td>\n",
       "    </tr>\n",
       "    <tr>\n",
       "      <th>5</th>\n",
       "      <td>8.881</td>\n",
       "      <td>302161</td>\n",
       "    </tr>\n",
       "    <tr>\n",
       "      <th>6</th>\n",
       "      <td>7.659</td>\n",
       "      <td>317079</td>\n",
       "    </tr>\n",
       "    <tr>\n",
       "      <th>7</th>\n",
       "      <td>7.719</td>\n",
       "      <td>13963</td>\n",
       "    </tr>\n",
       "    <tr>\n",
       "      <th>8</th>\n",
       "      <td>8.031</td>\n",
       "      <td>159785</td>\n",
       "    </tr>\n",
       "    <tr>\n",
       "      <th>9</th>\n",
       "      <td>7.124</td>\n",
       "      <td>195089</td>\n",
       "    </tr>\n",
       "  </tbody>\n",
       "</table>\n",
       "</div>"
      ],
      "text/plain": [
       "   reviewer_score      id\n",
       "0           8.646  488440\n",
       "1           7.273  274649\n",
       "2           8.659  374688\n",
       "3           9.761  404352\n",
       "4           9.534  451596\n",
       "5           8.881  302161\n",
       "6           7.659  317079\n",
       "7           7.719   13963\n",
       "8           8.031  159785\n",
       "9           7.124  195089"
      ]
     },
     "execution_count": 385,
     "metadata": {},
     "output_type": "execute_result"
    }
   ],
   "source": [
    "sample_submission['reviewer_score'] = predict_submission\n",
    "sample_submission.to_csv('submission.csv', index=False)\n",
    "sample_submission.head(10)"
   ]
  }
 ],
 "metadata": {
  "kernelspec": {
   "display_name": "Python 3 (ipykernel)",
   "language": "python",
   "name": "python3"
  },
  "language_info": {
   "codemirror_mode": {
    "name": "ipython",
    "version": 3
   },
   "file_extension": ".py",
   "mimetype": "text/x-python",
   "name": "python",
   "nbconvert_exporter": "python",
   "pygments_lexer": "ipython3",
   "version": "3.10.9"
  }
 },
 "nbformat": 4,
 "nbformat_minor": 4
}
