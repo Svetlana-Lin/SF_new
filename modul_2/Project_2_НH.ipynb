{
 "cells": [
  {
   "cell_type": "markdown",
   "id": "42289889-bd57-434e-9637-d3e354756316",
   "metadata": {
    "id": "42289889-bd57-434e-9637-d3e354756316"
   },
   "source": [
    "<center> <img src = https://raw.githubusercontent.com/AndreyRysistov/DatasetsForPandas/main/hh%20label.jpg alt=\"drawing\" style=\"width:400px;\">"
   ]
  },
  {
   "cell_type": "markdown",
   "id": "829cb75b-f14e-4ba8-9195-7ba929a7d656",
   "metadata": {
    "id": "829cb75b-f14e-4ba8-9195-7ba929a7d656",
    "tags": []
   },
   "source": [
    "# <center> Проект: Анализ вакансий из HeadHunter\n",
    "   "
   ]
  },
  {
   "cell_type": "code",
   "execution_count": 1,
   "id": "dccfde33-2452-43fb-a8a5-5c6ebc02a71d",
   "metadata": {
    "id": "dccfde33-2452-43fb-a8a5-5c6ebc02a71d"
   },
   "outputs": [],
   "source": [
    "import pandas as pd \n",
    "import psycopg2\n",
    "\n",
    "from sqlalchemy import create_engine, text\n",
    "\n",
    "import urllib.parse as req\n",
    "import requests\n",
    "\n",
    "pd.set_option('display.max_colwidth', None)"
   ]
  },
  {
   "cell_type": "code",
   "execution_count": 3,
   "id": "G4X_q8KBf7SF",
   "metadata": {
    "id": "G4X_q8KBf7SF"
   },
   "outputs": [],
   "source": [
    "connection = f\"postgresql+psycopg2://{d['user']}:{d['password']}@{d['host']}:{d['port']}/{d['dbname']}\""
   ]
  },
  {
   "cell_type": "markdown",
   "id": "0dc6476b-7a00-44f1-ac93-6e3baed33a29",
   "metadata": {
    "id": "0dc6476b-7a00-44f1-ac93-6e3baed33a29"
   },
   "source": [
    "# Юнит 3. Предварительный анализ данных"
   ]
  },
  {
   "cell_type": "markdown",
   "id": "889782b6-8d1c-410e-8920-e57f27917c64",
   "metadata": {
    "id": "889782b6-8d1c-410e-8920-e57f27917c64"
   },
   "source": [
    "1. Напишите запрос, который посчитает количество вакансий в нашей базе (вакансии находятся в таблице vacancies). "
   ]
  },
  {
   "cell_type": "code",
   "execution_count": 4,
   "id": "bc39e68e-ed02-4ee2-9235-7258a2f867a8",
   "metadata": {
    "id": "bc39e68e-ed02-4ee2-9235-7258a2f867a8"
   },
   "outputs": [],
   "source": [
    "query_vac = f'''select count(*)      -- конкретный столбец можно не выбирать, результат будет одиновым для всех столбцов\n",
    "            from public.vacancies\n",
    "'''"
   ]
  },
  {
   "cell_type": "code",
   "execution_count": 5,
   "id": "7mAwtsk4hEHY",
   "metadata": {
    "id": "7mAwtsk4hEHY"
   },
   "outputs": [
    {
     "data": {
      "text/html": [
       "<div>\n",
       "<style scoped>\n",
       "    .dataframe tbody tr th:only-of-type {\n",
       "        vertical-align: middle;\n",
       "    }\n",
       "\n",
       "    .dataframe tbody tr th {\n",
       "        vertical-align: top;\n",
       "    }\n",
       "\n",
       "    .dataframe thead th {\n",
       "        text-align: right;\n",
       "    }\n",
       "</style>\n",
       "<table border=\"1\" class=\"dataframe\">\n",
       "  <thead>\n",
       "    <tr style=\"text-align: right;\">\n",
       "      <th></th>\n",
       "      <th>count</th>\n",
       "    </tr>\n",
       "  </thead>\n",
       "  <tbody>\n",
       "    <tr>\n",
       "      <th>0</th>\n",
       "      <td>49197</td>\n",
       "    </tr>\n",
       "  </tbody>\n",
       "</table>\n",
       "</div>"
      ],
      "text/plain": [
       "   count\n",
       "0  49197"
      ]
     },
     "execution_count": 5,
     "metadata": {},
     "output_type": "execute_result"
    }
   ],
   "source": [
    "df_vac= pd.read_sql_query(query_vac, connection)\n",
    "df_vac"
   ]
  },
  {
   "cell_type": "markdown",
   "id": "b583485d-1f9e-494e-ada4-80ffff7c53d6",
   "metadata": {
    "id": "b583485d-1f9e-494e-ada4-80ffff7c53d6"
   },
   "source": [
    "2. Напишите запрос, который посчитает количество работодателей (таблица employers). "
   ]
  },
  {
   "cell_type": "code",
   "execution_count": 6,
   "id": "5408c52c-3407-4a63-b25b-1aafa2322d28",
   "metadata": {
    "id": "5408c52c-3407-4a63-b25b-1aafa2322d28"
   },
   "outputs": [],
   "source": [
    "query_emp = f'''select count(*)\n",
    "            from public.employers\n",
    "'''"
   ]
  },
  {
   "cell_type": "code",
   "execution_count": 7,
   "id": "jVL4eshKhdqc",
   "metadata": {
    "id": "jVL4eshKhdqc"
   },
   "outputs": [
    {
     "data": {
      "text/html": [
       "<div>\n",
       "<style scoped>\n",
       "    .dataframe tbody tr th:only-of-type {\n",
       "        vertical-align: middle;\n",
       "    }\n",
       "\n",
       "    .dataframe tbody tr th {\n",
       "        vertical-align: top;\n",
       "    }\n",
       "\n",
       "    .dataframe thead th {\n",
       "        text-align: right;\n",
       "    }\n",
       "</style>\n",
       "<table border=\"1\" class=\"dataframe\">\n",
       "  <thead>\n",
       "    <tr style=\"text-align: right;\">\n",
       "      <th></th>\n",
       "      <th>count</th>\n",
       "    </tr>\n",
       "  </thead>\n",
       "  <tbody>\n",
       "    <tr>\n",
       "      <th>0</th>\n",
       "      <td>23501</td>\n",
       "    </tr>\n",
       "  </tbody>\n",
       "</table>\n",
       "</div>"
      ],
      "text/plain": [
       "   count\n",
       "0  23501"
      ]
     },
     "execution_count": 7,
     "metadata": {},
     "output_type": "execute_result"
    }
   ],
   "source": [
    "df_emp= pd.read_sql_query(query_emp, connection)\n",
    "df_emp"
   ]
  },
  {
   "cell_type": "markdown",
   "id": "a2bfff1f-c975-4bf6-84be-2185d79dcb76",
   "metadata": {
    "id": "a2bfff1f-c975-4bf6-84be-2185d79dcb76"
   },
   "source": [
    "3. Посчитате с помощью запроса количество регионов (таблица areas)."
   ]
  },
  {
   "cell_type": "code",
   "execution_count": 8,
   "id": "1m8QJwBYhey6",
   "metadata": {
    "id": "1m8QJwBYhey6"
   },
   "outputs": [],
   "source": [
    "query_ar = f'''select count(distinct (id))   -- покольку нужны регионы без дублирования счетчик дополняется distinct (id)\n",
    "            from public.areas\n",
    "            '''"
   ]
  },
  {
   "cell_type": "code",
   "execution_count": 9,
   "id": "EZsn9tlfhe7f",
   "metadata": {
    "id": "EZsn9tlfhe7f"
   },
   "outputs": [
    {
     "data": {
      "text/html": [
       "<div>\n",
       "<style scoped>\n",
       "    .dataframe tbody tr th:only-of-type {\n",
       "        vertical-align: middle;\n",
       "    }\n",
       "\n",
       "    .dataframe tbody tr th {\n",
       "        vertical-align: top;\n",
       "    }\n",
       "\n",
       "    .dataframe thead th {\n",
       "        text-align: right;\n",
       "    }\n",
       "</style>\n",
       "<table border=\"1\" class=\"dataframe\">\n",
       "  <thead>\n",
       "    <tr style=\"text-align: right;\">\n",
       "      <th></th>\n",
       "      <th>count</th>\n",
       "    </tr>\n",
       "  </thead>\n",
       "  <tbody>\n",
       "    <tr>\n",
       "      <th>0</th>\n",
       "      <td>1362</td>\n",
       "    </tr>\n",
       "  </tbody>\n",
       "</table>\n",
       "</div>"
      ],
      "text/plain": [
       "   count\n",
       "0   1362"
      ]
     },
     "execution_count": 9,
     "metadata": {},
     "output_type": "execute_result"
    }
   ],
   "source": [
    "df_ar= pd.read_sql_query(query_ar, connection)\n",
    "df_ar"
   ]
  },
  {
   "cell_type": "markdown",
   "id": "41bb59f3-53cc-4a67-a5bc-bedf573955e4",
   "metadata": {
    "id": "41bb59f3-53cc-4a67-a5bc-bedf573955e4"
   },
   "source": [
    "4. Посчитате с помощью запроса количество сфер деятельности в базе (таблица industries)."
   ]
  },
  {
   "cell_type": "code",
   "execution_count": 10,
   "id": "d286cf4c-707b-4cd2-9190-7ab3587d04a1",
   "metadata": {
    "id": "d286cf4c-707b-4cd2-9190-7ab3587d04a1"
   },
   "outputs": [],
   "source": [
    "query_ind = f'''select count(*)   \n",
    "            from public.industries\n",
    "            '''"
   ]
  },
  {
   "cell_type": "code",
   "execution_count": 11,
   "id": "JYAaoZ4qhfzW",
   "metadata": {
    "id": "JYAaoZ4qhfzW"
   },
   "outputs": [
    {
     "data": {
      "text/html": [
       "<div>\n",
       "<style scoped>\n",
       "    .dataframe tbody tr th:only-of-type {\n",
       "        vertical-align: middle;\n",
       "    }\n",
       "\n",
       "    .dataframe tbody tr th {\n",
       "        vertical-align: top;\n",
       "    }\n",
       "\n",
       "    .dataframe thead th {\n",
       "        text-align: right;\n",
       "    }\n",
       "</style>\n",
       "<table border=\"1\" class=\"dataframe\">\n",
       "  <thead>\n",
       "    <tr style=\"text-align: right;\">\n",
       "      <th></th>\n",
       "      <th>count</th>\n",
       "    </tr>\n",
       "  </thead>\n",
       "  <tbody>\n",
       "    <tr>\n",
       "      <th>0</th>\n",
       "      <td>294</td>\n",
       "    </tr>\n",
       "  </tbody>\n",
       "</table>\n",
       "</div>"
      ],
      "text/plain": [
       "   count\n",
       "0    294"
      ]
     },
     "execution_count": 11,
     "metadata": {},
     "output_type": "execute_result"
    }
   ],
   "source": [
    "df_ind= pd.read_sql_query(query_ind, connection)\n",
    "df_ind"
   ]
  },
  {
   "cell_type": "markdown",
   "id": "9a8a2181-6914-448b-85f1-38f5f18b8a93",
   "metadata": {
    "id": "9a8a2181-6914-448b-85f1-38f5f18b8a93"
   },
   "source": [
    "***"
   ]
  },
  {
   "cell_type": "markdown",
   "id": "761ed846-93f0-44b3-b695-e23f41493990",
   "metadata": {
    "id": "be4e9bd3-a4db-4a20-82fb-6b02fc2957e0"
   },
   "source": [
    "# выводы по предварительному анализу данных\n",
    "\n",
    "Всего в базе 49 197 вакансии от 23 501 работодателя в 294 сферах.  \n",
    "Вакансии и работодатели представлены в 1 362 регионах."
   ]
  },
  {
   "cell_type": "markdown",
   "id": "8d62a9f3-f64e-4fe7-bdac-c4dffa16155e",
   "metadata": {
    "id": "8d62a9f3-f64e-4fe7-bdac-c4dffa16155e"
   },
   "source": [
    "# Юнит 4. Детальный анализ вакансий"
   ]
  },
  {
   "cell_type": "markdown",
   "id": "93053d3d-b284-481a-9cf7-012d7014c0e0",
   "metadata": {
    "id": "93053d3d-b284-481a-9cf7-012d7014c0e0"
   },
   "source": [
    "1. Напишите запрос, который позволит узнать, сколько (cnt) вакансий в каждом регионе (area).\n",
    "Отсортируйте по количеству вакансий в порядке убывания."
   ]
  },
  {
   "cell_type": "code",
   "execution_count": 12,
   "id": "3f069da6-fdc9-4ae7-b514-fafe2675efd3",
   "metadata": {
    "id": "3f069da6-fdc9-4ae7-b514-fafe2675efd3"
   },
   "outputs": [],
   "source": [
    "query_vac_gr = f'''select \n",
    "                    a.name as area,                              -- название региона\n",
    "                    count(*) as cnt                              -- общий счетчик\n",
    "                from public.vacancies as v                       -- присоединяем к вакансиям методом join\n",
    "                    join public.areas as a on v.area_id = a.id   -- регионы, т.к. регионы без вакансии нас не интересуют \n",
    "                group by \n",
    "                    a.id,\n",
    "                    a.name\n",
    "                order by 2 desc\n",
    "                limit 5                                          -- отлимитируем, чтобы не было большой таблицы\n",
    "            '''"
   ]
  },
  {
   "cell_type": "code",
   "execution_count": 13,
   "id": "P7QL86hrjhRJ",
   "metadata": {
    "id": "P7QL86hrjhRJ"
   },
   "outputs": [
    {
     "data": {
      "text/html": [
       "<div>\n",
       "<style scoped>\n",
       "    .dataframe tbody tr th:only-of-type {\n",
       "        vertical-align: middle;\n",
       "    }\n",
       "\n",
       "    .dataframe tbody tr th {\n",
       "        vertical-align: top;\n",
       "    }\n",
       "\n",
       "    .dataframe thead th {\n",
       "        text-align: right;\n",
       "    }\n",
       "</style>\n",
       "<table border=\"1\" class=\"dataframe\">\n",
       "  <thead>\n",
       "    <tr style=\"text-align: right;\">\n",
       "      <th></th>\n",
       "      <th>area</th>\n",
       "      <th>cnt</th>\n",
       "    </tr>\n",
       "  </thead>\n",
       "  <tbody>\n",
       "    <tr>\n",
       "      <th>0</th>\n",
       "      <td>Москва</td>\n",
       "      <td>5333</td>\n",
       "    </tr>\n",
       "    <tr>\n",
       "      <th>1</th>\n",
       "      <td>Санкт-Петербург</td>\n",
       "      <td>2851</td>\n",
       "    </tr>\n",
       "    <tr>\n",
       "      <th>2</th>\n",
       "      <td>Минск</td>\n",
       "      <td>2112</td>\n",
       "    </tr>\n",
       "    <tr>\n",
       "      <th>3</th>\n",
       "      <td>Новосибирск</td>\n",
       "      <td>2006</td>\n",
       "    </tr>\n",
       "    <tr>\n",
       "      <th>4</th>\n",
       "      <td>Алматы</td>\n",
       "      <td>1892</td>\n",
       "    </tr>\n",
       "  </tbody>\n",
       "</table>\n",
       "</div>"
      ],
      "text/plain": [
       "              area   cnt\n",
       "0           Москва  5333\n",
       "1  Санкт-Петербург  2851\n",
       "2            Минск  2112\n",
       "3      Новосибирск  2006\n",
       "4           Алматы  1892"
      ]
     },
     "execution_count": 13,
     "metadata": {},
     "output_type": "execute_result"
    }
   ],
   "source": [
    "df_vac_gr = pd.read_sql_query(query_vac_gr, connection)\n",
    "df_vac_gr"
   ]
  },
  {
   "cell_type": "markdown",
   "id": "4266f0b6-1646-492a-88b4-2f6a46502135",
   "metadata": {
    "id": "4266f0b6-1646-492a-88b4-2f6a46502135"
   },
   "source": [
    "2. Напишите запрос, чтобы определить у какого количества вакансий заполнено хотя бы одно из двух полей с зарплатой."
   ]
  },
  {
   "cell_type": "code",
   "execution_count": 14,
   "id": "0c44b350-72eb-4d65-8b54-a1fc449ba9fd",
   "metadata": {
    "id": "0c44b350-72eb-4d65-8b54-a1fc449ba9fd"
   },
   "outputs": [],
   "source": [
    "query_vac_wage = f'''select \n",
    "                           count(v.id) as cnt\n",
    "                     from public.vacancies as v\n",
    "                     where\n",
    "                         v.salary_from is not null or v.salary_to is not null -- сортировка по непустым полям ЗП\n",
    "            '''"
   ]
  },
  {
   "cell_type": "code",
   "execution_count": 15,
   "id": "rhvwaMDkoWTi",
   "metadata": {
    "id": "rhvwaMDkoWTi"
   },
   "outputs": [
    {
     "data": {
      "text/html": [
       "<div>\n",
       "<style scoped>\n",
       "    .dataframe tbody tr th:only-of-type {\n",
       "        vertical-align: middle;\n",
       "    }\n",
       "\n",
       "    .dataframe tbody tr th {\n",
       "        vertical-align: top;\n",
       "    }\n",
       "\n",
       "    .dataframe thead th {\n",
       "        text-align: right;\n",
       "    }\n",
       "</style>\n",
       "<table border=\"1\" class=\"dataframe\">\n",
       "  <thead>\n",
       "    <tr style=\"text-align: right;\">\n",
       "      <th></th>\n",
       "      <th>cnt</th>\n",
       "    </tr>\n",
       "  </thead>\n",
       "  <tbody>\n",
       "    <tr>\n",
       "      <th>0</th>\n",
       "      <td>24073</td>\n",
       "    </tr>\n",
       "  </tbody>\n",
       "</table>\n",
       "</div>"
      ],
      "text/plain": [
       "     cnt\n",
       "0  24073"
      ]
     },
     "execution_count": 15,
     "metadata": {},
     "output_type": "execute_result"
    }
   ],
   "source": [
    "df_vac_wage = pd.read_sql_query(query_vac_wage, connection)\n",
    "df_vac_wage"
   ]
  },
  {
   "cell_type": "markdown",
   "id": "635c4d5d-f323-4c66-b428-50a088120aa0",
   "metadata": {
    "id": "635c4d5d-f323-4c66-b428-50a088120aa0"
   },
   "source": [
    "3. Найдите средние значения для нижней и верхней границы зарплатной вилки. Округлите значения до целого."
   ]
  },
  {
   "cell_type": "code",
   "execution_count": 16,
   "id": "603cdbe4-0ec3-4106-8eaf-c73fcdd29165",
   "metadata": {
    "id": "603cdbe4-0ec3-4106-8eaf-c73fcdd29165"
   },
   "outputs": [],
   "source": [
    "query_vac_wage_avg = f'''select \n",
    "                           round(avg(salary_from)) as avg_wage                     --  задаем среднюю нижнюю границу, округлив до целого\n",
    "                         from public.vacancies as v\n",
    "                         where\n",
    "                             v.salary_from is not null or v.salary_to is not null\n",
    "                        union \n",
    "                        select \n",
    "                           round(avg(salary_to)) as avg_wage                       --  задаем среднюю верхнюю границу, округлив до целого\n",
    "                         from public.vacancies as v\n",
    "                         where\n",
    "                             v.salary_from is not null or v.salary_to is not null\n",
    "            '''"
   ]
  },
  {
   "cell_type": "code",
   "execution_count": 17,
   "id": "pswpAb66ovZZ",
   "metadata": {
    "id": "pswpAb66ovZZ"
   },
   "outputs": [
    {
     "data": {
      "text/html": [
       "<div>\n",
       "<style scoped>\n",
       "    .dataframe tbody tr th:only-of-type {\n",
       "        vertical-align: middle;\n",
       "    }\n",
       "\n",
       "    .dataframe tbody tr th {\n",
       "        vertical-align: top;\n",
       "    }\n",
       "\n",
       "    .dataframe thead th {\n",
       "        text-align: right;\n",
       "    }\n",
       "</style>\n",
       "<table border=\"1\" class=\"dataframe\">\n",
       "  <thead>\n",
       "    <tr style=\"text-align: right;\">\n",
       "      <th></th>\n",
       "      <th>avg_wage</th>\n",
       "    </tr>\n",
       "  </thead>\n",
       "  <tbody>\n",
       "    <tr>\n",
       "      <th>0</th>\n",
       "      <td>71065.0</td>\n",
       "    </tr>\n",
       "    <tr>\n",
       "      <th>1</th>\n",
       "      <td>110537.0</td>\n",
       "    </tr>\n",
       "  </tbody>\n",
       "</table>\n",
       "</div>"
      ],
      "text/plain": [
       "   avg_wage\n",
       "0   71065.0\n",
       "1  110537.0"
      ]
     },
     "execution_count": 17,
     "metadata": {},
     "output_type": "execute_result"
    }
   ],
   "source": [
    "df_vac_wage_avg = pd.read_sql_query(query_vac_wage_avg, connection)\n",
    "df_vac_wage_avg"
   ]
  },
  {
   "cell_type": "markdown",
   "id": "f3fdaec9-5fd3-4260-9cf5-1d7406b628a5",
   "metadata": {
    "id": "f3fdaec9-5fd3-4260-9cf5-1d7406b628a5"
   },
   "source": [
    "4. Напишите запрос, который выведет количество вакансий для каждого сочетания типа рабочего графика (schedule) и типа трудоустройства (employment), используемого в вакансиях. Результат отсортируйте по убыванию количества.\n"
   ]
  },
  {
   "cell_type": "code",
   "execution_count": 18,
   "id": "1ea710ec-871b-431e-9462-c7d0fd87011b",
   "metadata": {
    "id": "1ea710ec-871b-431e-9462-c7d0fd87011b"
   },
   "outputs": [],
   "source": [
    "query_vac_sch = f'''select \n",
    "                        v.schedule,\n",
    "                        v.employment,\n",
    "                        count(v.id) as count_vacancies\n",
    "                 from public.vacancies as v\n",
    "                 group by \n",
    "                     v.schedule,\n",
    "                     v.employment\n",
    "                 order by 3 desc\n",
    "                ''' "
   ]
  },
  {
   "cell_type": "code",
   "execution_count": 19,
   "id": "lGUVqavdo4JQ",
   "metadata": {
    "id": "lGUVqavdo4JQ"
   },
   "outputs": [
    {
     "data": {
      "text/html": [
       "<div>\n",
       "<style scoped>\n",
       "    .dataframe tbody tr th:only-of-type {\n",
       "        vertical-align: middle;\n",
       "    }\n",
       "\n",
       "    .dataframe tbody tr th {\n",
       "        vertical-align: top;\n",
       "    }\n",
       "\n",
       "    .dataframe thead th {\n",
       "        text-align: right;\n",
       "    }\n",
       "</style>\n",
       "<table border=\"1\" class=\"dataframe\">\n",
       "  <thead>\n",
       "    <tr style=\"text-align: right;\">\n",
       "      <th></th>\n",
       "      <th>schedule</th>\n",
       "      <th>employment</th>\n",
       "      <th>count_vacancies</th>\n",
       "    </tr>\n",
       "  </thead>\n",
       "  <tbody>\n",
       "    <tr>\n",
       "      <th>0</th>\n",
       "      <td>Полный день</td>\n",
       "      <td>Полная занятость</td>\n",
       "      <td>35367</td>\n",
       "    </tr>\n",
       "    <tr>\n",
       "      <th>1</th>\n",
       "      <td>Удаленная работа</td>\n",
       "      <td>Полная занятость</td>\n",
       "      <td>7802</td>\n",
       "    </tr>\n",
       "    <tr>\n",
       "      <th>2</th>\n",
       "      <td>Гибкий график</td>\n",
       "      <td>Полная занятость</td>\n",
       "      <td>1593</td>\n",
       "    </tr>\n",
       "    <tr>\n",
       "      <th>3</th>\n",
       "      <td>Удаленная работа</td>\n",
       "      <td>Частичная занятость</td>\n",
       "      <td>1312</td>\n",
       "    </tr>\n",
       "    <tr>\n",
       "      <th>4</th>\n",
       "      <td>Сменный график</td>\n",
       "      <td>Полная занятость</td>\n",
       "      <td>940</td>\n",
       "    </tr>\n",
       "    <tr>\n",
       "      <th>5</th>\n",
       "      <td>Полный день</td>\n",
       "      <td>Стажировка</td>\n",
       "      <td>569</td>\n",
       "    </tr>\n",
       "    <tr>\n",
       "      <th>6</th>\n",
       "      <td>Вахтовый метод</td>\n",
       "      <td>Полная занятость</td>\n",
       "      <td>367</td>\n",
       "    </tr>\n",
       "    <tr>\n",
       "      <th>7</th>\n",
       "      <td>Полный день</td>\n",
       "      <td>Частичная занятость</td>\n",
       "      <td>347</td>\n",
       "    </tr>\n",
       "    <tr>\n",
       "      <th>8</th>\n",
       "      <td>Гибкий график</td>\n",
       "      <td>Частичная занятость</td>\n",
       "      <td>312</td>\n",
       "    </tr>\n",
       "    <tr>\n",
       "      <th>9</th>\n",
       "      <td>Полный день</td>\n",
       "      <td>Проектная работа</td>\n",
       "      <td>141</td>\n",
       "    </tr>\n",
       "    <tr>\n",
       "      <th>10</th>\n",
       "      <td>Удаленная работа</td>\n",
       "      <td>Проектная работа</td>\n",
       "      <td>133</td>\n",
       "    </tr>\n",
       "    <tr>\n",
       "      <th>11</th>\n",
       "      <td>Гибкий график</td>\n",
       "      <td>Стажировка</td>\n",
       "      <td>116</td>\n",
       "    </tr>\n",
       "    <tr>\n",
       "      <th>12</th>\n",
       "      <td>Сменный график</td>\n",
       "      <td>Частичная занятость</td>\n",
       "      <td>101</td>\n",
       "    </tr>\n",
       "    <tr>\n",
       "      <th>13</th>\n",
       "      <td>Удаленная работа</td>\n",
       "      <td>Стажировка</td>\n",
       "      <td>64</td>\n",
       "    </tr>\n",
       "    <tr>\n",
       "      <th>14</th>\n",
       "      <td>Гибкий график</td>\n",
       "      <td>Проектная работа</td>\n",
       "      <td>18</td>\n",
       "    </tr>\n",
       "    <tr>\n",
       "      <th>15</th>\n",
       "      <td>Сменный график</td>\n",
       "      <td>Стажировка</td>\n",
       "      <td>12</td>\n",
       "    </tr>\n",
       "    <tr>\n",
       "      <th>16</th>\n",
       "      <td>Вахтовый метод</td>\n",
       "      <td>Проектная работа</td>\n",
       "      <td>2</td>\n",
       "    </tr>\n",
       "    <tr>\n",
       "      <th>17</th>\n",
       "      <td>Сменный график</td>\n",
       "      <td>Проектная работа</td>\n",
       "      <td>1</td>\n",
       "    </tr>\n",
       "  </tbody>\n",
       "</table>\n",
       "</div>"
      ],
      "text/plain": [
       "            schedule           employment  count_vacancies\n",
       "0        Полный день     Полная занятость            35367\n",
       "1   Удаленная работа     Полная занятость             7802\n",
       "2      Гибкий график     Полная занятость             1593\n",
       "3   Удаленная работа  Частичная занятость             1312\n",
       "4     Сменный график     Полная занятость              940\n",
       "5        Полный день           Стажировка              569\n",
       "6     Вахтовый метод     Полная занятость              367\n",
       "7        Полный день  Частичная занятость              347\n",
       "8      Гибкий график  Частичная занятость              312\n",
       "9        Полный день     Проектная работа              141\n",
       "10  Удаленная работа     Проектная работа              133\n",
       "11     Гибкий график           Стажировка              116\n",
       "12    Сменный график  Частичная занятость              101\n",
       "13  Удаленная работа           Стажировка               64\n",
       "14     Гибкий график     Проектная работа               18\n",
       "15    Сменный график           Стажировка               12\n",
       "16    Вахтовый метод     Проектная работа                2\n",
       "17    Сменный график     Проектная работа                1"
      ]
     },
     "execution_count": 19,
     "metadata": {},
     "output_type": "execute_result"
    }
   ],
   "source": [
    "df_vac_sch = pd.read_sql_query(query_vac_sch, connection)\n",
    "df_vac_sch"
   ]
  },
  {
   "cell_type": "markdown",
   "id": "0136ffee-0ead-4a6b-b608-61d1c753a438",
   "metadata": {
    "id": "0136ffee-0ead-4a6b-b608-61d1c753a438"
   },
   "source": [
    "5. Напишите запрос, выводящий значения поля Требуемый опыт работы (experience) в порядке возрастания количества вакансий, в которых указан данный вариант опыта. "
   ]
  },
  {
   "cell_type": "code",
   "execution_count": 20,
   "id": "5b3a8e79-f7ab-4008-b767-12aea3a205ea",
   "metadata": {
    "id": "5b3a8e79-f7ab-4008-b767-12aea3a205ea"
   },
   "outputs": [],
   "source": [
    "query_vac_exp = f'''select \n",
    "                        v.experience\n",
    "                 from public.vacancies as v\n",
    "                 where v.experience is not null\n",
    "                 group by \n",
    "                     v.experience\n",
    "                 order by count(v.id)\n",
    "                ''' "
   ]
  },
  {
   "cell_type": "code",
   "execution_count": 21,
   "id": "3Is64Y-hpDpq",
   "metadata": {
    "id": "3Is64Y-hpDpq"
   },
   "outputs": [
    {
     "data": {
      "text/html": [
       "<div>\n",
       "<style scoped>\n",
       "    .dataframe tbody tr th:only-of-type {\n",
       "        vertical-align: middle;\n",
       "    }\n",
       "\n",
       "    .dataframe tbody tr th {\n",
       "        vertical-align: top;\n",
       "    }\n",
       "\n",
       "    .dataframe thead th {\n",
       "        text-align: right;\n",
       "    }\n",
       "</style>\n",
       "<table border=\"1\" class=\"dataframe\">\n",
       "  <thead>\n",
       "    <tr style=\"text-align: right;\">\n",
       "      <th></th>\n",
       "      <th>experience</th>\n",
       "    </tr>\n",
       "  </thead>\n",
       "  <tbody>\n",
       "    <tr>\n",
       "      <th>0</th>\n",
       "      <td>Более 6 лет</td>\n",
       "    </tr>\n",
       "    <tr>\n",
       "      <th>1</th>\n",
       "      <td>Нет опыта</td>\n",
       "    </tr>\n",
       "    <tr>\n",
       "      <th>2</th>\n",
       "      <td>От 3 до 6 лет</td>\n",
       "    </tr>\n",
       "    <tr>\n",
       "      <th>3</th>\n",
       "      <td>От 1 года до 3 лет</td>\n",
       "    </tr>\n",
       "  </tbody>\n",
       "</table>\n",
       "</div>"
      ],
      "text/plain": [
       "           experience\n",
       "0         Более 6 лет\n",
       "1           Нет опыта\n",
       "2       От 3 до 6 лет\n",
       "3  От 1 года до 3 лет"
      ]
     },
     "execution_count": 21,
     "metadata": {},
     "output_type": "execute_result"
    }
   ],
   "source": [
    "df_vac_exp = pd.read_sql_query(query_vac_exp, connection)\n",
    "df_vac_exp"
   ]
  },
  {
   "cell_type": "markdown",
   "id": "oq2b7n1QpIka",
   "metadata": {
    "id": "oq2b7n1QpIka"
   },
   "source": [
    "***"
   ]
  },
  {
   "cell_type": "markdown",
   "id": "2a8fa51e-961e-4f5e-82ea-0d007e97bc8c",
   "metadata": {
    "id": "e91f87ed-e25c-4f96-9f92-b642e8c0b4fa"
   },
   "source": [
    "#### выводы по детальному анализу вакансий\n",
    " \n",
    "Пятеркой лидеров по количеству вакансий являются Москва, Санкт-Петербург, Минск, Новосибирск, Алматы.  \n",
    "Примерно половина вакансий содержит информацию о заработной плате. В среднем заработная плата варьируется в интервале от 71,1 тыс. руб. до 110,5 тыс. рублей.  \n",
    "В основной массе вакансий требуются соискатели с полной занятостью, меньше всего запросов на проектную работу.  \n",
    "Чаще всего ищут соискателей с опытом работы от 1 года до 3 лет."
   ]
  },
  {
   "cell_type": "markdown",
   "id": "7ea20ab6-04a7-40a0-adec-443a0e5a42c3",
   "metadata": {
    "id": "7ea20ab6-04a7-40a0-adec-443a0e5a42c3"
   },
   "source": [
    "# Юнит 5. Анализ работодателей"
   ]
  },
  {
   "cell_type": "markdown",
   "id": "968aed80-74ef-4ffb-b5bf-c65b84e9caea",
   "metadata": {
    "id": "968aed80-74ef-4ffb-b5bf-c65b84e9caea"
   },
   "source": [
    "1. Напишите запрос, который позволит узнать, какие работодатели находятся на первом и пятом месте по количеству вакансий."
   ]
  },
  {
   "cell_type": "code",
   "execution_count": 22,
   "id": "f2d62796-d400-4ec1-a675-88112739a50e",
   "metadata": {
    "id": "f2d62796-d400-4ec1-a675-88112739a50e"
   },
   "outputs": [],
   "source": [
    "query_emp_vac = f'''select\n",
    "                    e.name\n",
    "                from \n",
    "                    public.employers as e\n",
    "                    join public.vacancies as v on e.id = v.employer_id\n",
    "                group by e.name\n",
    "                order by count(v.id) desc\n",
    "                limit 5\n",
    "                \n",
    "            '''"
   ]
  },
  {
   "cell_type": "code",
   "execution_count": 23,
   "id": "64tOMkAxqkQk",
   "metadata": {
    "id": "64tOMkAxqkQk"
   },
   "outputs": [
    {
     "data": {
      "text/html": [
       "<div>\n",
       "<style scoped>\n",
       "    .dataframe tbody tr th:only-of-type {\n",
       "        vertical-align: middle;\n",
       "    }\n",
       "\n",
       "    .dataframe tbody tr th {\n",
       "        vertical-align: top;\n",
       "    }\n",
       "\n",
       "    .dataframe thead th {\n",
       "        text-align: right;\n",
       "    }\n",
       "</style>\n",
       "<table border=\"1\" class=\"dataframe\">\n",
       "  <thead>\n",
       "    <tr style=\"text-align: right;\">\n",
       "      <th></th>\n",
       "      <th>name</th>\n",
       "    </tr>\n",
       "  </thead>\n",
       "  <tbody>\n",
       "    <tr>\n",
       "      <th>0</th>\n",
       "      <td>Яндекс</td>\n",
       "    </tr>\n",
       "    <tr>\n",
       "      <th>1</th>\n",
       "      <td>Ростелеком</td>\n",
       "    </tr>\n",
       "    <tr>\n",
       "      <th>2</th>\n",
       "      <td>Тинькофф</td>\n",
       "    </tr>\n",
       "    <tr>\n",
       "      <th>3</th>\n",
       "      <td>СБЕР</td>\n",
       "    </tr>\n",
       "    <tr>\n",
       "      <th>4</th>\n",
       "      <td>Газпром нефть</td>\n",
       "    </tr>\n",
       "  </tbody>\n",
       "</table>\n",
       "</div>"
      ],
      "text/plain": [
       "            name\n",
       "0         Яндекс\n",
       "1     Ростелеком\n",
       "2       Тинькофф\n",
       "3           СБЕР\n",
       "4  Газпром нефть"
      ]
     },
     "execution_count": 23,
     "metadata": {},
     "output_type": "execute_result"
    }
   ],
   "source": [
    "df_emp_vac = pd.read_sql_query(query_emp_vac, connection)\n",
    "df_emp_vac"
   ]
  },
  {
   "cell_type": "markdown",
   "id": "68377cfc-b378-43dc-ab7d-1195abf2c515",
   "metadata": {
    "id": "68377cfc-b378-43dc-ab7d-1195abf2c515"
   },
   "source": [
    "2. Напишите запрос, который для каждого региона выведет количество работодателей и вакансий в нём.\n",
    "Среди регионов, в которых нет вакансий, найдите тот, в котором наибольшее количество работодателей.\n"
   ]
  },
  {
   "cell_type": "code",
   "execution_count": 24,
   "id": "dd7df27a-e3e8-412e-a21a-5d389b71e891",
   "metadata": {
    "id": "dd7df27a-e3e8-412e-a21a-5d389b71e891"
   },
   "outputs": [],
   "source": [
    "query_emp_ar = f'''select\n",
    "                    a.name as areas,\n",
    "                    count(distinct (e.id)) as count_employers,\n",
    "                    count(v.id) as count_vacancies\n",
    "                from \n",
    "                    public.areas as a\n",
    "                    left join public.vacancies as v on a.id = v.area_id \n",
    "                    left join public.employers as e on a.id = e.area\n",
    "                where v.id is null                                    -- фильтруем по отсутствию вакансий \n",
    "                group by a.name\n",
    "                order by 2 desc\n",
    "                                \n",
    "            '''"
   ]
  },
  {
   "cell_type": "code",
   "execution_count": 25,
   "id": "x1ikWbydrbf6",
   "metadata": {
    "id": "x1ikWbydrbf6"
   },
   "outputs": [
    {
     "data": {
      "text/plain": [
       "'Россия'"
      ]
     },
     "execution_count": 25,
     "metadata": {},
     "output_type": "execute_result"
    }
   ],
   "source": [
    "df_emp_ar = pd.read_sql_query(query_emp_ar, connection)\n",
    "df_emp_ar.iloc[0][0]"
   ]
  },
  {
   "cell_type": "markdown",
   "id": "f2fe0acb-ab1a-4e15-9326-2560e22d73c1",
   "metadata": {
    "id": "f2fe0acb-ab1a-4e15-9326-2560e22d73c1"
   },
   "source": [
    "3. Для каждого работодателя посчитайте количество регионов, в которых он публикует свои вакансии. Отсортируйте результат по убыванию количества.\n"
   ]
  },
  {
   "cell_type": "code",
   "execution_count": 26,
   "id": "6271f8ad-bd2e-4196-ae4a-5b39c4c1010e",
   "metadata": {
    "id": "6271f8ad-bd2e-4196-ae4a-5b39c4c1010e"
   },
   "outputs": [],
   "source": [
    "query_emp_public = f'''select\n",
    "                            e.name as employers,\n",
    "                            count(distinct(v.area_id)) as count_areas              -- добавляем условие уникальности города\n",
    "                        from \n",
    "                            public.employers as e\n",
    "                            left join public.vacancies as v on e.id = v.employer_id \n",
    "                        where v.id is not null                                      -- фильтруем по отсутствию вакансий\n",
    "                        group by e.name\n",
    "                        order by 2 desc        \n",
    "                    '''"
   ]
  },
  {
   "cell_type": "code",
   "execution_count": 27,
   "id": "1EIvX3HasH4F",
   "metadata": {
    "id": "1EIvX3HasH4F"
   },
   "outputs": [
    {
     "data": {
      "text/html": [
       "<div>\n",
       "<style scoped>\n",
       "    .dataframe tbody tr th:only-of-type {\n",
       "        vertical-align: middle;\n",
       "    }\n",
       "\n",
       "    .dataframe tbody tr th {\n",
       "        vertical-align: top;\n",
       "    }\n",
       "\n",
       "    .dataframe thead th {\n",
       "        text-align: right;\n",
       "    }\n",
       "</style>\n",
       "<table border=\"1\" class=\"dataframe\">\n",
       "  <thead>\n",
       "    <tr style=\"text-align: right;\">\n",
       "      <th></th>\n",
       "      <th>employers</th>\n",
       "      <th>count_areas</th>\n",
       "    </tr>\n",
       "  </thead>\n",
       "  <tbody>\n",
       "    <tr>\n",
       "      <th>0</th>\n",
       "      <td>Яндекс</td>\n",
       "      <td>181</td>\n",
       "    </tr>\n",
       "    <tr>\n",
       "      <th>1</th>\n",
       "      <td>Ростелеком</td>\n",
       "      <td>152</td>\n",
       "    </tr>\n",
       "    <tr>\n",
       "      <th>2</th>\n",
       "      <td>Спецремонт</td>\n",
       "      <td>116</td>\n",
       "    </tr>\n",
       "    <tr>\n",
       "      <th>3</th>\n",
       "      <td>Поляков Денис Иванович</td>\n",
       "      <td>88</td>\n",
       "    </tr>\n",
       "    <tr>\n",
       "      <th>4</th>\n",
       "      <td>ООО ЕФИН</td>\n",
       "      <td>71</td>\n",
       "    </tr>\n",
       "  </tbody>\n",
       "</table>\n",
       "</div>"
      ],
      "text/plain": [
       "                employers  count_areas\n",
       "0                  Яндекс          181\n",
       "1              Ростелеком          152\n",
       "2              Спецремонт          116\n",
       "3  Поляков Денис Иванович           88\n",
       "4               ООО ЕФИН            71"
      ]
     },
     "execution_count": 27,
     "metadata": {},
     "output_type": "execute_result"
    }
   ],
   "source": [
    "df_emp_public = pd.read_sql_query(query_emp_public, connection)\n",
    "df_emp_public.head()"
   ]
  },
  {
   "cell_type": "markdown",
   "id": "eab2206d-d95b-468b-8e5f-34381abf0ce7",
   "metadata": {
    "id": "eab2206d-d95b-468b-8e5f-34381abf0ce7"
   },
   "source": [
    "4. Напишите запрос для подсчёта количества работодателей, у которых не указана сфера деятельности. "
   ]
  },
  {
   "cell_type": "code",
   "execution_count": 28,
   "id": "80defb23-bfb1-4a18-8be6-bf36aa7165d5",
   "metadata": {
    "id": "80defb23-bfb1-4a18-8be6-bf36aa7165d5"
   },
   "outputs": [],
   "source": [
    "query_emp_ind = f'''select\n",
    "                            count(distinct(e.id)) employers_not_industry                        -- задаем параметр уникальности работодателя\n",
    "                        from \n",
    "                            public.employers as e\n",
    "                            left join public.employers_industries as i on e.id = i.employer_id \n",
    "                            left join public.industries as ind on ind.id = i.industry_id\n",
    "                        where ind.name is null                                                  -- фильтруем по отсутствию отрасли\n",
    "                              \n",
    "                    '''"
   ]
  },
  {
   "cell_type": "code",
   "execution_count": 29,
   "id": "Dp_yCx6ysQSu",
   "metadata": {
    "id": "Dp_yCx6ysQSu"
   },
   "outputs": [
    {
     "data": {
      "text/html": [
       "<div>\n",
       "<style scoped>\n",
       "    .dataframe tbody tr th:only-of-type {\n",
       "        vertical-align: middle;\n",
       "    }\n",
       "\n",
       "    .dataframe tbody tr th {\n",
       "        vertical-align: top;\n",
       "    }\n",
       "\n",
       "    .dataframe thead th {\n",
       "        text-align: right;\n",
       "    }\n",
       "</style>\n",
       "<table border=\"1\" class=\"dataframe\">\n",
       "  <thead>\n",
       "    <tr style=\"text-align: right;\">\n",
       "      <th></th>\n",
       "      <th>employers_not_industry</th>\n",
       "    </tr>\n",
       "  </thead>\n",
       "  <tbody>\n",
       "    <tr>\n",
       "      <th>0</th>\n",
       "      <td>8419</td>\n",
       "    </tr>\n",
       "  </tbody>\n",
       "</table>\n",
       "</div>"
      ],
      "text/plain": [
       "   employers_not_industry\n",
       "0                    8419"
      ]
     },
     "execution_count": 29,
     "metadata": {},
     "output_type": "execute_result"
    }
   ],
   "source": [
    "df_emp_ind = pd.read_sql_query(query_emp_ind, connection)\n",
    "df_emp_ind"
   ]
  },
  {
   "cell_type": "markdown",
   "id": "0112af31-f6b0-4e3b-82ab-71296e752e5e",
   "metadata": {
    "id": "0112af31-f6b0-4e3b-82ab-71296e752e5e"
   },
   "source": [
    "5. Напишите запрос, чтобы узнать название компании, находящейся на третьем месте в алфавитном списке (по названию) компаний, у которых указано четыре сферы деятельности. "
   ]
  },
  {
   "cell_type": "code",
   "execution_count": 30,
   "id": "973b0cfc-a972-470a-8b4a-68744ef220c4",
   "metadata": {
    "id": "973b0cfc-a972-470a-8b4a-68744ef220c4"
   },
   "outputs": [],
   "source": [
    "query_emp_ind4 = f'''select\n",
    "                            distinct e.name\n",
    "                        from \n",
    "                            public.employers as e\n",
    "                            left join public.employers_industries as i on e.id = i.employer_id \n",
    "                            left join public.industries as ind on ind.id = i.industry_id\n",
    "                        group by e.name\n",
    "                        having count(ind.id) = 4\n",
    "                        order by 1 \n",
    "                        limit 3\n",
    "                 '''"
   ]
  },
  {
   "cell_type": "code",
   "execution_count": 31,
   "id": "xsPtpp8EsaED",
   "metadata": {
    "id": "xsPtpp8EsaED"
   },
   "outputs": [
    {
     "data": {
      "text/plain": [
       "name    2ГИС\n",
       "Name: 2, dtype: object"
      ]
     },
     "execution_count": 31,
     "metadata": {},
     "output_type": "execute_result"
    }
   ],
   "source": [
    "df_emp_ind4 = pd.read_sql_query(query_emp_ind4, connection)\n",
    "df_emp_ind4.iloc[-1]"
   ]
  },
  {
   "cell_type": "markdown",
   "id": "3bfcfdaf-755d-4d2b-8ed8-326201dc07ab",
   "metadata": {
    "id": "3bfcfdaf-755d-4d2b-8ed8-326201dc07ab"
   },
   "source": [
    "6. С помощью запроса выясните, у какого количества работодателей в качестве сферы деятельности указана Разработка программного обеспечения.\n"
   ]
  },
  {
   "cell_type": "code",
   "execution_count": 32,
   "id": "ad3f270f-2991-47eb-929b-e8f88a55b0d1",
   "metadata": {
    "id": "ad3f270f-2991-47eb-929b-e8f88a55b0d1"
   },
   "outputs": [],
   "source": [
    "query_emp_PO = f'''     select\n",
    "                            count(distinct e.id) PO_employers\n",
    "                        from \n",
    "                            public.employers as e\n",
    "                            left join public.employers_industries as i on e.id = i.employer_id \n",
    "                            left join public.industries as ind on ind.id = i.industry_id\n",
    "                        where ind.name = 'Разработка программного обеспечения'\n",
    "                '''"
   ]
  },
  {
   "cell_type": "code",
   "execution_count": 33,
   "id": "H72qxWM0shPR",
   "metadata": {
    "id": "H72qxWM0shPR"
   },
   "outputs": [
    {
     "data": {
      "text/html": [
       "<div>\n",
       "<style scoped>\n",
       "    .dataframe tbody tr th:only-of-type {\n",
       "        vertical-align: middle;\n",
       "    }\n",
       "\n",
       "    .dataframe tbody tr th {\n",
       "        vertical-align: top;\n",
       "    }\n",
       "\n",
       "    .dataframe thead th {\n",
       "        text-align: right;\n",
       "    }\n",
       "</style>\n",
       "<table border=\"1\" class=\"dataframe\">\n",
       "  <thead>\n",
       "    <tr style=\"text-align: right;\">\n",
       "      <th></th>\n",
       "      <th>po_employers</th>\n",
       "    </tr>\n",
       "  </thead>\n",
       "  <tbody>\n",
       "    <tr>\n",
       "      <th>0</th>\n",
       "      <td>3553</td>\n",
       "    </tr>\n",
       "  </tbody>\n",
       "</table>\n",
       "</div>"
      ],
      "text/plain": [
       "   po_employers\n",
       "0          3553"
      ]
     },
     "execution_count": 33,
     "metadata": {},
     "output_type": "execute_result"
    }
   ],
   "source": [
    "df_emp_PO = pd.read_sql_query(query_emp_PO, connection)\n",
    "df_emp_PO"
   ]
  },
  {
   "cell_type": "markdown",
   "id": "7b02bb86-0546-40fb-94a4-242f050a5c57",
   "metadata": {
    "id": "7b02bb86-0546-40fb-94a4-242f050a5c57"
   },
   "source": [
    "7. Для компании «Яндекс» выведите список регионов-миллионников, в которых представлены вакансии компании, вместе с количеством вакансий в этих регионах. Также добавьте строку Total с общим количеством вакансий компании. Результат отсортируйте по возрастанию количества.\n",
    "\n",
    "Список городов-милионников надо взять [отсюда](https://ru.wikipedia.org/wiki/%D0%93%D0%BE%D1%80%D0%BE%D0%B4%D0%B0-%D0%BC%D0%B8%D0%BB%D0%BB%D0%B8%D0%BE%D0%BD%D0%B5%D1%80%D1%8B_%D0%A0%D0%BE%D1%81%D1%81%D0%B8%D0%B8). \n",
    "\n",
    "Если возникнут трудности с этим задание посмотрите материалы модуля  PYTHON-17. Как получать данные из веб-источников и API. "
   ]
  },
  {
   "cell_type": "code",
   "execution_count": 34,
   "id": "ZdfrL6gIs1Pn",
   "metadata": {
    "id": "ZdfrL6gIs1Pn"
   },
   "outputs": [
    {
     "data": {
      "text/plain": [
       "('Москва',\n",
       " 'Санкт-Петербург',\n",
       " 'Новосибирск',\n",
       " 'Екатеринбург',\n",
       " 'Казань',\n",
       " 'Нижний Новгород',\n",
       " 'Красноярск',\n",
       " 'Челябинск',\n",
       " 'Самара',\n",
       " 'Уфа',\n",
       " 'Ростов-на-Дону',\n",
       " 'Краснодар',\n",
       " 'Омск',\n",
       " 'Воронеж',\n",
       " 'Пермь',\n",
       " 'Волгоград')"
      ]
     },
     "execution_count": 34,
     "metadata": {},
     "output_type": "execute_result"
    }
   ],
   "source": [
    "path_common = req.urlparse('https://ru.wikipedia.org/wiki/Города-миллионеры_России#Список_городов-миллионеров')                        # получаем ссылку\n",
    "url = path_common.scheme + '://' + req.quote(path_common.netloc) +  req.quote(path_common.path) + '#'+ req.quote(path_common.fragment) # преобразуем ссылку для пандас\n",
    "\n",
    "table = pd.read_html(url)                # получаем таблицы со страницы\n",
    "city_list = tuple(table[1]['Город'])     # выбираем только список городов  и преобразуем в кортеж для возможности вставки в запрос\n",
    "city_list "
   ]
  },
  {
   "cell_type": "code",
   "execution_count": 35,
   "id": "5a0e32a4-e68a-4365-8a39-2fe24c542c36",
   "metadata": {
    "id": "5a0e32a4-e68a-4365-8a39-2fe24c542c36"
   },
   "outputs": [],
   "source": [
    "query_emp_mil = f'''     select\n",
    "                            a.name as areas,\n",
    "                            count(v.id) as count_vacancies\n",
    "                        from \n",
    "                            public.vacancies as v \n",
    "                            left join public.employers as e on e.id = v.employer_id\n",
    "                            left join public.areas as a on a.id = v.area_id\n",
    "                        where \n",
    "                            e.name = 'Яндекс'\n",
    "                            and a.name in {city_list}\n",
    "                        group by a.name\n",
    "                        union all\n",
    "                        select 'Total',\n",
    "                                count(v.id)\n",
    "                        from\n",
    "                            public.vacancies as v \n",
    "                            left join public.employers as e on e.id = v.employer_id\n",
    "                            left join public.areas as a on a.id = v.area_id\n",
    "                        where \n",
    "                            e.name = 'Яндекс'\n",
    "                            and a.name in {city_list}\n",
    "                        order by 2\n",
    "                 '''"
   ]
  },
  {
   "cell_type": "code",
   "execution_count": 36,
   "id": "ttPhiO1rsvPq",
   "metadata": {
    "id": "ttPhiO1rsvPq"
   },
   "outputs": [
    {
     "data": {
      "text/html": [
       "<div>\n",
       "<style scoped>\n",
       "    .dataframe tbody tr th:only-of-type {\n",
       "        vertical-align: middle;\n",
       "    }\n",
       "\n",
       "    .dataframe tbody tr th {\n",
       "        vertical-align: top;\n",
       "    }\n",
       "\n",
       "    .dataframe thead th {\n",
       "        text-align: right;\n",
       "    }\n",
       "</style>\n",
       "<table border=\"1\" class=\"dataframe\">\n",
       "  <thead>\n",
       "    <tr style=\"text-align: right;\">\n",
       "      <th></th>\n",
       "      <th>areas</th>\n",
       "      <th>count_vacancies</th>\n",
       "    </tr>\n",
       "  </thead>\n",
       "  <tbody>\n",
       "    <tr>\n",
       "      <th>0</th>\n",
       "      <td>Омск</td>\n",
       "      <td>21</td>\n",
       "    </tr>\n",
       "    <tr>\n",
       "      <th>1</th>\n",
       "      <td>Челябинск</td>\n",
       "      <td>22</td>\n",
       "    </tr>\n",
       "    <tr>\n",
       "      <th>2</th>\n",
       "      <td>Красноярск</td>\n",
       "      <td>23</td>\n",
       "    </tr>\n",
       "    <tr>\n",
       "      <th>3</th>\n",
       "      <td>Волгоград</td>\n",
       "      <td>24</td>\n",
       "    </tr>\n",
       "    <tr>\n",
       "      <th>4</th>\n",
       "      <td>Пермь</td>\n",
       "      <td>25</td>\n",
       "    </tr>\n",
       "    <tr>\n",
       "      <th>5</th>\n",
       "      <td>Казань</td>\n",
       "      <td>25</td>\n",
       "    </tr>\n",
       "    <tr>\n",
       "      <th>6</th>\n",
       "      <td>Ростов-на-Дону</td>\n",
       "      <td>25</td>\n",
       "    </tr>\n",
       "    <tr>\n",
       "      <th>7</th>\n",
       "      <td>Уфа</td>\n",
       "      <td>26</td>\n",
       "    </tr>\n",
       "    <tr>\n",
       "      <th>8</th>\n",
       "      <td>Самара</td>\n",
       "      <td>26</td>\n",
       "    </tr>\n",
       "    <tr>\n",
       "      <th>9</th>\n",
       "      <td>Краснодар</td>\n",
       "      <td>30</td>\n",
       "    </tr>\n",
       "    <tr>\n",
       "      <th>10</th>\n",
       "      <td>Воронеж</td>\n",
       "      <td>32</td>\n",
       "    </tr>\n",
       "    <tr>\n",
       "      <th>11</th>\n",
       "      <td>Новосибирск</td>\n",
       "      <td>35</td>\n",
       "    </tr>\n",
       "    <tr>\n",
       "      <th>12</th>\n",
       "      <td>Нижний Новгород</td>\n",
       "      <td>36</td>\n",
       "    </tr>\n",
       "    <tr>\n",
       "      <th>13</th>\n",
       "      <td>Екатеринбург</td>\n",
       "      <td>39</td>\n",
       "    </tr>\n",
       "    <tr>\n",
       "      <th>14</th>\n",
       "      <td>Санкт-Петербург</td>\n",
       "      <td>42</td>\n",
       "    </tr>\n",
       "    <tr>\n",
       "      <th>15</th>\n",
       "      <td>Москва</td>\n",
       "      <td>54</td>\n",
       "    </tr>\n",
       "    <tr>\n",
       "      <th>16</th>\n",
       "      <td>Total</td>\n",
       "      <td>485</td>\n",
       "    </tr>\n",
       "  </tbody>\n",
       "</table>\n",
       "</div>"
      ],
      "text/plain": [
       "              areas  count_vacancies\n",
       "0              Омск               21\n",
       "1         Челябинск               22\n",
       "2        Красноярск               23\n",
       "3         Волгоград               24\n",
       "4             Пермь               25\n",
       "5            Казань               25\n",
       "6    Ростов-на-Дону               25\n",
       "7               Уфа               26\n",
       "8            Самара               26\n",
       "9         Краснодар               30\n",
       "10          Воронеж               32\n",
       "11      Новосибирск               35\n",
       "12  Нижний Новгород               36\n",
       "13     Екатеринбург               39\n",
       "14  Санкт-Петербург               42\n",
       "15           Москва               54\n",
       "16            Total              485"
      ]
     },
     "execution_count": 36,
     "metadata": {},
     "output_type": "execute_result"
    }
   ],
   "source": [
    "df_emp_mil = pd.read_sql_query(query_emp_mil, connection)\n",
    "df_emp_mil"
   ]
  },
  {
   "cell_type": "markdown",
   "id": "04966e40-3bc3-4dc8-9ba2-e80580ce3abc",
   "metadata": {
    "id": "04966e40-3bc3-4dc8-9ba2-e80580ce3abc"
   },
   "source": [
    "***"
   ]
  },
  {
   "cell_type": "markdown",
   "id": "a252fde9-3022-4382-911c-6781017c340f",
   "metadata": {
    "id": "aGGyER-yt4SR"
   },
   "source": [
    "#### выводы по анализу работодателей\n",
    "\n",
    "Всего в базе 23 501 работодатель.   \n",
    "В пятерку работодателей по количеству вакансий вхоят Яндекс, Ростелеком, Тинькофф, СБЕР, Газпром нефть.  \n",
    "Яндекс так же лидирует по количеству регионов, в которых он размещает свои вакансии. В каждом городе-миллионнике представлено от 21 до 54 вакансий. Лидируют в списке по количеству вакансий Москва и Санкт-Петербург. \n",
    "\n",
    "Более 100 регионов размещения вакансий так же у Ростелеком и Спецремонт.    \n",
    "Почти у четверти работодателей не указана сфера деятельности. При этом у 10% работодателей четыре и более сферы деятельности. Разработкой программного обеспечения занимаются 15% работодателей.  \n"
   ]
  },
  {
   "cell_type": "markdown",
   "id": "b1ef156a-efcb-49ce-bb23-90763e7f35b2",
   "metadata": {
    "id": "b1ef156a-efcb-49ce-bb23-90763e7f35b2",
    "tags": []
   },
   "source": [
    "# Юнит 6. Предметный анализ"
   ]
  },
  {
   "cell_type": "markdown",
   "id": "b9cd50a0-992d-4988-8463-2b2b1c4629b4",
   "metadata": {
    "id": "b9cd50a0-992d-4988-8463-2b2b1c4629b4"
   },
   "source": [
    "1. Сколько вакансий имеет отношение к данным?\n",
    "\n",
    "Считаем, что вакансия имеет отношение к данным, если в её названии содержатся слова 'data' или 'данн'.\n",
    "\n",
    "*Подсказка: Обратите внимание, что названия вакансий могут быть написаны в любом регистре.* \n"
   ]
  },
  {
   "cell_type": "code",
   "execution_count": 37,
   "id": "54ab0e50-c0f1-47cc-a54b-bc5c8bc363f9",
   "metadata": {
    "id": "54ab0e50-c0f1-47cc-a54b-bc5c8bc363f9"
   },
   "outputs": [],
   "source": [
    "query_vac_data = f'''select \n",
    "                        count(v.name) as data_count\n",
    "                     from \n",
    "                         public.vacancies as v\n",
    "                     where \n",
    "                         lower(v.name) like '%%data%%' \n",
    "                         or lower(v.name) like '%%данн%%'\n",
    "                    '''"
   ]
  },
  {
   "cell_type": "code",
   "execution_count": 38,
   "id": "9F1meAqsuUjd",
   "metadata": {
    "id": "9F1meAqsuUjd"
   },
   "outputs": [
    {
     "data": {
      "text/html": [
       "<div>\n",
       "<style scoped>\n",
       "    .dataframe tbody tr th:only-of-type {\n",
       "        vertical-align: middle;\n",
       "    }\n",
       "\n",
       "    .dataframe tbody tr th {\n",
       "        vertical-align: top;\n",
       "    }\n",
       "\n",
       "    .dataframe thead th {\n",
       "        text-align: right;\n",
       "    }\n",
       "</style>\n",
       "<table border=\"1\" class=\"dataframe\">\n",
       "  <thead>\n",
       "    <tr style=\"text-align: right;\">\n",
       "      <th></th>\n",
       "      <th>data_count</th>\n",
       "    </tr>\n",
       "  </thead>\n",
       "  <tbody>\n",
       "    <tr>\n",
       "      <th>0</th>\n",
       "      <td>1771</td>\n",
       "    </tr>\n",
       "  </tbody>\n",
       "</table>\n",
       "</div>"
      ],
      "text/plain": [
       "   data_count\n",
       "0        1771"
      ]
     },
     "execution_count": 38,
     "metadata": {},
     "output_type": "execute_result"
    }
   ],
   "source": [
    "df_emp_data = pd.read_sql_query(query_vac_data, connection)\n",
    "df_emp_data"
   ]
  },
  {
   "cell_type": "markdown",
   "id": "4dea20cb-a36b-474a-a0b9-e08e8e3857a5",
   "metadata": {
    "id": "4dea20cb-a36b-474a-a0b9-e08e8e3857a5"
   },
   "source": [
    "2. Сколько есть подходящих вакансий для начинающего дата-сайентиста? \n",
    "Будем считать вакансиями для дата-сайентистов такие, в названии которых есть хотя бы одно из следующих сочетаний:\n",
    "* 'data scientist'\n",
    "* 'data science'\n",
    "* 'исследователь данных'\n",
    "* 'ML' (здесь не нужно брать вакансии по HTML)\n",
    "* 'machine learning'\n",
    "* 'машинн%обучен%'\n",
    "\n",
    "** В следующих заданиях мы продолжим работать с вакансиями по этому условию.*\n",
    "\n",
    "Считаем вакансиями для специалистов уровня Junior следующие:\n",
    "* в названии есть слово 'junior' *или*\n",
    "* требуемый опыт — Нет опыта *или*\n",
    "* тип трудоустройства — Стажировка.\n",
    " "
   ]
  },
  {
   "cell_type": "code",
   "execution_count": 40,
   "id": "9c61b3c0-bb66-46c9-ae1e-81d3f5752b4a",
   "metadata": {
    "id": "9c61b3c0-bb66-46c9-ae1e-81d3f5752b4a"
   },
   "outputs": [],
   "source": [
    "query_vac_data_jun = f'''select \n",
    "                            count(*) as junior_data\n",
    "                         from \n",
    "                             public.vacancies as v\n",
    "                         where \n",
    "                             (v.name ilike '%%data scientist%%' \n",
    "                             or v.name ilike  '%%data science%%'\n",
    "                             or v.name ilike  '%%исследователь данных%%'\n",
    "                             or v.name like  '%%ML%%'                    -- учитываем регистр, что бы в выборку не попали профессии TeamLead\n",
    "                             or v.name ilike  '%%machine learning%%'\n",
    "                             or v.name ilike  '%%машинн%обучен%%')\n",
    "                             and v.name not ilike '%%HTML%%'\n",
    "                             and\n",
    "                             (v.name ilike '%%junior%%'\n",
    "                             or v.experience ilike '%%Нет опыта%%'\n",
    "                             or v.employment ilike '%%Стажировка%%')\n",
    "                        '''"
   ]
  },
  {
   "cell_type": "code",
   "execution_count": 41,
   "id": "ZNM-LLYuu1dj",
   "metadata": {
    "id": "ZNM-LLYuu1dj"
   },
   "outputs": [
    {
     "name": "stderr",
     "output_type": "stream",
     "text": [
      "C:\\Users\\зщш\\AppData\\Local\\Temp\\ipykernel_9884\\2258418391.py:1: UserWarning: pandas only supports SQLAlchemy connectable (engine/connection) or database string URI or sqlite3 DBAPI2 connection. Other DBAPI2 objects are not tested. Please consider using SQLAlchemy.\n",
      "  df_emp_data_jun = pd.read_sql_query(query_vac_data_jun, connection)\n"
     ]
    },
    {
     "data": {
      "text/html": [
       "<div>\n",
       "<style scoped>\n",
       "    .dataframe tbody tr th:only-of-type {\n",
       "        vertical-align: middle;\n",
       "    }\n",
       "\n",
       "    .dataframe tbody tr th {\n",
       "        vertical-align: top;\n",
       "    }\n",
       "\n",
       "    .dataframe thead th {\n",
       "        text-align: right;\n",
       "    }\n",
       "</style>\n",
       "<table border=\"1\" class=\"dataframe\">\n",
       "  <thead>\n",
       "    <tr style=\"text-align: right;\">\n",
       "      <th></th>\n",
       "      <th>junior_data</th>\n",
       "    </tr>\n",
       "  </thead>\n",
       "  <tbody>\n",
       "    <tr>\n",
       "      <th>0</th>\n",
       "      <td>51</td>\n",
       "    </tr>\n",
       "  </tbody>\n",
       "</table>\n",
       "</div>"
      ],
      "text/plain": [
       "   junior_data\n",
       "0           51"
      ]
     },
     "execution_count": 41,
     "metadata": {},
     "output_type": "execute_result"
    }
   ],
   "source": [
    "df_emp_data_jun = pd.read_sql_query(query_vac_data_jun, connection)\n",
    "df_emp_data_jun"
   ]
  },
  {
   "cell_type": "markdown",
   "id": "eedceb80-c5ca-480e-b27a-278dfb8b4438",
   "metadata": {
    "id": "eedceb80-c5ca-480e-b27a-278dfb8b4438"
   },
   "source": [
    "3. Сколько есть вакансий для DS, в которых в качестве ключевого навыка указан SQL или postgres?\n",
    "\n",
    "** Критерии для отнесения вакансии к DS указаны в предыдущем задании.*"
   ]
  },
  {
   "cell_type": "code",
   "execution_count": 42,
   "id": "69621713-0cc5-4f1b-a1d7-bb144fa6148c",
   "metadata": {
    "id": "69621713-0cc5-4f1b-a1d7-bb144fa6148c"
   },
   "outputs": [],
   "source": [
    "query_vac_data_sql = f'''select \n",
    "                            count(*) as data_sql\n",
    "                         from \n",
    "                             public.vacancies as v\n",
    "                         where \n",
    "                             (v.name ilike '%%data scientist%%' \n",
    "                             or v.name ilike  '%%data science%%'\n",
    "                             or v.name ilike  '%%исследователь данных%%'\n",
    "                             or v.name like    '%%ML%%' \n",
    "                             or v.name ilike  '%%machine learning%%'\n",
    "                             or v.name ilike  '%%машинн%обучен%%')\n",
    "                             and v.name not ilike '%%HTML%%'\n",
    "                             and (v.key_skills ilike any(array['%%SQL%%','%%postgres%%']))  -- различные варианты фильтрации\n",
    "                             '''"
   ]
  },
  {
   "cell_type": "code",
   "execution_count": 43,
   "id": "alA8WEAAvGdf",
   "metadata": {
    "id": "alA8WEAAvGdf"
   },
   "outputs": [
    {
     "name": "stderr",
     "output_type": "stream",
     "text": [
      "C:\\Users\\зщш\\AppData\\Local\\Temp\\ipykernel_9884\\2332656706.py:1: UserWarning: pandas only supports SQLAlchemy connectable (engine/connection) or database string URI or sqlite3 DBAPI2 connection. Other DBAPI2 objects are not tested. Please consider using SQLAlchemy.\n",
      "  df_emp_data_sql = pd.read_sql_query(query_vac_data_sql, connection)\n"
     ]
    },
    {
     "data": {
      "text/html": [
       "<div>\n",
       "<style scoped>\n",
       "    .dataframe tbody tr th:only-of-type {\n",
       "        vertical-align: middle;\n",
       "    }\n",
       "\n",
       "    .dataframe tbody tr th {\n",
       "        vertical-align: top;\n",
       "    }\n",
       "\n",
       "    .dataframe thead th {\n",
       "        text-align: right;\n",
       "    }\n",
       "</style>\n",
       "<table border=\"1\" class=\"dataframe\">\n",
       "  <thead>\n",
       "    <tr style=\"text-align: right;\">\n",
       "      <th></th>\n",
       "      <th>data_sql</th>\n",
       "    </tr>\n",
       "  </thead>\n",
       "  <tbody>\n",
       "    <tr>\n",
       "      <th>0</th>\n",
       "      <td>201</td>\n",
       "    </tr>\n",
       "  </tbody>\n",
       "</table>\n",
       "</div>"
      ],
      "text/plain": [
       "   data_sql\n",
       "0       201"
      ]
     },
     "execution_count": 43,
     "metadata": {},
     "output_type": "execute_result"
    }
   ],
   "source": [
    "df_emp_data_sql = pd.read_sql_query(query_vac_data_sql, connection)\n",
    "df_emp_data_sql"
   ]
  },
  {
   "cell_type": "markdown",
   "id": "1be1e9c6-37cf-4a5f-bfeb-04cab799dc80",
   "metadata": {
    "id": "1be1e9c6-37cf-4a5f-bfeb-04cab799dc80"
   },
   "source": [
    "4. Проверьте, насколько популярен Python в требованиях работодателей к DS.Для этого вычислите количество вакансий, в которых в качестве ключевого навыка указан Python.\n",
    "\n",
    "** Это можно сделать помощью запроса, аналогичного предыдущему.*"
   ]
  },
  {
   "cell_type": "code",
   "execution_count": 44,
   "id": "0036a355-9ccf-4564-8b01-73d8194297e7",
   "metadata": {
    "id": "0036a355-9ccf-4564-8b01-73d8194297e7"
   },
   "outputs": [],
   "source": [
    "query_vac_data_pt = f'''select \n",
    "                            count(*) as data_pt\n",
    "                         from \n",
    "                             public.vacancies as v\n",
    "                         where \n",
    "                             (v.name ilike '%data scientist%' \n",
    "                             or v.name ilike  '%data science%'\n",
    "                             or v.name ilike  '%исследователь данных%'\n",
    "                             or v.name like    '%ML%' \n",
    "                             or v.name ilike  '%machine learning%'\n",
    "                             or v.name ilike  '%машинн%обучен%')\n",
    "                             and v.name not ilike '%HTML%'\n",
    "                             and v.key_skills ilike '%Python%'\n",
    "                             '''"
   ]
  },
  {
   "cell_type": "code",
   "execution_count": 45,
   "id": "1i-5WyucvQ6v",
   "metadata": {
    "id": "1i-5WyucvQ6v"
   },
   "outputs": [
    {
     "name": "stderr",
     "output_type": "stream",
     "text": [
      "C:\\Users\\зщш\\AppData\\Local\\Temp\\ipykernel_9884\\934546689.py:1: UserWarning: pandas only supports SQLAlchemy connectable (engine/connection) or database string URI or sqlite3 DBAPI2 connection. Other DBAPI2 objects are not tested. Please consider using SQLAlchemy.\n",
      "  df_emp_data_pt = pd.read_sql_query(query_vac_data_pt, connection)\n"
     ]
    },
    {
     "data": {
      "text/html": [
       "<div>\n",
       "<style scoped>\n",
       "    .dataframe tbody tr th:only-of-type {\n",
       "        vertical-align: middle;\n",
       "    }\n",
       "\n",
       "    .dataframe tbody tr th {\n",
       "        vertical-align: top;\n",
       "    }\n",
       "\n",
       "    .dataframe thead th {\n",
       "        text-align: right;\n",
       "    }\n",
       "</style>\n",
       "<table border=\"1\" class=\"dataframe\">\n",
       "  <thead>\n",
       "    <tr style=\"text-align: right;\">\n",
       "      <th></th>\n",
       "      <th>data_pt</th>\n",
       "    </tr>\n",
       "  </thead>\n",
       "  <tbody>\n",
       "    <tr>\n",
       "      <th>0</th>\n",
       "      <td>351</td>\n",
       "    </tr>\n",
       "  </tbody>\n",
       "</table>\n",
       "</div>"
      ],
      "text/plain": [
       "   data_pt\n",
       "0      351"
      ]
     },
     "execution_count": 45,
     "metadata": {},
     "output_type": "execute_result"
    }
   ],
   "source": [
    "df_emp_data_pt = pd.read_sql_query(query_vac_data_pt, connection)\n",
    "df_emp_data_pt"
   ]
  },
  {
   "cell_type": "markdown",
   "id": "ec3c8db7-fa21-4a41-a994-1af63742a642",
   "metadata": {
    "id": "ec3c8db7-fa21-4a41-a994-1af63742a642"
   },
   "source": [
    "5. Сколько ключевых навыков в среднем указывают в вакансиях для DS?\n",
    "Ответ округлите до двух знаков после точки-разделителя."
   ]
  },
  {
   "cell_type": "code",
   "execution_count": 46,
   "id": "949132bc-d5b6-4611-8218-0b9a504d74f4",
   "metadata": {
    "id": "949132bc-d5b6-4611-8218-0b9a504d74f4"
   },
   "outputs": [],
   "source": [
    "query_vac_data_skills = f''' select\n",
    "                                round(avg(length(v.key_skills) - length(replace(v.key_skills, '\\t', '')) + 1), 2) as avg_key_skills\n",
    "                            from \n",
    "                                public.vacancies as v\n",
    "                            where \n",
    "                                v.name ilike any(array['%%data scientist%%', '%%data science%%', '%%исследователь данных%%', '%%machine learning%%', '%%машинн%обучен%%'])            \n",
    "                                or v.name like '%%ML%%' \n",
    "                                and v.name not ilike '%%HTML%%'\n",
    "                            having round(avg(length(v.key_skills) - length(replace(v.key_skills, '\\t', '')) + 1), 2) is not null\n",
    "                          '''"
   ]
  },
  {
   "cell_type": "code",
   "execution_count": 47,
   "id": "a3V24Tvmviqk",
   "metadata": {
    "id": "a3V24Tvmviqk"
   },
   "outputs": [
    {
     "name": "stderr",
     "output_type": "stream",
     "text": [
      "C:\\Users\\зщш\\AppData\\Local\\Temp\\ipykernel_9884\\4017003779.py:1: UserWarning: pandas only supports SQLAlchemy connectable (engine/connection) or database string URI or sqlite3 DBAPI2 connection. Other DBAPI2 objects are not tested. Please consider using SQLAlchemy.\n",
      "  df_emp_data_skills = pd.read_sql_query(query_vac_data_skills, connection)\n"
     ]
    },
    {
     "data": {
      "text/html": [
       "<div>\n",
       "<style scoped>\n",
       "    .dataframe tbody tr th:only-of-type {\n",
       "        vertical-align: middle;\n",
       "    }\n",
       "\n",
       "    .dataframe tbody tr th {\n",
       "        vertical-align: top;\n",
       "    }\n",
       "\n",
       "    .dataframe thead th {\n",
       "        text-align: right;\n",
       "    }\n",
       "</style>\n",
       "<table border=\"1\" class=\"dataframe\">\n",
       "  <thead>\n",
       "    <tr style=\"text-align: right;\">\n",
       "      <th></th>\n",
       "      <th>avg_key_skills</th>\n",
       "    </tr>\n",
       "  </thead>\n",
       "  <tbody>\n",
       "    <tr>\n",
       "      <th>0</th>\n",
       "      <td>6.41</td>\n",
       "    </tr>\n",
       "  </tbody>\n",
       "</table>\n",
       "</div>"
      ],
      "text/plain": [
       "   avg_key_skills\n",
       "0            6.41"
      ]
     },
     "execution_count": 47,
     "metadata": {},
     "output_type": "execute_result"
    }
   ],
   "source": [
    "df_emp_data_skills = pd.read_sql_query(query_vac_data_skills, connection)\n",
    "df_emp_data_skills"
   ]
  },
  {
   "cell_type": "markdown",
   "id": "1041c17a-ca8f-4543-a0ca-32778914fb00",
   "metadata": {
    "id": "1041c17a-ca8f-4543-a0ca-32778914fb00"
   },
   "source": [
    "6. Напишите запрос, позволяющий вычислить, какую зарплату для DS в **среднем** указывают для каждого типа требуемого опыта (уникальное значение из поля *experience*). \n",
    "\n",
    "При решении задачи примите во внимание следующее:\n",
    "1. Рассматриваем только вакансии, у которых заполнено хотя бы одно из двух полей с зарплатой.\n",
    "2. Если заполнены оба поля с зарплатой, то считаем зарплату по каждой вакансии как сумму двух полей, делённую на 2. Если заполнено только одно из полей, то его и считаем зарплатой по вакансии.\n",
    "3. Если в расчётах участвует null, в результате он тоже даст null (посмотрите, что возвращает запрос select 1 + null). Чтобы избежать этой ситуацию, мы воспользуемся функцией [coalesce](https://postgrespro.ru/docs/postgresql/9.5/functions-conditional#functions-coalesce-nvl-ifnull), которая заменит null на значение, которое мы передадим. Например, посмотрите, что возвращает запрос `select 1 + coalesce(null, 0)`\n",
    "\n",
    "Выясните, на какую зарплату в среднем может рассчитывать дата-сайентист с опытом работы от 3 до 6 лет. Результат округлите до целого числа. "
   ]
  },
  {
   "cell_type": "code",
   "execution_count": 48,
   "id": "6a743d39-5204-48d3-8271-b9f88e68d40e",
   "metadata": {
    "id": "6a743d39-5204-48d3-8271-b9f88e68d40e"
   },
   "outputs": [],
   "source": [
    "query_vac_data_wage = f''' select\n",
    "                               v.experience as experience,\n",
    "                               round(avg(coalesce((salary_from+salary_to)/2, salary_from, salary_to))) as avg_wage\n",
    "                           from \n",
    "                                public.vacancies as v\n",
    "                            where \n",
    "                                (v.name ilike any(array['%data scientist%', '%data science%', '%исследователь данных%', '%machine learning%', '%машинн%обучен%'])                     \n",
    "                                or v.name like '%ML%' \n",
    "                                and v.name not ilike '%HTML%')\n",
    "                            group by v.experience\n",
    "                            order by 2\n",
    "                       '''"
   ]
  },
  {
   "cell_type": "code",
   "execution_count": 49,
   "id": "aRIJ0mZEwU1_",
   "metadata": {
    "id": "aRIJ0mZEwU1_"
   },
   "outputs": [
    {
     "name": "stderr",
     "output_type": "stream",
     "text": [
      "C:\\Users\\зщш\\AppData\\Local\\Temp\\ipykernel_9884\\2547540356.py:1: UserWarning: pandas only supports SQLAlchemy connectable (engine/connection) or database string URI or sqlite3 DBAPI2 connection. Other DBAPI2 objects are not tested. Please consider using SQLAlchemy.\n",
      "  df_emp_data_wage = pd.read_sql_query(query_vac_data_wage, connection)\n"
     ]
    },
    {
     "data": {
      "text/html": [
       "<div>\n",
       "<style scoped>\n",
       "    .dataframe tbody tr th:only-of-type {\n",
       "        vertical-align: middle;\n",
       "    }\n",
       "\n",
       "    .dataframe tbody tr th {\n",
       "        vertical-align: top;\n",
       "    }\n",
       "\n",
       "    .dataframe thead th {\n",
       "        text-align: right;\n",
       "    }\n",
       "</style>\n",
       "<table border=\"1\" class=\"dataframe\">\n",
       "  <thead>\n",
       "    <tr style=\"text-align: right;\">\n",
       "      <th></th>\n",
       "      <th>experience</th>\n",
       "      <th>avg_wage</th>\n",
       "    </tr>\n",
       "  </thead>\n",
       "  <tbody>\n",
       "    <tr>\n",
       "      <th>0</th>\n",
       "      <td>Нет опыта</td>\n",
       "      <td>74643.0</td>\n",
       "    </tr>\n",
       "    <tr>\n",
       "      <th>1</th>\n",
       "      <td>От 1 года до 3 лет</td>\n",
       "      <td>139675.0</td>\n",
       "    </tr>\n",
       "    <tr>\n",
       "      <th>2</th>\n",
       "      <td>От 3 до 6 лет</td>\n",
       "      <td>243115.0</td>\n",
       "    </tr>\n",
       "    <tr>\n",
       "      <th>3</th>\n",
       "      <td>Более 6 лет</td>\n",
       "      <td>NaN</td>\n",
       "    </tr>\n",
       "  </tbody>\n",
       "</table>\n",
       "</div>"
      ],
      "text/plain": [
       "           experience  avg_wage\n",
       "0           Нет опыта   74643.0\n",
       "1  От 1 года до 3 лет  139675.0\n",
       "2       От 3 до 6 лет  243115.0\n",
       "3         Более 6 лет       NaN"
      ]
     },
     "execution_count": 49,
     "metadata": {},
     "output_type": "execute_result"
    }
   ],
   "source": [
    "df_emp_data_wage = pd.read_sql_query(query_vac_data_wage, connection)\n",
    "df_emp_data_wage"
   ]
  },
  {
   "cell_type": "markdown",
   "id": "6a7892b4-4113-4746-adce-18aa2844f18e",
   "metadata": {
    "id": "6a7892b4-4113-4746-adce-18aa2844f18e"
   },
   "source": [
    "***"
   ]
  },
  {
   "cell_type": "markdown",
   "id": "bba33125-483c-4cd8-b108-6d7cc26b6bd0",
   "metadata": {
    "id": "UjLWUptVwY1o"
   },
   "source": [
    "#### выводы по предметному анализу\n",
    "\n",
    "В базе 1771 вакансия, связанная с данными, из них только 51 (около 4%) для начинающих специалистов.  \n",
    "Владение SQL или postgres в качестве ключевого навыка содержит 201 (около 11%) вакансия, знание  Python 351 (около 20%) вакансия.\n",
    "Вакансии для DS в среднем содержат 6-7 ключевых навыков.  \n",
    "Уровень средней заработной платы колеблется от 74,6 тыс. руб. до 243,1 тыс. руб. в зависимости от опыта работы. Для специалистов со стажем работы более 6 лет уровень заработной платы определяется по итогам собеседования.  "
   ]
  },
  {
   "cell_type": "markdown",
   "id": "c0ED6fh7wiBT",
   "metadata": {
    "id": "c0ED6fh7wiBT"
   },
   "source": [
    "# Общий вывод по проекту"
   ]
  },
  {
   "cell_type": "markdown",
   "id": "6bbaadaf-b774-40ea-974c-434f6333f417",
   "metadata": {},
   "source": [
    "Выведем топ 5 отраслей по количеству вакансий. Дополним сведения количеством работодателей в каждой сфере."
   ]
  },
  {
   "cell_type": "code",
   "execution_count": 71,
   "id": "7100fe75-84cc-43f9-8a7b-bcdfaf98f600",
   "metadata": {},
   "outputs": [],
   "source": [
    "query_ind_vac = f'''select\n",
    "                        distinct ind.name as industry,\n",
    "                        count(distinct v.id) as total_vacancies,\n",
    "                        count(distinct e.id) as total_employers\n",
    "                    from public.employers as e\n",
    "                            left join public.employers_industries as i on e.id = i.employer_id \n",
    "                            left join public.industries as ind on ind.id = i.industry_id\n",
    "                            left join public.vacancies as v on v.employer_id = e.id\n",
    "                    where ind.name is not null\n",
    "                    group by ind.name\n",
    "                    order by 2 desc\n",
    "                    limit 5\n",
    "                    '''"
   ]
  },
  {
   "cell_type": "code",
   "execution_count": 72,
   "id": "a436c341-2248-4789-ada6-a474a70c6b21",
   "metadata": {},
   "outputs": [
    {
     "data": {
      "text/html": [
       "<div>\n",
       "<style scoped>\n",
       "    .dataframe tbody tr th:only-of-type {\n",
       "        vertical-align: middle;\n",
       "    }\n",
       "\n",
       "    .dataframe tbody tr th {\n",
       "        vertical-align: top;\n",
       "    }\n",
       "\n",
       "    .dataframe thead th {\n",
       "        text-align: right;\n",
       "    }\n",
       "</style>\n",
       "<table border=\"1\" class=\"dataframe\">\n",
       "  <thead>\n",
       "    <tr style=\"text-align: right;\">\n",
       "      <th></th>\n",
       "      <th>industry</th>\n",
       "      <th>total_vacancies</th>\n",
       "      <th>total_employers</th>\n",
       "    </tr>\n",
       "  </thead>\n",
       "  <tbody>\n",
       "    <tr>\n",
       "      <th>0</th>\n",
       "      <td>Разработка программного обеспечения</td>\n",
       "      <td>12499</td>\n",
       "      <td>3553</td>\n",
       "    </tr>\n",
       "    <tr>\n",
       "      <th>1</th>\n",
       "      <td>Системная интеграция,  автоматизации технологических и бизнес-процессов предприятия, ИТ-консалтинг</td>\n",
       "      <td>11034</td>\n",
       "      <td>2993</td>\n",
       "    </tr>\n",
       "    <tr>\n",
       "      <th>2</th>\n",
       "      <td>Интернет-компания (поисковики, платежные системы, соц.сети, информационно-познавательные и развлекательные ресурсы, продвижение сайтов и прочее)</td>\n",
       "      <td>6413</td>\n",
       "      <td>1675</td>\n",
       "    </tr>\n",
       "    <tr>\n",
       "      <th>3</th>\n",
       "      <td>Банк</td>\n",
       "      <td>2742</td>\n",
       "      <td>249</td>\n",
       "    </tr>\n",
       "    <tr>\n",
       "      <th>4</th>\n",
       "      <td>Мобильная связь</td>\n",
       "      <td>1585</td>\n",
       "      <td>156</td>\n",
       "    </tr>\n",
       "  </tbody>\n",
       "</table>\n",
       "</div>"
      ],
      "text/plain": [
       "                                                                                                                                           industry  \\\n",
       "0                                                                                                               Разработка программного обеспечения   \n",
       "1                                                Системная интеграция,  автоматизации технологических и бизнес-процессов предприятия, ИТ-консалтинг   \n",
       "2  Интернет-компания (поисковики, платежные системы, соц.сети, информационно-познавательные и развлекательные ресурсы, продвижение сайтов и прочее)   \n",
       "3                                                                                                                                              Банк   \n",
       "4                                                                                                                                   Мобильная связь   \n",
       "\n",
       "   total_vacancies  total_employers  \n",
       "0            12499             3553  \n",
       "1            11034             2993  \n",
       "2             6413             1675  \n",
       "3             2742              249  \n",
       "4             1585              156  "
      ]
     },
     "execution_count": 72,
     "metadata": {},
     "output_type": "execute_result"
    }
   ],
   "source": [
    "df_ind_vac = pd.read_sql_query(query_ind_vac , connection)\n",
    "df_ind_vac"
   ]
  },
  {
   "cell_type": "markdown",
   "id": "15fb4332-c567-41df-9abc-1093b87abc1b",
   "metadata": {},
   "source": [
    "Посмотрим какие вакансии содержит сфера 'Разработка программного обеспечения' и потребность рынка в них."
   ]
  },
  {
   "cell_type": "code",
   "execution_count": 73,
   "id": "3fe0fdbe-6ed3-4892-9960-ad5bc83b70a6",
   "metadata": {},
   "outputs": [],
   "source": [
    "query_ind_vac2 = f'''select\n",
    "                        e.name as employer,\n",
    "                        v.name as vacancy,\n",
    "                        count(v.name) as cout_vacancies\n",
    "                    from public.industries as i\n",
    "                        join public.employers_industries as ei on i.id = ei.industry_id\n",
    "                        left join public.employers as e on ei.employer_id = e.id\n",
    "                        left join public.vacancies as v on v.employer_id = e.id\n",
    "                    where i.name = 'Разработка программного обеспечения'\n",
    "                    group by \n",
    "                        i.name, \n",
    "                        v.name, \n",
    "                        e.name\n",
    "                    having count(v.name) > 0\n",
    "                    order by  3 desc\n",
    "                    '''"
   ]
  },
  {
   "cell_type": "code",
   "execution_count": 74,
   "id": "6a22deea-811f-41d8-b24f-60153ace4e48",
   "metadata": {},
   "outputs": [
    {
     "data": {
      "text/html": [
       "<div>\n",
       "<style scoped>\n",
       "    .dataframe tbody tr th:only-of-type {\n",
       "        vertical-align: middle;\n",
       "    }\n",
       "\n",
       "    .dataframe tbody tr th {\n",
       "        vertical-align: top;\n",
       "    }\n",
       "\n",
       "    .dataframe thead th {\n",
       "        text-align: right;\n",
       "    }\n",
       "</style>\n",
       "<table border=\"1\" class=\"dataframe\">\n",
       "  <thead>\n",
       "    <tr style=\"text-align: right;\">\n",
       "      <th></th>\n",
       "      <th>employer</th>\n",
       "      <th>vacancy</th>\n",
       "      <th>cout_vacancies</th>\n",
       "    </tr>\n",
       "  </thead>\n",
       "  <tbody>\n",
       "    <tr>\n",
       "      <th>0</th>\n",
       "      <td>КРОН</td>\n",
       "      <td>Программист 1С</td>\n",
       "      <td>48</td>\n",
       "    </tr>\n",
       "    <tr>\n",
       "      <th>1</th>\n",
       "      <td>Andersen</td>\n",
       "      <td>Ruby Developer</td>\n",
       "      <td>26</td>\n",
       "    </tr>\n",
       "    <tr>\n",
       "      <th>2</th>\n",
       "      <td>Ingate</td>\n",
       "      <td>Junior product manager</td>\n",
       "      <td>17</td>\n",
       "    </tr>\n",
       "    <tr>\n",
       "      <th>3</th>\n",
       "      <td>ЦИФРОВОЙ ВЫБОР</td>\n",
       "      <td>Ведущий аналитик / консультант 1С по направлению регламентированного учета (БУ/НУ)</td>\n",
       "      <td>16</td>\n",
       "    </tr>\n",
       "    <tr>\n",
       "      <th>4</th>\n",
       "      <td>Goodt</td>\n",
       "      <td>Дата инженер NiFi (Middle)</td>\n",
       "      <td>16</td>\n",
       "    </tr>\n",
       "  </tbody>\n",
       "</table>\n",
       "</div>"
      ],
      "text/plain": [
       "         employer  \\\n",
       "0            КРОН   \n",
       "1        Andersen   \n",
       "2          Ingate   \n",
       "3  ЦИФРОВОЙ ВЫБОР   \n",
       "4           Goodt   \n",
       "\n",
       "                                                                              vacancy  \\\n",
       "0                                                                      Программист 1С   \n",
       "1                                                                      Ruby Developer   \n",
       "2                                                              Junior product manager   \n",
       "3  Ведущий аналитик / консультант 1С по направлению регламентированного учета (БУ/НУ)   \n",
       "4                                                          Дата инженер NiFi (Middle)   \n",
       "\n",
       "   cout_vacancies  \n",
       "0              48  \n",
       "1              26  \n",
       "2              17  \n",
       "3              16  \n",
       "4              16  "
      ]
     },
     "execution_count": 74,
     "metadata": {},
     "output_type": "execute_result"
    }
   ],
   "source": [
    "df_ind_vac2 = pd.read_sql_query(query_ind_vac2 , connection)\n",
    "df_ind_vac2.head()"
   ]
  },
  {
   "cell_type": "code",
   "execution_count": 55,
   "id": "045e4f2b-c42f-4c4b-aade-2054abea1a27",
   "metadata": {},
   "outputs": [
    {
     "data": {
      "text/plain": [
       "6302"
      ]
     },
     "execution_count": 55,
     "metadata": {},
     "output_type": "execute_result"
    }
   ],
   "source": [
    "len(list(df_ind_vac2.vacancy.unique()))"
   ]
  },
  {
   "cell_type": "markdown",
   "id": "6098c27f-b848-41b2-914a-7ae6a14e05d0",
   "metadata": {},
   "source": [
    "Рассмотрим топ регионов по количеству вакансий на удаленной работе."
   ]
  },
  {
   "cell_type": "code",
   "execution_count": 75,
   "id": "2c4b907f-9db7-46eb-b6c8-aa44f8836992",
   "metadata": {},
   "outputs": [],
   "source": [
    "query_vac_sch2 = f'''select \n",
    "                        a.name as cities,\n",
    "                        count(v.id) as count_vacancies,\n",
    "                        count(v.employer_id) as count_employers\n",
    "                 from public.vacancies as v\n",
    "                      join public.areas as a on v.area_id = a.id\n",
    "                 where schedule = 'Удаленная работа'\n",
    "                 group by \n",
    "                     a.name\n",
    "                 order by 2 desc\n",
    "                 limit 10\n",
    "                ''' "
   ]
  },
  {
   "cell_type": "code",
   "execution_count": 76,
   "id": "f7010d46-9b82-4f58-b89f-f3232c5d532c",
   "metadata": {},
   "outputs": [
    {
     "data": {
      "text/html": [
       "<div>\n",
       "<style scoped>\n",
       "    .dataframe tbody tr th:only-of-type {\n",
       "        vertical-align: middle;\n",
       "    }\n",
       "\n",
       "    .dataframe tbody tr th {\n",
       "        vertical-align: top;\n",
       "    }\n",
       "\n",
       "    .dataframe thead th {\n",
       "        text-align: right;\n",
       "    }\n",
       "</style>\n",
       "<table border=\"1\" class=\"dataframe\">\n",
       "  <thead>\n",
       "    <tr style=\"text-align: right;\">\n",
       "      <th></th>\n",
       "      <th>cities</th>\n",
       "      <th>count_vacancies</th>\n",
       "      <th>count_employers</th>\n",
       "    </tr>\n",
       "  </thead>\n",
       "  <tbody>\n",
       "    <tr>\n",
       "      <th>0</th>\n",
       "      <td>Москва</td>\n",
       "      <td>998</td>\n",
       "      <td>998</td>\n",
       "    </tr>\n",
       "    <tr>\n",
       "      <th>1</th>\n",
       "      <td>Санкт-Петербург</td>\n",
       "      <td>462</td>\n",
       "      <td>462</td>\n",
       "    </tr>\n",
       "    <tr>\n",
       "      <th>2</th>\n",
       "      <td>Нижний Новгород</td>\n",
       "      <td>405</td>\n",
       "      <td>405</td>\n",
       "    </tr>\n",
       "    <tr>\n",
       "      <th>3</th>\n",
       "      <td>Новосибирск</td>\n",
       "      <td>345</td>\n",
       "      <td>345</td>\n",
       "    </tr>\n",
       "    <tr>\n",
       "      <th>4</th>\n",
       "      <td>Минск</td>\n",
       "      <td>339</td>\n",
       "      <td>339</td>\n",
       "    </tr>\n",
       "    <tr>\n",
       "      <th>5</th>\n",
       "      <td>Краснодар</td>\n",
       "      <td>333</td>\n",
       "      <td>333</td>\n",
       "    </tr>\n",
       "    <tr>\n",
       "      <th>6</th>\n",
       "      <td>Казань</td>\n",
       "      <td>289</td>\n",
       "      <td>289</td>\n",
       "    </tr>\n",
       "    <tr>\n",
       "      <th>7</th>\n",
       "      <td>Екатеринбург</td>\n",
       "      <td>278</td>\n",
       "      <td>278</td>\n",
       "    </tr>\n",
       "    <tr>\n",
       "      <th>8</th>\n",
       "      <td>Ростов-на-Дону</td>\n",
       "      <td>272</td>\n",
       "      <td>272</td>\n",
       "    </tr>\n",
       "    <tr>\n",
       "      <th>9</th>\n",
       "      <td>Самара</td>\n",
       "      <td>254</td>\n",
       "      <td>254</td>\n",
       "    </tr>\n",
       "  </tbody>\n",
       "</table>\n",
       "</div>"
      ],
      "text/plain": [
       "            cities  count_vacancies  count_employers\n",
       "0           Москва              998              998\n",
       "1  Санкт-Петербург              462              462\n",
       "2  Нижний Новгород              405              405\n",
       "3      Новосибирск              345              345\n",
       "4            Минск              339              339\n",
       "5        Краснодар              333              333\n",
       "6           Казань              289              289\n",
       "7     Екатеринбург              278              278\n",
       "8   Ростов-на-Дону              272              272\n",
       "9           Самара              254              254"
      ]
     },
     "execution_count": 76,
     "metadata": {},
     "output_type": "execute_result"
    }
   ],
   "source": [
    "df_vac_sch2 = pd.read_sql_query(query_vac_sch2, connection)\n",
    "df_vac_sch2"
   ]
  },
  {
   "cell_type": "markdown",
   "id": "adc783a6-a825-40ff-ad4e-50724813f4e2",
   "metadata": {},
   "source": [
    "Рассмотрим топ 5 работодателей с вакансиями на удаленной работе."
   ]
  },
  {
   "cell_type": "code",
   "execution_count": 77,
   "id": "a89707a9-8343-4ce0-8747-f721d3e8dda8",
   "metadata": {},
   "outputs": [],
   "source": [
    "query_vac_sch3 = f'''select \n",
    "                        e.name as employers,\n",
    "                        count(v.id) as count_vacancies,\n",
    "                        count(a.id) as count_areas\n",
    "                 from public.vacancies as v\n",
    "                      join public.areas as a on v.area_id = a.id\n",
    "                      join public.employers as e on v.employer_id = e.id\n",
    "                 where schedule = 'Удаленная работа'\n",
    "                 group by \n",
    "                     e.name\n",
    "                 order by 2 desc\n",
    "                 limit 5\n",
    "                ''' "
   ]
  },
  {
   "cell_type": "code",
   "execution_count": 78,
   "id": "e50f2e09-7275-4850-b479-b5917c7026e6",
   "metadata": {},
   "outputs": [
    {
     "data": {
      "text/html": [
       "<div>\n",
       "<style scoped>\n",
       "    .dataframe tbody tr th:only-of-type {\n",
       "        vertical-align: middle;\n",
       "    }\n",
       "\n",
       "    .dataframe tbody tr th {\n",
       "        vertical-align: top;\n",
       "    }\n",
       "\n",
       "    .dataframe thead th {\n",
       "        text-align: right;\n",
       "    }\n",
       "</style>\n",
       "<table border=\"1\" class=\"dataframe\">\n",
       "  <thead>\n",
       "    <tr style=\"text-align: right;\">\n",
       "      <th></th>\n",
       "      <th>employers</th>\n",
       "      <th>count_vacancies</th>\n",
       "      <th>count_areas</th>\n",
       "    </tr>\n",
       "  </thead>\n",
       "  <tbody>\n",
       "    <tr>\n",
       "      <th>0</th>\n",
       "      <td>Яндекс</td>\n",
       "      <td>1690</td>\n",
       "      <td>1690</td>\n",
       "    </tr>\n",
       "    <tr>\n",
       "      <th>1</th>\n",
       "      <td>DataArt</td>\n",
       "      <td>165</td>\n",
       "      <td>165</td>\n",
       "    </tr>\n",
       "    <tr>\n",
       "      <th>2</th>\n",
       "      <td>Тинькофф</td>\n",
       "      <td>95</td>\n",
       "      <td>95</td>\n",
       "    </tr>\n",
       "    <tr>\n",
       "      <th>3</th>\n",
       "      <td>Nitka Technologies</td>\n",
       "      <td>77</td>\n",
       "      <td>77</td>\n",
       "    </tr>\n",
       "    <tr>\n",
       "      <th>4</th>\n",
       "      <td>ООО ЕФИН</td>\n",
       "      <td>71</td>\n",
       "      <td>71</td>\n",
       "    </tr>\n",
       "  </tbody>\n",
       "</table>\n",
       "</div>"
      ],
      "text/plain": [
       "            employers  count_vacancies  count_areas\n",
       "0              Яндекс             1690         1690\n",
       "1             DataArt              165          165\n",
       "2            Тинькофф               95           95\n",
       "3  Nitka Technologies               77           77\n",
       "4           ООО ЕФИН                71           71"
      ]
     },
     "execution_count": 78,
     "metadata": {},
     "output_type": "execute_result"
    }
   ],
   "source": [
    "df_vac_sch3 = pd.read_sql_query(query_vac_sch3, connection)\n",
    "df_vac_sch3"
   ]
  },
  {
   "cell_type": "markdown",
   "id": "1e217da8-90af-4d2e-91e9-309f0eb42b04",
   "metadata": {},
   "source": [
    "Уточняем некоторые запросы "
   ]
  },
  {
   "cell_type": "code",
   "execution_count": 60,
   "id": "d620c0c2-d08e-4462-9b70-dd2a731a5fbd",
   "metadata": {},
   "outputs": [],
   "source": [
    "query_vac_data_jun = f'''select \n",
    "                            count(*) as junior_data\n",
    "                         from \n",
    "                             public.vacancies as v\n",
    "                         where \n",
    "                             (v.name ilike '%data scientist%' \n",
    "                             or v.name ilike  '%data science%'\n",
    "                             or v.name ilike  '%исследователь данных%'\n",
    "                             or v.name like  'ML%'                     -- нельзя использовать '%ML%' т.к. попадает QML\n",
    "                             or v.name ilike  '%machine learning%'\n",
    "                             or v.name ilike  '%машинн%обучен%')\n",
    "                             and v.name not ilike '%HTML%'\n",
    "                             and\n",
    "                             (v.name ilike any(array['%junior%', '%ученик%', '%стажер%'] )\n",
    "                             or v.experience ilike '%Нет опыта%'\n",
    "                             or v.employment ilike '%Стажировка%')\n",
    "                        \n",
    "                        '''"
   ]
  },
  {
   "cell_type": "code",
   "execution_count": 61,
   "id": "f75546a4-920d-43ba-8e80-8665cd405d47",
   "metadata": {},
   "outputs": [
    {
     "name": "stderr",
     "output_type": "stream",
     "text": [
      "C:\\Users\\зщш\\AppData\\Local\\Temp\\ipykernel_9884\\2258418391.py:1: UserWarning: pandas only supports SQLAlchemy connectable (engine/connection) or database string URI or sqlite3 DBAPI2 connection. Other DBAPI2 objects are not tested. Please consider using SQLAlchemy.\n",
      "  df_emp_data_jun = pd.read_sql_query(query_vac_data_jun, connection)\n"
     ]
    },
    {
     "data": {
      "text/html": [
       "<div>\n",
       "<style scoped>\n",
       "    .dataframe tbody tr th:only-of-type {\n",
       "        vertical-align: middle;\n",
       "    }\n",
       "\n",
       "    .dataframe tbody tr th {\n",
       "        vertical-align: top;\n",
       "    }\n",
       "\n",
       "    .dataframe thead th {\n",
       "        text-align: right;\n",
       "    }\n",
       "</style>\n",
       "<table border=\"1\" class=\"dataframe\">\n",
       "  <thead>\n",
       "    <tr style=\"text-align: right;\">\n",
       "      <th></th>\n",
       "      <th>junior_data</th>\n",
       "    </tr>\n",
       "  </thead>\n",
       "  <tbody>\n",
       "    <tr>\n",
       "      <th>0</th>\n",
       "      <td>47</td>\n",
       "    </tr>\n",
       "  </tbody>\n",
       "</table>\n",
       "</div>"
      ],
      "text/plain": [
       "   junior_data\n",
       "0           47"
      ]
     },
     "execution_count": 61,
     "metadata": {},
     "output_type": "execute_result"
    }
   ],
   "source": [
    "df_emp_data_jun = pd.read_sql_query(query_vac_data_jun, connection)\n",
    "df_emp_data_jun"
   ]
  },
  {
   "cell_type": "markdown",
   "id": "91f7e26a-ffc1-4396-88b5-98dcf8a52334",
   "metadata": {},
   "source": [
    "Количество вакансий для начинающих DS уменьшилось с 51 до 47."
   ]
  },
  {
   "cell_type": "code",
   "execution_count": 62,
   "id": "8696f790-ff50-4dd6-875b-6b8afcb9fc21",
   "metadata": {},
   "outputs": [],
   "source": [
    "query_vac_data_sql = f'''select \n",
    "                             count(*) as data_sql\n",
    "                         from \n",
    "                             public.vacancies as v\n",
    "                         where \n",
    "                             (v.name ilike '%data scientist%' \n",
    "                             or v.name ilike  '%data science%'\n",
    "                             or v.name ilike  '%исследователь данных%'\n",
    "                             or v.name like    'ML%'                       -- нельзя использовать '%ML%' т.к. попадает QML\n",
    "                             or v.name ilike  '%machine learning%'\n",
    "                             or v.name ilike  '%машинн%обучен%')\n",
    "                             and v.name not ilike '%HTML%'\n",
    "                             and (v.key_skills ilike any(array['%SQL%','%postgres%']))\n",
    "                        \n",
    "                             '''"
   ]
  },
  {
   "cell_type": "code",
   "execution_count": 63,
   "id": "8ea2ab79-bb48-480c-ac68-1838d6abcf4c",
   "metadata": {},
   "outputs": [
    {
     "name": "stderr",
     "output_type": "stream",
     "text": [
      "C:\\Users\\зщш\\AppData\\Local\\Temp\\ipykernel_9884\\2332656706.py:1: UserWarning: pandas only supports SQLAlchemy connectable (engine/connection) or database string URI or sqlite3 DBAPI2 connection. Other DBAPI2 objects are not tested. Please consider using SQLAlchemy.\n",
      "  df_emp_data_sql = pd.read_sql_query(query_vac_data_sql, connection)\n"
     ]
    },
    {
     "data": {
      "text/html": [
       "<div>\n",
       "<style scoped>\n",
       "    .dataframe tbody tr th:only-of-type {\n",
       "        vertical-align: middle;\n",
       "    }\n",
       "\n",
       "    .dataframe tbody tr th {\n",
       "        vertical-align: top;\n",
       "    }\n",
       "\n",
       "    .dataframe thead th {\n",
       "        text-align: right;\n",
       "    }\n",
       "</style>\n",
       "<table border=\"1\" class=\"dataframe\">\n",
       "  <thead>\n",
       "    <tr style=\"text-align: right;\">\n",
       "      <th></th>\n",
       "      <th>data_sql</th>\n",
       "    </tr>\n",
       "  </thead>\n",
       "  <tbody>\n",
       "    <tr>\n",
       "      <th>0</th>\n",
       "      <td>181</td>\n",
       "    </tr>\n",
       "  </tbody>\n",
       "</table>\n",
       "</div>"
      ],
      "text/plain": [
       "   data_sql\n",
       "0       181"
      ]
     },
     "execution_count": 63,
     "metadata": {},
     "output_type": "execute_result"
    }
   ],
   "source": [
    "df_emp_data_sql = pd.read_sql_query(query_vac_data_sql, connection)\n",
    "df_emp_data_sql"
   ]
  },
  {
   "cell_type": "markdown",
   "id": "a3b2c5d4-2621-41ba-896a-bc9a6df4fb90",
   "metadata": {},
   "source": [
    "Количество вакансий для DS, в которых в качестве ключевого навыка указан SQL или postgres уменьшилось с 201 до 181."
   ]
  },
  {
   "cell_type": "code",
   "execution_count": 64,
   "id": "3b078486-82f5-49fb-a972-e0c282ad59f9",
   "metadata": {},
   "outputs": [],
   "source": [
    "query_vac_data_pt = f'''select \n",
    "                            count(*) as data_sql\n",
    "                         from \n",
    "                             public.vacancies as v\n",
    "                         where \n",
    "                             (v.name ilike '%data scientist%' \n",
    "                             or v.name ilike  '%data science%'\n",
    "                             or v.name ilike  '%исследователь данных%'\n",
    "                             or v.name like    'ML%' \n",
    "                             or v.name ilike  '%machine learning%'\n",
    "                             or v.name ilike  '%машинн%обучен%')\n",
    "                             and v.name not ilike '%HTML%'\n",
    "                             and v.key_skills ilike '%Python%'\n",
    "                             '''"
   ]
  },
  {
   "cell_type": "code",
   "execution_count": 65,
   "id": "68e636da-a84a-4c25-abd3-a389e5cd5fda",
   "metadata": {},
   "outputs": [
    {
     "name": "stderr",
     "output_type": "stream",
     "text": [
      "C:\\Users\\зщш\\AppData\\Local\\Temp\\ipykernel_9884\\934546689.py:1: UserWarning: pandas only supports SQLAlchemy connectable (engine/connection) or database string URI or sqlite3 DBAPI2 connection. Other DBAPI2 objects are not tested. Please consider using SQLAlchemy.\n",
      "  df_emp_data_pt = pd.read_sql_query(query_vac_data_pt, connection)\n"
     ]
    },
    {
     "data": {
      "text/html": [
       "<div>\n",
       "<style scoped>\n",
       "    .dataframe tbody tr th:only-of-type {\n",
       "        vertical-align: middle;\n",
       "    }\n",
       "\n",
       "    .dataframe tbody tr th {\n",
       "        vertical-align: top;\n",
       "    }\n",
       "\n",
       "    .dataframe thead th {\n",
       "        text-align: right;\n",
       "    }\n",
       "</style>\n",
       "<table border=\"1\" class=\"dataframe\">\n",
       "  <thead>\n",
       "    <tr style=\"text-align: right;\">\n",
       "      <th></th>\n",
       "      <th>data_sql</th>\n",
       "    </tr>\n",
       "  </thead>\n",
       "  <tbody>\n",
       "    <tr>\n",
       "      <th>0</th>\n",
       "      <td>320</td>\n",
       "    </tr>\n",
       "  </tbody>\n",
       "</table>\n",
       "</div>"
      ],
      "text/plain": [
       "   data_sql\n",
       "0       320"
      ]
     },
     "execution_count": 65,
     "metadata": {},
     "output_type": "execute_result"
    }
   ],
   "source": [
    "df_emp_data_pt = pd.read_sql_query(query_vac_data_pt, connection)\n",
    "df_emp_data_pt"
   ]
  },
  {
   "cell_type": "markdown",
   "id": "b88d73d2-6ad9-49e6-a3e6-3024c12aca30",
   "metadata": {},
   "source": [
    "Количество вакансий, в которых в качестве ключевого навыка указан Python уменьшилось с 351 до 320."
   ]
  },
  {
   "cell_type": "code",
   "execution_count": 66,
   "id": "a697a2f4-aebc-4957-ba2d-df77e7d73f78",
   "metadata": {},
   "outputs": [],
   "source": [
    "query_vac_data_wage = f''' select\n",
    "                                                v.experience as experience,\n",
    "                                                round(avg(coalesce((salary_from+salary_to)/2, salary_from, salary_to))) as wage\n",
    "                                            from \n",
    "                                                public.vacancies as v\n",
    "                                            where \n",
    "                                                (v.name ilike any(array['%data scientist%', '%data science%', '%исследователь данных%', '%machine learning%', '%машинн%обучен%'])                     \n",
    "                                                or v.name like 'ML%' \n",
    "                                                and v.name not ilike '%HTML%')\n",
    "                                                --and (v.salary_from is not null and v.salary_to is not null)\n",
    "                                            group by v.experience\n",
    "                                            order by 2\n",
    "                                \n",
    "                          '''"
   ]
  },
  {
   "cell_type": "code",
   "execution_count": 67,
   "id": "5cfaf2f7-cc0f-4d96-8307-9bb9dec0343d",
   "metadata": {},
   "outputs": [
    {
     "name": "stderr",
     "output_type": "stream",
     "text": [
      "C:\\Users\\зщш\\AppData\\Local\\Temp\\ipykernel_9884\\2547540356.py:1: UserWarning: pandas only supports SQLAlchemy connectable (engine/connection) or database string URI or sqlite3 DBAPI2 connection. Other DBAPI2 objects are not tested. Please consider using SQLAlchemy.\n",
      "  df_emp_data_wage = pd.read_sql_query(query_vac_data_wage, connection)\n"
     ]
    },
    {
     "data": {
      "text/html": [
       "<div>\n",
       "<style scoped>\n",
       "    .dataframe tbody tr th:only-of-type {\n",
       "        vertical-align: middle;\n",
       "    }\n",
       "\n",
       "    .dataframe tbody tr th {\n",
       "        vertical-align: top;\n",
       "    }\n",
       "\n",
       "    .dataframe thead th {\n",
       "        text-align: right;\n",
       "    }\n",
       "</style>\n",
       "<table border=\"1\" class=\"dataframe\">\n",
       "  <thead>\n",
       "    <tr style=\"text-align: right;\">\n",
       "      <th></th>\n",
       "      <th>experience</th>\n",
       "      <th>wage</th>\n",
       "    </tr>\n",
       "  </thead>\n",
       "  <tbody>\n",
       "    <tr>\n",
       "      <th>0</th>\n",
       "      <td>Нет опыта</td>\n",
       "      <td>74643.0</td>\n",
       "    </tr>\n",
       "    <tr>\n",
       "      <th>1</th>\n",
       "      <td>От 1 года до 3 лет</td>\n",
       "      <td>142836.0</td>\n",
       "    </tr>\n",
       "    <tr>\n",
       "      <th>2</th>\n",
       "      <td>От 3 до 6 лет</td>\n",
       "      <td>253879.0</td>\n",
       "    </tr>\n",
       "    <tr>\n",
       "      <th>3</th>\n",
       "      <td>Более 6 лет</td>\n",
       "      <td>NaN</td>\n",
       "    </tr>\n",
       "  </tbody>\n",
       "</table>\n",
       "</div>"
      ],
      "text/plain": [
       "           experience      wage\n",
       "0           Нет опыта   74643.0\n",
       "1  От 1 года до 3 лет  142836.0\n",
       "2       От 3 до 6 лет  253879.0\n",
       "3         Более 6 лет       NaN"
      ]
     },
     "execution_count": 67,
     "metadata": {},
     "output_type": "execute_result"
    }
   ],
   "source": [
    "df_emp_data_wage = pd.read_sql_query(query_vac_data_wage, connection)\n",
    "df_emp_data_wage"
   ]
  },
  {
   "cell_type": "markdown",
   "id": "bf60b1b9-e049-4bf2-b890-64d7df5875ef",
   "metadata": {},
   "source": [
    "Средняя заработная плата для соискателей с опытом работы от 1 года до 6 лет незначительно увеличилась."
   ]
  },
  {
   "cell_type": "markdown",
   "id": "5b9843c2-4ba1-4975-bb2a-ff26e3fd7165",
   "metadata": {},
   "source": [
    "Подвывод после уточнения запросов: уточнение фильтра вакансий сузило количество вакансий в пределах 10% и скорректировало данные по средней заработной плате."
   ]
  },
  {
   "cell_type": "markdown",
   "id": "2e5ee434-8ae3-4ecd-abc3-0a2a1f767d4d",
   "metadata": {},
   "source": [
    "Посмотрим для скольки вакансий ДС указана зарплатная вилка. "
   ]
  },
  {
   "cell_type": "code",
   "execution_count": 82,
   "id": "619a04e3-32ee-4285-8a79-93360c86b740",
   "metadata": {},
   "outputs": [],
   "source": [
    "query_wage_not_null = f'''                  select\n",
    "                                                --v.experience as experience,\n",
    "                                                count(coalesce(v.salary_from)) as wage_from_not_null,\n",
    "                                                count(coalesce(v.salary_to)) as wage_to_not_null,\n",
    "                                                count(v.name)\n",
    "                                            from \n",
    "                                                public.vacancies as v\n",
    "                                            where \n",
    "                                                (v.name ilike any(array['%data scientist%', '%data science%', '%исследователь данных%', '%machine learning%', '%машинн%обучен%'])                     \n",
    "                                                or v.name like 'ML%' \n",
    "                                                and v.name not ilike '%HTML%')\n",
    "                                               and (v.salary_from is not null or v.salary_to is not null)\n",
    "                                            union\n",
    "                                            select\n",
    "                                                --v.experience as experience,\n",
    "                                                count(coalesce(v.salary_from)) as wage_from_not_null,\n",
    "                                                count(coalesce(v.salary_to)) as wage_to_not_null,\n",
    "                                                count(v.name)\n",
    "                                            from \n",
    "                                                public.vacancies as v\n",
    "                                            where \n",
    "                                                (v.name ilike any(array['%data scientist%', '%data science%', '%исследователь данных%', '%machine learning%', '%машинн%обучен%'])                     \n",
    "                                                or v.name like 'ML%' \n",
    "                                                and v.name not ilike '%HTML%')\n",
    "                                               and (v.salary_from is not null and v.salary_to is not null)\n",
    "                             '''"
   ]
  },
  {
   "cell_type": "code",
   "execution_count": 83,
   "id": "8dd9f99e-701c-446a-8a4a-b7303d15ccb5",
   "metadata": {},
   "outputs": [
    {
     "name": "stderr",
     "output_type": "stream",
     "text": [
      "C:\\Users\\зщш\\AppData\\Local\\Temp\\ipykernel_9884\\135758908.py:1: UserWarning: pandas only supports SQLAlchemy connectable (engine/connection) or database string URI or sqlite3 DBAPI2 connection. Other DBAPI2 objects are not tested. Please consider using SQLAlchemy.\n",
      "  df_wage_not_null = pd.read_sql_query(query_wage_not_null, connection)\n"
     ]
    },
    {
     "data": {
      "text/html": [
       "<div>\n",
       "<style scoped>\n",
       "    .dataframe tbody tr th:only-of-type {\n",
       "        vertical-align: middle;\n",
       "    }\n",
       "\n",
       "    .dataframe tbody tr th {\n",
       "        vertical-align: top;\n",
       "    }\n",
       "\n",
       "    .dataframe thead th {\n",
       "        text-align: right;\n",
       "    }\n",
       "</style>\n",
       "<table border=\"1\" class=\"dataframe\">\n",
       "  <thead>\n",
       "    <tr style=\"text-align: right;\">\n",
       "      <th></th>\n",
       "      <th>wage_from_not_null</th>\n",
       "      <th>wage_to_not_null</th>\n",
       "      <th>count</th>\n",
       "    </tr>\n",
       "  </thead>\n",
       "  <tbody>\n",
       "    <tr>\n",
       "      <th>0</th>\n",
       "      <td>26</td>\n",
       "      <td>26</td>\n",
       "      <td>26</td>\n",
       "    </tr>\n",
       "    <tr>\n",
       "      <th>1</th>\n",
       "      <td>42</td>\n",
       "      <td>41</td>\n",
       "      <td>57</td>\n",
       "    </tr>\n",
       "  </tbody>\n",
       "</table>\n",
       "</div>"
      ],
      "text/plain": [
       "   wage_from_not_null  wage_to_not_null  count\n",
       "0                  26                26     26\n",
       "1                  42                41     57"
      ]
     },
     "execution_count": 83,
     "metadata": {},
     "output_type": "execute_result"
    }
   ],
   "source": [
    "df_wage_not_null = pd.read_sql_query(query_wage_not_null, connection)\n",
    "df_wage_not_null"
   ]
  },
  {
   "cell_type": "markdown",
   "id": "a7057aa8-ff2b-4bd8-b728-64aabf8394de",
   "metadata": {},
   "source": [
    "Всего для 57 вакансий указана информация о заработной плате. Из них у 42 вакансий указана верхняя граница, у 41 нижняя. Полная зарплатная вилка указана только у 26 вакансий."
   ]
  },
  {
   "cell_type": "markdown",
   "id": "997ab7cb-d593-4f05-be8a-2a84cf9ba5ff",
   "metadata": {},
   "source": [
    "#### Общий вывод по проекту"
   ]
  },
  {
   "cell_type": "markdown",
   "id": "07d5f6d5-fc6a-4298-b7cc-636b7cda7dcf",
   "metadata": {},
   "source": [
    "Всего в базе 49 197 вакансии от 23 501 работодателя в 294 сферах.  \n",
    "Вакансии и работодатели представлены в 1 362 регионах.  \n",
    "Часть регионов укрупнены до размера области (например Московская область) или страны (например Россия, Казахстан).   Укрупненные регионы используются для обозначения принадлежности работодателя этому региону, но вакансии размещаются для конкретных городов, даже в случае удаленной работы.  \n",
    "*Таким образом для будущей модели важно выбирать конкретный город, в котором соискатель хочет найти работу.*\n",
    "\n",
    "Пятеркой лидеров - регионов по количеству вакансий являются Москва, Санкт-Петербург, Минск, Новосибирск, Алматы.\n",
    "Пятерку наиболее востребованных сфер деятельности составляют разработка ПО, ИТ-консалтинг, интернет-компании, банки и мобильная связь. Не смотря на технологический характер деятельности, требуются туда специалисты  различных специальностей, не только it-сферы (юристы, бухгалтера и даже 3d артисты).\n",
    "Всего в сфере разработки программного обеспечения 6 302 уникальные вакансии и 12 499 вакансий в для соискателей.\n",
    "Примерно половина вакансий содержит информацию о заработной плате. В среднем заработная плата без учета сферы деятельности варьируется в интервале от 71,1 тыс. руб. до 110,5 тыс. рублей.\n",
    "В основной массе вакансий требуются соискатели с полной занятостью, меньше всего запросов на проектную работу.\n",
    "В топ 10 городов по количеству вакансий на удаленной работе ожидаемо входят Москва и Санкт-Петербург, кроме того в десятку лидеров вошел Минск. Но у каждого работодателя только 1 вакансия на удаленную работу в каждом городе, где размещена вакансия.\n",
    "Чаще всего ищут соискателей с опытом работы от 1 года до 3 лет.  \n",
    "*Таким образом больше всего шансов найти работу в офисе в сфере разработки программного обеспечения жителю крупного города (в идеале миллионника) с опытом работы от 1 года до 3 лет с заработной платой до 110,5 тыс. руб.  \n",
    "Для будущей модели важно, что технологический характер отрасли работодателя не гарантирует наличие у этого работодателя именно специальности ДС.*  \n",
    "\n",
    "В пятерку работодателей, лидирующих по количеству вакансий вхоят Яндекс, Ростелеком, Тинькофф, СБЕР, Газпром нефть.\n",
    "Яндекс так же лидирует по количеству регионов, в которых он размещает свои вакансии. В каждом городе-миллионнике представлено от 21 до 54 вакансий. Лидируют в списке по количеству вакансий Москва и Санкт-Петербург.\n",
    "Более 100 регионов размещения вакансий так же у Ростелеком и Спецремонт.\n",
    "Почти у четверти работодателей не указана сфера деятельности. При этом 10% работодателей имеют 4 и более сферы деятельности. Разработкой программного обеспечения занимаются 15% работодателей.  \n",
    "*Большая часть крупных работодателей (т.е. работодателей с большим количеством вакансий) относится к технологичным отраслям с поиском соискателей в городах-миллионниках. Большое количество работодателей не относят себя к какой-либо сфере деятельности из предложенных (либо игнорируют данную информацию).  \n",
    "Для модели важно, что при задании конкретной отрасли, из поиска выпадет значительная часть вакансий.*  \n",
    "\n",
    "В базе 1771 вакансия (т.е. всего 3,5% от общего количества вакансий базы), связанная с данными, из них только 47 (около 4%) для начинающих специалистов.\n",
    "Владение SQL или postgres в качестве ключевого навыка содержит 181 (около 11%) вакансия, знание Python 320 (около 18%) вакансия. Вакансии для ДС в среднем содержат 6-7 ключевых навыков.\n",
    "Уровень средней заработной платы колеблется от 74,6 тыс. руб. до 253,9 тыс. руб. в зависимости от опыта работы, что выше среднего уровня заработной платы по всем областям. Для специалистов со стажем работы более 6 лет уровень заработной платы не указан. В целом для профессии характерна вариативность заработной платы и четкая зарплатная вилка указана только в 3% вакансий.  \n",
    "*Для того, что бы найти работу начинающему ДС специалисту необходимо знание Python, а так же владеть SQL или postgres. Средняя заработная плата начинающего специалиста составляет 74,6 тыс. руб., что выше верхней планки средней заработной платы по рынку в целом. Но скорее всего уровень заработной платы будет определен по итогам собеседования и может быть ниже ожиданий в связи с высокой конкуренцией.  \n",
    "Для модели важно, что при задании определенного уровня заработной платы может выпасть большая часть вакансий, где оплата труда устанавливается по итогам собеседования.*\n"
   ]
  },
  {
   "cell_type": "code",
   "execution_count": null,
   "id": "b2e82515-9dd0-4d2d-8311-c3154405d519",
   "metadata": {},
   "outputs": [],
   "source": []
  }
 ],
 "metadata": {
  "colab": {
   "collapsed_sections": [
    "8d62a9f3-f64e-4fe7-bdac-c4dffa16155e"
   ],
   "provenance": []
  },
  "kernelspec": {
   "display_name": "Python 3 (ipykernel)",
   "language": "python",
   "name": "python3"
  },
  "language_info": {
   "codemirror_mode": {
    "name": "ipython",
    "version": 3
   },
   "file_extension": ".py",
   "mimetype": "text/x-python",
   "name": "python",
   "nbconvert_exporter": "python",
   "pygments_lexer": "ipython3",
   "version": "3.8.5"
  }
 },
 "nbformat": 4,
 "nbformat_minor": 5
}
