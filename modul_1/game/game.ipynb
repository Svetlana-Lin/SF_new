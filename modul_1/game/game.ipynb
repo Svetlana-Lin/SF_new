{
 "cells": [
  {
   "cell_type": "code",
   "execution_count": 5,
   "metadata": {},
   "outputs": [],
   "source": [
    "\"\"\"Игра угадай число\n",
    "Компьютер сам загадывает и сам угадывает число\n",
    "\"\"\"\n",
    "\n",
    "import numpy as np"
   ]
  },
  {
   "cell_type": "code",
   "execution_count": 18,
   "metadata": {},
   "outputs": [],
   "source": [
    "\"\"\" Функция угадывания заданного числа\"\"\"\"\n",
    "\n",
    "def predict_num(number):                      \n",
    "    count = 0                                 # устанавливаем счетчик\n",
    "    min_num = 1                               # устанавливаем минимальное натуральное значение 1\n",
    "    max_num = 100                             # устанавливаем максимальное значение \n",
    "    predict_num = (max_num + min_num)//2      # задаем перменную с помощью бинарного поиска (отсчение половины неправильных знач)\n",
    "    while number != predict_num:              # устанавливаем цикл, пока число не равно переменной\n",
    "        count += 1                            # увеличиваем попытку поиска на 1 \n",
    "        if number > predict_num:              # если число больше переменой\n",
    "            min_num = predict_num             # значит минимальное значение принимает значение переменной\n",
    "        else:                                 # если число меньше переменной\n",
    "            max_num = predict_num             # значит верхняя граница поиска принимает значение переменной\n",
    "        predict_num = (max_num + min_num)//2  # устанавливаем для переменной новое значение по бновленным границам\n",
    "    return count   \n"
   ]
  },
  {
   "cell_type": "code",
   "execution_count": 17,
   "metadata": {},
   "outputs": [
    {
     "name": "stdout",
     "output_type": "stream",
     "text": [
      "Ваш алгоритм угадывает число в среднем за:5 попыток\n"
     ]
    }
   ],
   "source": [
    "def score_game(game_core) -> int:\n",
    "    \"\"\"За какое количство попыток в среднем за 1000 подходов угадывает наш алгоритм\n",
    "\n",
    "    Args:\n",
    "        random_predict ([type]): функция угадывания\n",
    "\n",
    "    Returns:\n",
    "        int: среднее количество попыток\n",
    "    \"\"\"\n",
    "    count_ls = []\n",
    "    np.random.seed(1)  # фиксируем сид для воспроизводимости\n",
    "    random_array = np.random.randint(1, 101, size=(1000))  # загадали список чисел\n",
    "\n",
    "    for number in random_array:\n",
    "        count_ls.append(predict_num(number))\n",
    "        score = int(np.mean(count_ls))\n",
    "        print(f\"Ваш алгоритм угадывает число в среднем за:{score} попыток\")\n",
    "        return score\n",
    "\n",
    "\n",
    "if __name__ == \"__main__\":\n",
    "    # RUN\n",
    "    score_game(predict_num)\n"
   ]
  },
  {
   "cell_type": "code",
   "execution_count": 19,
   "metadata": {},
   "outputs": [
    {
     "name": "stdout",
     "output_type": "stream",
     "text": [
      "Note: you may need to restart the kernel to use updated packages.\n"
     ]
    }
   ],
   "source": [
    "pip freeze > requirements.txt."
   ]
  },
  {
   "cell_type": "code",
   "execution_count": null,
   "metadata": {},
   "outputs": [],
   "source": []
  }
 ],
 "metadata": {
  "kernelspec": {
   "display_name": "Python 3 (ipykernel)",
   "language": "python",
   "name": "python3"
  },
  "language_info": {
   "codemirror_mode": {
    "name": "ipython",
    "version": 3
   },
   "file_extension": ".py",
   "mimetype": "text/x-python",
   "name": "python",
   "nbconvert_exporter": "python",
   "pygments_lexer": "ipython3",
   "version": "3.8.5"
  }
 },
 "nbformat": 4,
 "nbformat_minor": 4
}
