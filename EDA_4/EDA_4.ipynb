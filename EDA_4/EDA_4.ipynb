{
 "cells": [
  {
   "cell_type": "markdown",
   "id": "6f764202-f50f-434b-94ae-ca7fab9691c6",
   "metadata": {},
   "source": [
    "# <center> ИССЛЕДОВАНИЕ ДАННЫХ HR-АГЕНТСТВА"
   ]
  },
  {
   "cell_type": "markdown",
   "id": "0f254cd1-9b78-44b5-8048-e9eb5ec44df2",
   "metadata": {},
   "source": [
    "### Постановка задачи\n",
    "\n",
    "HR-агентство изучает тренды на рынке труда в IT. Компания хочет провести исследование на основе данных о зарплатах в сфере Data Science за 2020–2022 годы и получить некоторые выводы.  \n",
    "\n",
    "Ключевые вопросы HR-агентства:\n",
    "\n",
    "* Наблюдается ли ежегодный рост зарплат у специалистов Data Scientist?  \n",
    "* Какие факторы влияют на зарплату у специалистов Data Scientist?  \n",
    "* Как соотносятся зарплаты Data Scientist и Data Engineer в различных компаниях?  \n",
    "* Есть ли связь между наличием должностей Data Scientist и Data Engineer и размером компании? "
   ]
  },
  {
   "cell_type": "markdown",
   "id": "890af199-db05-42de-a536-1ae459d5c2fc",
   "metadata": {},
   "source": [
    "### Загрузка данных"
   ]
  },
  {
   "cell_type": "code",
   "execution_count": 1,
   "id": "428c0743-ea5b-43e8-aea2-f5449c31d426",
   "metadata": {},
   "outputs": [],
   "source": [
    "# загружаем необходимые библиотеки\n",
    "import pandas as pd\n",
    "import numpy as np\n",
    "\n",
    "from scipy import stats\n",
    "import statsmodels.api as sm\n",
    "from statsmodels import stats as sms\n",
    "\n",
    "import matplotlib.pyplot as plt\n",
    "import seaborn as sns\n",
    "\n",
    "# делаем визуальную настройку графиков\n",
    "sns.set_theme(\"notebook\") \n",
    "sns.set_palette(\"Set2\") "
   ]
  },
  {
   "cell_type": "code",
   "execution_count": 2,
   "id": "f9682ad8-c401-4223-af6f-50b17a7c5caa",
   "metadata": {},
   "outputs": [
    {
     "data": {
      "text/html": [
       "<div>\n",
       "<style scoped>\n",
       "    .dataframe tbody tr th:only-of-type {\n",
       "        vertical-align: middle;\n",
       "    }\n",
       "\n",
       "    .dataframe tbody tr th {\n",
       "        vertical-align: top;\n",
       "    }\n",
       "\n",
       "    .dataframe thead th {\n",
       "        text-align: right;\n",
       "    }\n",
       "</style>\n",
       "<table border=\"1\" class=\"dataframe\">\n",
       "  <thead>\n",
       "    <tr style=\"text-align: right;\">\n",
       "      <th></th>\n",
       "      <th>Unnamed: 0</th>\n",
       "      <th>work_year</th>\n",
       "      <th>experience_level</th>\n",
       "      <th>employment_type</th>\n",
       "      <th>job_title</th>\n",
       "      <th>salary</th>\n",
       "      <th>salary_currency</th>\n",
       "      <th>salary_in_usd</th>\n",
       "      <th>employee_residence</th>\n",
       "      <th>remote_ratio</th>\n",
       "      <th>company_location</th>\n",
       "      <th>company_size</th>\n",
       "    </tr>\n",
       "  </thead>\n",
       "  <tbody>\n",
       "    <tr>\n",
       "      <th>0</th>\n",
       "      <td>0</td>\n",
       "      <td>2020</td>\n",
       "      <td>MI</td>\n",
       "      <td>FT</td>\n",
       "      <td>Data Scientist</td>\n",
       "      <td>70000</td>\n",
       "      <td>EUR</td>\n",
       "      <td>79833</td>\n",
       "      <td>DE</td>\n",
       "      <td>0</td>\n",
       "      <td>DE</td>\n",
       "      <td>L</td>\n",
       "    </tr>\n",
       "    <tr>\n",
       "      <th>1</th>\n",
       "      <td>1</td>\n",
       "      <td>2020</td>\n",
       "      <td>SE</td>\n",
       "      <td>FT</td>\n",
       "      <td>Machine Learning Scientist</td>\n",
       "      <td>260000</td>\n",
       "      <td>USD</td>\n",
       "      <td>260000</td>\n",
       "      <td>JP</td>\n",
       "      <td>0</td>\n",
       "      <td>JP</td>\n",
       "      <td>S</td>\n",
       "    </tr>\n",
       "    <tr>\n",
       "      <th>2</th>\n",
       "      <td>2</td>\n",
       "      <td>2020</td>\n",
       "      <td>SE</td>\n",
       "      <td>FT</td>\n",
       "      <td>Big Data Engineer</td>\n",
       "      <td>85000</td>\n",
       "      <td>GBP</td>\n",
       "      <td>109024</td>\n",
       "      <td>GB</td>\n",
       "      <td>50</td>\n",
       "      <td>GB</td>\n",
       "      <td>M</td>\n",
       "    </tr>\n",
       "    <tr>\n",
       "      <th>3</th>\n",
       "      <td>3</td>\n",
       "      <td>2020</td>\n",
       "      <td>MI</td>\n",
       "      <td>FT</td>\n",
       "      <td>Product Data Analyst</td>\n",
       "      <td>20000</td>\n",
       "      <td>USD</td>\n",
       "      <td>20000</td>\n",
       "      <td>HN</td>\n",
       "      <td>0</td>\n",
       "      <td>HN</td>\n",
       "      <td>S</td>\n",
       "    </tr>\n",
       "    <tr>\n",
       "      <th>4</th>\n",
       "      <td>4</td>\n",
       "      <td>2020</td>\n",
       "      <td>SE</td>\n",
       "      <td>FT</td>\n",
       "      <td>Machine Learning Engineer</td>\n",
       "      <td>150000</td>\n",
       "      <td>USD</td>\n",
       "      <td>150000</td>\n",
       "      <td>US</td>\n",
       "      <td>50</td>\n",
       "      <td>US</td>\n",
       "      <td>L</td>\n",
       "    </tr>\n",
       "  </tbody>\n",
       "</table>\n",
       "</div>"
      ],
      "text/plain": [
       "   Unnamed: 0  work_year experience_level employment_type  \\\n",
       "0           0       2020               MI              FT   \n",
       "1           1       2020               SE              FT   \n",
       "2           2       2020               SE              FT   \n",
       "3           3       2020               MI              FT   \n",
       "4           4       2020               SE              FT   \n",
       "\n",
       "                    job_title  salary salary_currency  salary_in_usd  \\\n",
       "0              Data Scientist   70000             EUR          79833   \n",
       "1  Machine Learning Scientist  260000             USD         260000   \n",
       "2           Big Data Engineer   85000             GBP         109024   \n",
       "3        Product Data Analyst   20000             USD          20000   \n",
       "4   Machine Learning Engineer  150000             USD         150000   \n",
       "\n",
       "  employee_residence  remote_ratio company_location company_size  \n",
       "0                 DE             0               DE            L  \n",
       "1                 JP             0               JP            S  \n",
       "2                 GB            50               GB            M  \n",
       "3                 HN             0               HN            S  \n",
       "4                 US            50               US            L  "
      ]
     },
     "execution_count": 2,
     "metadata": {},
     "output_type": "execute_result"
    }
   ],
   "source": [
    "# загружаем датасет\n",
    "ds_salaries = pd.read_csv('ds_salaries.csv')\n",
    "ds_salaries.head()"
   ]
  },
  {
   "cell_type": "code",
   "execution_count": 3,
   "id": "8f8e71d0-18bc-4446-9b1e-bfb49849519a",
   "metadata": {},
   "outputs": [],
   "source": [
    "ds_salaries = ds_salaries.drop('Unnamed: 0', axis = 1)"
   ]
  },
  {
   "cell_type": "markdown",
   "id": "3aa3773f-013d-49fa-a565-8ffb45823e07",
   "metadata": {},
   "source": [
    "### Описание данных\n",
    "\n",
    "* **work_year** - Год выплаты зарплаты\n",
    "* **experience_level** - Уровень опыта работы в течение года со следующими возможными значениями:   \n",
    "                                                                                            EN Начальный уровень   \n",
    "                                                                                            Младший MI Средний уровень   \n",
    "                                                                                            Промежуточный SE Старший уровень   \n",
    "                                                                                            Эксперт EX Исполнительный уровень Директор   \n",
    "* **employment_type** - Тип занятости для должности:   \n",
    "PT Неполный рабочий день   \n",
    "                                                 FT Полная занятость   \n",
    "                                                 CT Контракт   \n",
    "                                                 FL Внештатный  \n",
    "* **job_title** - Роль отрабатывалась в течение года\n",
    "* **salary** - Общая сумма выплаченной брутто-зарплаты\n",
    "* **salary_currency** - Валюта выплачиваемой заработной платы в виде кода валюты ISO 4217\n",
    "* **salary_in_usd** - Заработная плата в долларах США (курс валюты, разделенный на средний курс доллара США за соответствующий год через fxdata.foorilla.com)\n",
    "* **employee_residence** - Основная страна проживания сотрудника в течение рабочего года в виде кода страны ISO 3166\n",
    "* **remote_ratio** - Общий объем удаленной работы, возможные значения:   \n",
    "0 Нет удаленной работы (менее 20%)   \n",
    "                                                                   50 Частично удаленная работа   \n",
    "                                                                   100 Полностью удаленная работа (более 80%)  \n",
    "* **company_location** - Страна главного офиса или филиала работодателя в виде кода страны ISO 3166\n",
    "* **company_size** - Среднее количество людей, работавших в компании в течение года: S менее 50 сотрудников (малое) M от 50 до 250 сотрудников (среднее) L более 250 сотрудников (крупное)"
   ]
  },
  {
   "cell_type": "markdown",
   "id": "71346868-8287-44b1-bb8d-a0e0aaf7ea6a",
   "metadata": {},
   "source": [
    "### Описательный анализ данных"
   ]
  },
  {
   "cell_type": "code",
   "execution_count": 4,
   "id": "008ca5d5-fed1-44c6-a775-c21a791d4cba",
   "metadata": {},
   "outputs": [
    {
     "name": "stdout",
     "output_type": "stream",
     "text": [
      "<class 'pandas.core.frame.DataFrame'>\n",
      "RangeIndex: 607 entries, 0 to 606\n",
      "Data columns (total 11 columns):\n",
      " #   Column              Non-Null Count  Dtype \n",
      "---  ------              --------------  ----- \n",
      " 0   work_year           607 non-null    int64 \n",
      " 1   experience_level    607 non-null    object\n",
      " 2   employment_type     607 non-null    object\n",
      " 3   job_title           607 non-null    object\n",
      " 4   salary              607 non-null    int64 \n",
      " 5   salary_currency     607 non-null    object\n",
      " 6   salary_in_usd       607 non-null    int64 \n",
      " 7   employee_residence  607 non-null    object\n",
      " 8   remote_ratio        607 non-null    int64 \n",
      " 9   company_location    607 non-null    object\n",
      " 10  company_size        607 non-null    object\n",
      "dtypes: int64(4), object(7)\n",
      "memory usage: 52.3+ KB\n"
     ]
    }
   ],
   "source": [
    "ds_salaries.info()"
   ]
  },
  {
   "cell_type": "markdown",
   "id": "68bdaa5c-d227-4ca7-ae49-89361dbe00b8",
   "metadata": {},
   "source": [
    "Данные содержат 607 строк, пропущенных значений нет.  \n",
    "\n",
    "**work_year** категориальный признак, представлен в числовом формате  \n",
    "**experience_leve**l категориальный признак, представлен в текстовом формате  \n",
    "**employment_type** категориальный признак, представлен в текстовом формате  \n",
    "**job_title** не признак  \n",
    "**salary** количественный признак, представлен в числовом формате, скорее всего не будет участвовать в анализе, т.к. представлен этот же признак приведенный в одних единицах измерения   \n",
    "**salary_currency** не признак   \n",
    "**salary_in_usd** количественный признак, представлен в числовом формате  \n",
    "**employee_residence** категориальный признак, представлен в текстовом формате  \n",
    "**remote_ratio** категориальный признак, представлен в числовом формате  \n",
    "**company_location** категориальный признак, представлен в текстовом формате  \n",
    "**company_size** категориальный признак, представлен в текстовом формате"
   ]
  },
  {
   "cell_type": "code",
   "execution_count": 5,
   "id": "03d0d79f-a500-45fe-8e94-131e3eacf6db",
   "metadata": {},
   "outputs": [
    {
     "name": "stdout",
     "output_type": "stream",
     "text": [
      "Количество дубликатов: 42\n"
     ]
    }
   ],
   "source": [
    "# проверяем на наличие дубликатов\n",
    "\n",
    "print('Количество дубликатов: {}'.format(ds_salaries[ds_salaries.duplicated()].shape[0]))"
   ]
  },
  {
   "cell_type": "code",
   "execution_count": 6,
   "id": "d4619178-0762-4cc5-a486-451e3bdef801",
   "metadata": {},
   "outputs": [],
   "source": [
    "DS = ds_salaries[ds_salaries['job_title'] == 'Data Scientist'] # выделим специалистов Data Scientist в отдельный датасет"
   ]
  },
  {
   "cell_type": "markdown",
   "id": "6e0d4e09-85fa-400a-bba1-36862f338ff6",
   "metadata": {
    "tags": []
   },
   "source": [
    "## Визуализация гипотез"
   ]
  },
  {
   "cell_type": "markdown",
   "id": "bf840f11-46ef-4d50-807d-51032253bcb4",
   "metadata": {
    "tags": []
   },
   "source": [
    "### 1. Наблюдается ли ежегодный рост зарплат у специалистов Data Scientist?"
   ]
  },
  {
   "cell_type": "code",
   "execution_count": 7,
   "id": "6f7ea0e1-fc3c-41fe-a179-ceba5374a9ca",
   "metadata": {},
   "outputs": [
    {
     "data": {
      "image/png": "[encoded data removed]",
      "text/plain": [
       "<Figure size 1500x500 with 2 Axes>"
      ]
     },
     "metadata": {},
     "output_type": "display_data"
    }
   ],
   "source": [
    "fig, axes = plt.subplots(1, 2, figsize=(15, 5))\n",
    "\n",
    "sns.histplot(DS['salary_in_usd'], \n",
    "             kde=True,\n",
    "             ax=axes[0])\n",
    "axes[0].set(xlabel='Размер заработной платы у специалистов Data Scientist', \n",
    "            ylabel='Частота')\n",
    "axes[0].set_title('Размер заработной платы')\n",
    "\n",
    "axes[0].axvline(DS['salary_in_usd'].mean(), \n",
    "                color='red', \n",
    "                linestyle='--', \n",
    "                linewidth=0.8, \n",
    "                label='Средняя ЗП')\n",
    "\n",
    "axes[0].axvline(DS['salary_in_usd'].median(), \n",
    "                color='blue', \n",
    "                linestyle='--', \n",
    "                linewidth=0.8, \n",
    "                label='Медианная ЗП')\n",
    "\n",
    "axes[0].set(xscale=\"log\")\n",
    "axes[0].legend(loc='upper left')\n",
    "\n",
    "sns.boxplot(DS, \n",
    "            x = 'salary_in_usd', \n",
    "            y = 'work_year', \n",
    "            orient='h', \n",
    "            medianprops={\"color\": \"red\", \"linestyle\": '--'})\n",
    "\n",
    "axes[1].set_title('Размер заработной платы')\n",
    "axes[1].set(xscale=\"log\")\n",
    "axes[1].set(xlabel='Размер заработной платы у специалистов Data Scientist', \n",
    "            ylabel= 'Годы')\n",
    "plt.show()"
   ]
  },
  {
   "cell_type": "code",
   "execution_count": 8,
   "id": "96ce5fa4-8daf-412d-a9fe-8771abca46a5",
   "metadata": {},
   "outputs": [
    {
     "name": "stdout",
     "output_type": "stream",
     "text": [
      "Размер заработной платы у специалистов Data Scientist в динамике\n"
     ]
    },
    {
     "data": {
      "text/html": [
       "<div>\n",
       "<style scoped>\n",
       "    .dataframe tbody tr th:only-of-type {\n",
       "        vertical-align: middle;\n",
       "    }\n",
       "\n",
       "    .dataframe tbody tr th {\n",
       "        vertical-align: top;\n",
       "    }\n",
       "\n",
       "    .dataframe thead th {\n",
       "        text-align: right;\n",
       "    }\n",
       "</style>\n",
       "<table border=\"1\" class=\"dataframe\">\n",
       "  <thead>\n",
       "    <tr style=\"text-align: right;\">\n",
       "      <th></th>\n",
       "      <th>count</th>\n",
       "      <th>mean</th>\n",
       "      <th>std</th>\n",
       "      <th>min</th>\n",
       "      <th>25%</th>\n",
       "      <th>50%</th>\n",
       "      <th>75%</th>\n",
       "      <th>max</th>\n",
       "    </tr>\n",
       "    <tr>\n",
       "      <th>work_year</th>\n",
       "      <th></th>\n",
       "      <th></th>\n",
       "      <th></th>\n",
       "      <th></th>\n",
       "      <th></th>\n",
       "      <th></th>\n",
       "      <th></th>\n",
       "      <th></th>\n",
       "    </tr>\n",
       "  </thead>\n",
       "  <tbody>\n",
       "    <tr>\n",
       "      <th>2020</th>\n",
       "      <td>21.0</td>\n",
       "      <td>85970.52</td>\n",
       "      <td>81436.65</td>\n",
       "      <td>21669.0</td>\n",
       "      <td>42197.0</td>\n",
       "      <td>62726.0</td>\n",
       "      <td>105000.0</td>\n",
       "      <td>412000.0</td>\n",
       "    </tr>\n",
       "    <tr>\n",
       "      <th>2021</th>\n",
       "      <td>45.0</td>\n",
       "      <td>70671.73</td>\n",
       "      <td>45422.97</td>\n",
       "      <td>2859.0</td>\n",
       "      <td>33808.0</td>\n",
       "      <td>73000.0</td>\n",
       "      <td>100000.0</td>\n",
       "      <td>165000.0</td>\n",
       "    </tr>\n",
       "    <tr>\n",
       "      <th>2022</th>\n",
       "      <td>77.0</td>\n",
       "      <td>136172.09</td>\n",
       "      <td>54563.08</td>\n",
       "      <td>18442.0</td>\n",
       "      <td>100000.0</td>\n",
       "      <td>140000.0</td>\n",
       "      <td>176000.0</td>\n",
       "      <td>260000.0</td>\n",
       "    </tr>\n",
       "  </tbody>\n",
       "</table>\n",
       "</div>"
      ],
      "text/plain": [
       "           count       mean       std      min       25%       50%       75%  \\\n",
       "work_year                                                                      \n",
       "2020        21.0   85970.52  81436.65  21669.0   42197.0   62726.0  105000.0   \n",
       "2021        45.0   70671.73  45422.97   2859.0   33808.0   73000.0  100000.0   \n",
       "2022        77.0  136172.09  54563.08  18442.0  100000.0  140000.0  176000.0   \n",
       "\n",
       "                max  \n",
       "work_year            \n",
       "2020       412000.0  \n",
       "2021       165000.0  \n",
       "2022       260000.0  "
      ]
     },
     "execution_count": 8,
     "metadata": {},
     "output_type": "execute_result"
    }
   ],
   "source": [
    "DS_agg = DS.groupby('work_year')['salary_in_usd'].describe().round(2)\n",
    "print('Размер заработной платы у специалистов Data Scientist в динамике')\n",
    "DS_agg"
   ]
  },
  {
   "cell_type": "markdown",
   "id": "ddbe4d10-9b55-4eb2-9659-07a0f29d687a",
   "metadata": {},
   "source": [
    "В качестве анализируемого признака выбрана заработная плата в долларах США, т.к. данный признак не зависит от валюты, в которой специалист получает заработную плату и имеет единую структуру.  \n",
    "Распределение размера заработной платы имеет распределение близкое к нормальному, значение средней и медианой заработной платы находятся близко друг к другу.  \n",
    "Боксплот, построенный в динамике, указывает на общую тенедецию роста медианной заработной платы у специалистов Data Scientist, т.е. можем предположить о наличии статистически значимой связи. При этом наибольший размах вариации в зарплатах наблюдался в 2021 году. Скорее всего это связано с мировой геополитической ситуацией, перераспределением рынка специалистов и средняя заработная плата в 2021 году меньше, чем в 2020 году.  "
   ]
  },
  {
   "cell_type": "markdown",
   "id": "471caf2c-9d1e-457e-9199-d1b5ad8ac589",
   "metadata": {
    "tags": []
   },
   "source": [
    "### 2. Какие факторы влияют на зарплату у специалистов Data Scientist?"
   ]
  },
  {
   "cell_type": "markdown",
   "id": "7b1aa9a5-aaba-4456-a592-e471792f2546",
   "metadata": {
    "tags": []
   },
   "source": [
    "#### 2.1 Соотношение уровня опыта работы и размера заработной платы"
   ]
  },
  {
   "cell_type": "code",
   "execution_count": 9,
   "id": "0f17df2f-b357-43a4-bf9a-6615ff9f428b",
   "metadata": {},
   "outputs": [
    {
     "data": {
      "image/png": "[encoded data removed]",
      "text/plain": [
       "<Figure size 640x480 with 1 Axes>"
      ]
     },
     "metadata": {},
     "output_type": "display_data"
    }
   ],
   "source": [
    "f = sns.boxplot(DS, \n",
    "            x = 'salary_in_usd', \n",
    "            y = 'experience_level',\n",
    "            order=[\"EN\", \"MI\", \"SE\", \"EX\"],    \n",
    "            orient='h', \n",
    "            medianprops={\"color\": \"red\", \"linestyle\": '--'},\n",
    "            hue=\"experience_level\")\n",
    "            \n",
    "f.set_title('Размер заработной платы в засисимости от опыта работы')\n",
    "\n",
    "f.set(xlabel='Размер заработной платы у специалистов Data Scientist', \n",
    "      ylabel= 'Уровень опыта')\n",
    "\n",
    "legend_label = [\"MI Младший - Средний уровень\", \"EN Начальный уровень\", \"SE Промежуточный - Старший уровень\"] # , \"EX Эксперт - Исполнительный уровень, Директор\" нет в выборке\n",
    "f.legend(title=\"Уровень опыта\")\n",
    "f.legend(loc='upper right', fontsize=8)\n",
    "\n",
    "n = 0\n",
    "for i in legend_label:\n",
    "    f.legend_.texts[n].set_text(i)\n",
    "    n += 1\n",
    "    \n",
    "plt.show()"
   ]
  },
  {
   "cell_type": "code",
   "execution_count": 10,
   "id": "232f90a0-776e-450c-b29d-2cd32f1b286e",
   "metadata": {},
   "outputs": [
    {
     "name": "stdout",
     "output_type": "stream",
     "text": [
      "Размер заработной платы у специалистов Data Scientist в зависимости от опыта\n"
     ]
    },
    {
     "data": {
      "text/html": [
       "<div>\n",
       "<style scoped>\n",
       "    .dataframe tbody tr th:only-of-type {\n",
       "        vertical-align: middle;\n",
       "    }\n",
       "\n",
       "    .dataframe tbody tr th {\n",
       "        vertical-align: top;\n",
       "    }\n",
       "\n",
       "    .dataframe thead th {\n",
       "        text-align: right;\n",
       "    }\n",
       "</style>\n",
       "<table border=\"1\" class=\"dataframe\">\n",
       "  <thead>\n",
       "    <tr style=\"text-align: right;\">\n",
       "      <th></th>\n",
       "      <th>count</th>\n",
       "      <th>mean</th>\n",
       "      <th>std</th>\n",
       "      <th>min</th>\n",
       "      <th>25%</th>\n",
       "      <th>50%</th>\n",
       "      <th>75%</th>\n",
       "      <th>max</th>\n",
       "    </tr>\n",
       "    <tr>\n",
       "      <th>experience_level</th>\n",
       "      <th></th>\n",
       "      <th></th>\n",
       "      <th></th>\n",
       "      <th></th>\n",
       "      <th></th>\n",
       "      <th></th>\n",
       "      <th></th>\n",
       "      <th></th>\n",
       "    </tr>\n",
       "  </thead>\n",
       "  <tbody>\n",
       "    <tr>\n",
       "      <th>EN</th>\n",
       "      <td>22.0</td>\n",
       "      <td>55330.91</td>\n",
       "      <td>31237.82</td>\n",
       "      <td>4000.0</td>\n",
       "      <td>31474.0</td>\n",
       "      <td>50483.5</td>\n",
       "      <td>85027.25</td>\n",
       "      <td>105000.0</td>\n",
       "    </tr>\n",
       "    <tr>\n",
       "      <th>MI</th>\n",
       "      <td>60.0</td>\n",
       "      <td>82039.13</td>\n",
       "      <td>46869.58</td>\n",
       "      <td>2859.0</td>\n",
       "      <td>41768.0</td>\n",
       "      <td>77479.0</td>\n",
       "      <td>118264.75</td>\n",
       "      <td>200000.0</td>\n",
       "    </tr>\n",
       "    <tr>\n",
       "      <th>SE</th>\n",
       "      <td>61.0</td>\n",
       "      <td>152971.02</td>\n",
       "      <td>58985.40</td>\n",
       "      <td>20171.0</td>\n",
       "      <td>120000.0</td>\n",
       "      <td>140400.0</td>\n",
       "      <td>180000.00</td>\n",
       "      <td>412000.0</td>\n",
       "    </tr>\n",
       "  </tbody>\n",
       "</table>\n",
       "</div>"
      ],
      "text/plain": [
       "                  count       mean       std      min       25%       50%  \\\n",
       "experience_level                                                            \n",
       "EN                 22.0   55330.91  31237.82   4000.0   31474.0   50483.5   \n",
       "MI                 60.0   82039.13  46869.58   2859.0   41768.0   77479.0   \n",
       "SE                 61.0  152971.02  58985.40  20171.0  120000.0  140400.0   \n",
       "\n",
       "                        75%       max  \n",
       "experience_level                       \n",
       "EN                 85027.25  105000.0  \n",
       "MI                118264.75  200000.0  \n",
       "SE                180000.00  412000.0  "
      ]
     },
     "execution_count": 10,
     "metadata": {},
     "output_type": "execute_result"
    }
   ],
   "source": [
    "DS_agg = DS.groupby('experience_level')['salary_in_usd'].describe().round(2)\n",
    "print('Размер заработной платы у специалистов Data Scientist в зависимости от опыта')\n",
    "DS_agg"
   ]
  },
  {
   "cell_type": "markdown",
   "id": "a1790e3e-ef48-47e2-a467-326c9a1b15ae",
   "metadata": {},
   "source": [
    "Распределение заработной платы у специалистов Data Scientist указывает на наличие взаимосвязи между уровнем опыта и размером заработной платы.  \n",
    "Исполнительный уровень в выборке отсутствует."
   ]
  },
  {
   "cell_type": "markdown",
   "id": "5a634013-2792-412f-b5ad-7091da8bd2c8",
   "metadata": {
    "tags": []
   },
   "source": [
    "#### 2.2 Соотношение типа занятости и размера заработной платы"
   ]
  },
  {
   "cell_type": "code",
   "execution_count": 11,
   "id": "d1257d8a-a108-41db-aeb3-bb931c6ee20d",
   "metadata": {},
   "outputs": [
    {
     "data": {
      "image/png": "[encoded data removed]",
      "text/plain": [
       "<Figure size 640x480 with 1 Axes>"
      ]
     },
     "metadata": {},
     "output_type": "display_data"
    }
   ],
   "source": [
    "f = sns.boxplot(DS, \n",
    "            x = 'salary_in_usd', \n",
    "            y = 'employment_type', \n",
    "            orient='h', \n",
    "            medianprops={\"color\": \"red\", \"linestyle\": '--'},\n",
    "            hue=\"employment_type\")\n",
    "            \n",
    "f.set_title('Размер заработной платы в засисимости от типа занятости')\n",
    "\n",
    "f.set(xlabel='Размер заработной платы у специалистов Data Scientist', \n",
    "      ylabel= 'Тип занятости')\n",
    "\n",
    "legend_label = [\"FT Полная занятость\", \"PT Неполный рабочий день\", \"FL Внештатный\"] #  \"CT Контракт\",\n",
    "f.legend(title=\"Тип занятости\")\n",
    "f.legend(loc='upper right', fontsize=8)\n",
    "\n",
    "n = 0\n",
    "for i in legend_label:\n",
    "    f.legend_.texts[n].set_text(i)\n",
    "    n += 1\n",
    "    \n",
    "plt.show()"
   ]
  },
  {
   "cell_type": "code",
   "execution_count": 12,
   "id": "6c73a2e9-0aa7-4a0c-9106-1ef22ca38342",
   "metadata": {},
   "outputs": [
    {
     "name": "stdout",
     "output_type": "stream",
     "text": [
      "Размер заработной платы у специалистов Data Scientist в зависимости от типа занятости\n"
     ]
    },
    {
     "data": {
      "text/html": [
       "<div>\n",
       "<style scoped>\n",
       "    .dataframe tbody tr th:only-of-type {\n",
       "        vertical-align: middle;\n",
       "    }\n",
       "\n",
       "    .dataframe tbody tr th {\n",
       "        vertical-align: top;\n",
       "    }\n",
       "\n",
       "    .dataframe thead th {\n",
       "        text-align: right;\n",
       "    }\n",
       "</style>\n",
       "<table border=\"1\" class=\"dataframe\">\n",
       "  <thead>\n",
       "    <tr style=\"text-align: right;\">\n",
       "      <th></th>\n",
       "      <th>count</th>\n",
       "      <th>mean</th>\n",
       "      <th>std</th>\n",
       "      <th>min</th>\n",
       "      <th>25%</th>\n",
       "      <th>50%</th>\n",
       "      <th>75%</th>\n",
       "      <th>max</th>\n",
       "    </tr>\n",
       "    <tr>\n",
       "      <th>employment_type</th>\n",
       "      <th></th>\n",
       "      <th></th>\n",
       "      <th></th>\n",
       "      <th></th>\n",
       "      <th></th>\n",
       "      <th></th>\n",
       "      <th></th>\n",
       "      <th></th>\n",
       "    </tr>\n",
       "  </thead>\n",
       "  <tbody>\n",
       "    <tr>\n",
       "      <th>FL</th>\n",
       "      <td>1.0</td>\n",
       "      <td>100000.00</td>\n",
       "      <td>NaN</td>\n",
       "      <td>100000.0</td>\n",
       "      <td>100000.00</td>\n",
       "      <td>100000.0</td>\n",
       "      <td>100000.00</td>\n",
       "      <td>100000.0</td>\n",
       "    </tr>\n",
       "    <tr>\n",
       "      <th>FT</th>\n",
       "      <td>140.0</td>\n",
       "      <td>108922.79</td>\n",
       "      <td>64372.43</td>\n",
       "      <td>2859.0</td>\n",
       "      <td>55490.00</td>\n",
       "      <td>104796.0</td>\n",
       "      <td>141975.00</td>\n",
       "      <td>412000.0</td>\n",
       "    </tr>\n",
       "    <tr>\n",
       "      <th>PT</th>\n",
       "      <td>2.0</td>\n",
       "      <td>60834.50</td>\n",
       "      <td>55388.38</td>\n",
       "      <td>21669.0</td>\n",
       "      <td>41251.75</td>\n",
       "      <td>60834.5</td>\n",
       "      <td>80417.25</td>\n",
       "      <td>100000.0</td>\n",
       "    </tr>\n",
       "  </tbody>\n",
       "</table>\n",
       "</div>"
      ],
      "text/plain": [
       "                 count       mean       std       min        25%       50%  \\\n",
       "employment_type                                                              \n",
       "FL                 1.0  100000.00       NaN  100000.0  100000.00  100000.0   \n",
       "FT               140.0  108922.79  64372.43    2859.0   55490.00  104796.0   \n",
       "PT                 2.0   60834.50  55388.38   21669.0   41251.75   60834.5   \n",
       "\n",
       "                       75%       max  \n",
       "employment_type                       \n",
       "FL               100000.00  100000.0  \n",
       "FT               141975.00  412000.0  \n",
       "PT                80417.25  100000.0  "
      ]
     },
     "execution_count": 12,
     "metadata": {},
     "output_type": "execute_result"
    }
   ],
   "source": [
    "DS_agg = DS.groupby('employment_type')['salary_in_usd'].describe().round(2)\n",
    "print('Размер заработной платы у специалистов Data Scientist в зависимости от типа занятости')\n",
    "DS_agg"
   ]
  },
  {
   "cell_type": "markdown",
   "id": "2ff4ccb2-69d6-423b-837e-a0b3aabb21c9",
   "metadata": {},
   "source": [
    "В выборке отсутствуют специалисты Data Scientist, работающие на условиях контракта. В качестве внештатного работника в выборке присутствует только 1 специалист, на условиях неполного рабочего дня 2 специалиста. Таким образом трудно сказать существует ли статистически значимая связь заработной платы специалистов Data Scientist с типом занятости.  \n",
    "Поскольку 2 из 3 групп слишком малы для проведения статистических тестов, данная гипотеза рассматриваться не будет."
   ]
  },
  {
   "cell_type": "markdown",
   "id": "06216e68-8ab0-44a3-8870-5007fdbb5047",
   "metadata": {
    "tags": []
   },
   "source": [
    "#### 2.3 Соотношение страны головного офиса и размера заработной платы"
   ]
  },
  {
   "cell_type": "code",
   "execution_count": 13,
   "id": "4a74d12b-5d21-44b3-ace0-e8e1934b18fc",
   "metadata": {},
   "outputs": [],
   "source": [
    "DS1 = DS.copy()"
   ]
  },
  {
   "cell_type": "code",
   "execution_count": 14,
   "id": "5cfbda7d-13dc-4c35-976f-0327e079679f",
   "metadata": {},
   "outputs": [],
   "source": [
    "def get_city(city):                          \n",
    "    \n",
    "    country_list = ['US', 'GB', 'IN', 'FR', 'DE', 'CA'] # выбираем страны, в которых работает более 5 специалистов\n",
    "    \n",
    "    if city in country_list:         # если город в списке\n",
    "        return city                  # возвращаем его название\n",
    "    else:  \n",
    "        return 'other'               # в остальных случаях другие\n",
    "    \n",
    "DS1['employee_residence'] = DS1['employee_residence'].apply(get_city).astype('category')"
   ]
  },
  {
   "cell_type": "code",
   "execution_count": 15,
   "id": "37b48b47-a439-491e-bc92-10adfc384270",
   "metadata": {},
   "outputs": [],
   "source": [
    "DS1['company_location'] = DS1['company_location'].apply(get_city).astype('category')"
   ]
  },
  {
   "cell_type": "code",
   "execution_count": 16,
   "id": "93de3b1a-e71f-41a8-a31f-0d11fab93bf8",
   "metadata": {},
   "outputs": [
    {
     "data": {
      "image/png": "[encoded data removed]",
      "text/plain": [
       "<Figure size 640x480 with 1 Axes>"
      ]
     },
     "metadata": {},
     "output_type": "display_data"
    }
   ],
   "source": [
    "f = sns.boxplot(DS1, \n",
    "            x = 'salary_in_usd', \n",
    "            y = 'company_location', \n",
    "            orient='h', \n",
    "            medianprops={\"color\": \"red\", \"linestyle\": '--'},\n",
    "            hue=\"company_location\")\n",
    "            \n",
    "f.set_title('Размер заработной платы в засисимости от страны нахождения головного офиса')\n",
    "\n",
    "f.set(xlabel='Размер заработной платы у специалистов Data Scientist', \n",
    "      ylabel= 'Страна головного офиса')\n",
    "f.legend(title=\"Страна головного офиса\")\n",
    "plt.show()"
   ]
  },
  {
   "cell_type": "code",
   "execution_count": 17,
   "id": "1a62ad7c-1235-4c7e-8de0-59d2e5220b28",
   "metadata": {},
   "outputs": [
    {
     "name": "stdout",
     "output_type": "stream",
     "text": [
      "Размер заработной платы в засисимости от страны нахождения головного офиса\n"
     ]
    },
    {
     "data": {
      "text/html": [
       "<div>\n",
       "<style scoped>\n",
       "    .dataframe tbody tr th:only-of-type {\n",
       "        vertical-align: middle;\n",
       "    }\n",
       "\n",
       "    .dataframe tbody tr th {\n",
       "        vertical-align: top;\n",
       "    }\n",
       "\n",
       "    .dataframe thead th {\n",
       "        text-align: right;\n",
       "    }\n",
       "</style>\n",
       "<table border=\"1\" class=\"dataframe\">\n",
       "  <thead>\n",
       "    <tr style=\"text-align: right;\">\n",
       "      <th></th>\n",
       "      <th>count</th>\n",
       "      <th>mean</th>\n",
       "      <th>std</th>\n",
       "      <th>min</th>\n",
       "      <th>25%</th>\n",
       "      <th>50%</th>\n",
       "      <th>75%</th>\n",
       "      <th>max</th>\n",
       "    </tr>\n",
       "    <tr>\n",
       "      <th>company_location</th>\n",
       "      <th></th>\n",
       "      <th></th>\n",
       "      <th></th>\n",
       "      <th></th>\n",
       "      <th></th>\n",
       "      <th></th>\n",
       "      <th></th>\n",
       "      <th></th>\n",
       "    </tr>\n",
       "  </thead>\n",
       "  <tbody>\n",
       "    <tr>\n",
       "      <th>CA</th>\n",
       "      <td>5.0</td>\n",
       "      <td>77787.00</td>\n",
       "      <td>19301.65</td>\n",
       "      <td>52396.0</td>\n",
       "      <td>69336.0</td>\n",
       "      <td>75774.0</td>\n",
       "      <td>87738.00</td>\n",
       "      <td>103691.0</td>\n",
       "    </tr>\n",
       "    <tr>\n",
       "      <th>DE</th>\n",
       "      <td>7.0</td>\n",
       "      <td>69640.14</td>\n",
       "      <td>25045.56</td>\n",
       "      <td>25532.0</td>\n",
       "      <td>55997.0</td>\n",
       "      <td>79833.0</td>\n",
       "      <td>89694.00</td>\n",
       "      <td>90734.0</td>\n",
       "    </tr>\n",
       "    <tr>\n",
       "      <th>FR</th>\n",
       "      <td>7.0</td>\n",
       "      <td>50085.57</td>\n",
       "      <td>13658.91</td>\n",
       "      <td>36643.0</td>\n",
       "      <td>41056.5</td>\n",
       "      <td>49646.0</td>\n",
       "      <td>52256.50</td>\n",
       "      <td>77684.0</td>\n",
       "    </tr>\n",
       "    <tr>\n",
       "      <th>GB</th>\n",
       "      <td>11.0</td>\n",
       "      <td>88177.36</td>\n",
       "      <td>41393.50</td>\n",
       "      <td>39263.0</td>\n",
       "      <td>60847.0</td>\n",
       "      <td>76958.0</td>\n",
       "      <td>110808.00</td>\n",
       "      <td>183228.0</td>\n",
       "    </tr>\n",
       "    <tr>\n",
       "      <th>IN</th>\n",
       "      <td>8.0</td>\n",
       "      <td>26108.25</td>\n",
       "      <td>10248.05</td>\n",
       "      <td>9466.0</td>\n",
       "      <td>18057.5</td>\n",
       "      <td>29075.0</td>\n",
       "      <td>32163.25</td>\n",
       "      <td>40481.0</td>\n",
       "    </tr>\n",
       "    <tr>\n",
       "      <th>US</th>\n",
       "      <td>84.0</td>\n",
       "      <td>143115.68</td>\n",
       "      <td>56252.98</td>\n",
       "      <td>5679.0</td>\n",
       "      <td>105000.0</td>\n",
       "      <td>140000.0</td>\n",
       "      <td>167750.00</td>\n",
       "      <td>412000.0</td>\n",
       "    </tr>\n",
       "    <tr>\n",
       "      <th>other</th>\n",
       "      <td>21.0</td>\n",
       "      <td>49681.48</td>\n",
       "      <td>35695.49</td>\n",
       "      <td>2859.0</td>\n",
       "      <td>21669.0</td>\n",
       "      <td>40000.0</td>\n",
       "      <td>62726.00</td>\n",
       "      <td>122346.0</td>\n",
       "    </tr>\n",
       "  </tbody>\n",
       "</table>\n",
       "</div>"
      ],
      "text/plain": [
       "                  count       mean       std      min       25%       50%  \\\n",
       "company_location                                                            \n",
       "CA                  5.0   77787.00  19301.65  52396.0   69336.0   75774.0   \n",
       "DE                  7.0   69640.14  25045.56  25532.0   55997.0   79833.0   \n",
       "FR                  7.0   50085.57  13658.91  36643.0   41056.5   49646.0   \n",
       "GB                 11.0   88177.36  41393.50  39263.0   60847.0   76958.0   \n",
       "IN                  8.0   26108.25  10248.05   9466.0   18057.5   29075.0   \n",
       "US                 84.0  143115.68  56252.98   5679.0  105000.0  140000.0   \n",
       "other              21.0   49681.48  35695.49   2859.0   21669.0   40000.0   \n",
       "\n",
       "                        75%       max  \n",
       "company_location                       \n",
       "CA                 87738.00  103691.0  \n",
       "DE                 89694.00   90734.0  \n",
       "FR                 52256.50   77684.0  \n",
       "GB                110808.00  183228.0  \n",
       "IN                 32163.25   40481.0  \n",
       "US                167750.00  412000.0  \n",
       "other              62726.00  122346.0  "
      ]
     },
     "execution_count": 17,
     "metadata": {},
     "output_type": "execute_result"
    }
   ],
   "source": [
    "DS_agg = DS1.groupby('company_location')['salary_in_usd'].describe().round(2)\n",
    "print('Размер заработной платы в засисимости от страны нахождения головного офиса')\n",
    "DS_agg"
   ]
  },
  {
   "cell_type": "markdown",
   "id": "771dd075-e0b0-41ea-81e9-820186258290",
   "metadata": {},
   "source": [
    "CA - Канада  \n",
    "DE - Германия  \n",
    "FR - Франция  \n",
    "GB - Великобритании  \n",
    "IN - Индия  \n",
    "US - США  \n",
    "Можно сделать вывод, что существует статистически значимая взаимосвязь между страной нахождения головного офиса и уровнем заработной платы."
   ]
  },
  {
   "cell_type": "markdown",
   "id": "4aeed13d-45d9-4ec4-b2c5-43acf2facc7f",
   "metadata": {
    "tags": []
   },
   "source": [
    "#### 2.4 Соотношение страны проживания специалиста и размера заработной платы"
   ]
  },
  {
   "cell_type": "code",
   "execution_count": 18,
   "id": "897f5d6d-e9a9-47f5-b0d8-29f68b829d94",
   "metadata": {},
   "outputs": [
    {
     "data": {
      "image/png": "[encoded data removed]",
      "text/plain": [
       "<Figure size 640x480 with 1 Axes>"
      ]
     },
     "metadata": {},
     "output_type": "display_data"
    }
   ],
   "source": [
    "f = sns.boxplot(DS1, \n",
    "            x = 'salary_in_usd', \n",
    "            y = 'employee_residence', \n",
    "            orient='h', \n",
    "            medianprops={\"color\": \"red\", \"linestyle\": '--'},\n",
    "            hue=\"employee_residence\")\n",
    "            \n",
    "f.set_title('Размер заработной платы в засисимости от страны проживания специалиста')\n",
    "\n",
    "f.set(xlabel='Размер заработной платы у специалистов Data Scientist', \n",
    "      ylabel= 'Страна проживания')\n",
    "f.legend(title=\"Страна проживания\")\n",
    "plt.show()"
   ]
  },
  {
   "cell_type": "code",
   "execution_count": 19,
   "id": "b4f8071c-e00f-4263-b74f-9aea8965e8f9",
   "metadata": {},
   "outputs": [
    {
     "name": "stdout",
     "output_type": "stream",
     "text": [
      "Размер заработной платы в засисимости от страны нахождения головного офиса\n"
     ]
    },
    {
     "data": {
      "text/html": [
       "<div>\n",
       "<style scoped>\n",
       "    .dataframe tbody tr th:only-of-type {\n",
       "        vertical-align: middle;\n",
       "    }\n",
       "\n",
       "    .dataframe tbody tr th {\n",
       "        vertical-align: top;\n",
       "    }\n",
       "\n",
       "    .dataframe thead th {\n",
       "        text-align: right;\n",
       "    }\n",
       "</style>\n",
       "<table border=\"1\" class=\"dataframe\">\n",
       "  <thead>\n",
       "    <tr style=\"text-align: right;\">\n",
       "      <th></th>\n",
       "      <th>count</th>\n",
       "      <th>mean</th>\n",
       "      <th>std</th>\n",
       "      <th>min</th>\n",
       "      <th>25%</th>\n",
       "      <th>50%</th>\n",
       "      <th>75%</th>\n",
       "      <th>max</th>\n",
       "    </tr>\n",
       "    <tr>\n",
       "      <th>employee_residence</th>\n",
       "      <th></th>\n",
       "      <th></th>\n",
       "      <th></th>\n",
       "      <th></th>\n",
       "      <th></th>\n",
       "      <th></th>\n",
       "      <th></th>\n",
       "      <th></th>\n",
       "    </tr>\n",
       "  </thead>\n",
       "  <tbody>\n",
       "    <tr>\n",
       "      <th>CA</th>\n",
       "      <td>6.0</td>\n",
       "      <td>81489.17</td>\n",
       "      <td>19500.74</td>\n",
       "      <td>52396.0</td>\n",
       "      <td>70945.50</td>\n",
       "      <td>81756.0</td>\n",
       "      <td>96934.50</td>\n",
       "      <td>103691.0</td>\n",
       "    </tr>\n",
       "    <tr>\n",
       "      <th>DE</th>\n",
       "      <td>7.0</td>\n",
       "      <td>74773.71</td>\n",
       "      <td>16834.87</td>\n",
       "      <td>49268.0</td>\n",
       "      <td>62096.50</td>\n",
       "      <td>79833.0</td>\n",
       "      <td>89694.00</td>\n",
       "      <td>90734.0</td>\n",
       "    </tr>\n",
       "    <tr>\n",
       "      <th>FR</th>\n",
       "      <td>8.0</td>\n",
       "      <td>51665.62</td>\n",
       "      <td>13412.16</td>\n",
       "      <td>36643.0</td>\n",
       "      <td>41626.75</td>\n",
       "      <td>50483.5</td>\n",
       "      <td>55575.50</td>\n",
       "      <td>77684.0</td>\n",
       "    </tr>\n",
       "    <tr>\n",
       "      <th>GB</th>\n",
       "      <td>11.0</td>\n",
       "      <td>88177.36</td>\n",
       "      <td>41393.50</td>\n",
       "      <td>39263.0</td>\n",
       "      <td>60847.00</td>\n",
       "      <td>76958.0</td>\n",
       "      <td>110808.00</td>\n",
       "      <td>183228.0</td>\n",
       "    </tr>\n",
       "    <tr>\n",
       "      <th>IN</th>\n",
       "      <td>9.0</td>\n",
       "      <td>23838.33</td>\n",
       "      <td>11758.72</td>\n",
       "      <td>5679.0</td>\n",
       "      <td>16904.00</td>\n",
       "      <td>28399.0</td>\n",
       "      <td>31615.00</td>\n",
       "      <td>40481.0</td>\n",
       "    </tr>\n",
       "    <tr>\n",
       "      <th>US</th>\n",
       "      <td>78.0</td>\n",
       "      <td>149408.33</td>\n",
       "      <td>52576.02</td>\n",
       "      <td>58000.0</td>\n",
       "      <td>120000.00</td>\n",
       "      <td>140000.0</td>\n",
       "      <td>174500.00</td>\n",
       "      <td>412000.0</td>\n",
       "    </tr>\n",
       "    <tr>\n",
       "      <th>other</th>\n",
       "      <td>24.0</td>\n",
       "      <td>50284.92</td>\n",
       "      <td>35294.01</td>\n",
       "      <td>2859.0</td>\n",
       "      <td>24566.25</td>\n",
       "      <td>40019.0</td>\n",
       "      <td>72996.75</td>\n",
       "      <td>122346.0</td>\n",
       "    </tr>\n",
       "  </tbody>\n",
       "</table>\n",
       "</div>"
      ],
      "text/plain": [
       "                    count       mean       std      min        25%       50%  \\\n",
       "employee_residence                                                             \n",
       "CA                    6.0   81489.17  19500.74  52396.0   70945.50   81756.0   \n",
       "DE                    7.0   74773.71  16834.87  49268.0   62096.50   79833.0   \n",
       "FR                    8.0   51665.62  13412.16  36643.0   41626.75   50483.5   \n",
       "GB                   11.0   88177.36  41393.50  39263.0   60847.00   76958.0   \n",
       "IN                    9.0   23838.33  11758.72   5679.0   16904.00   28399.0   \n",
       "US                   78.0  149408.33  52576.02  58000.0  120000.00  140000.0   \n",
       "other                24.0   50284.92  35294.01   2859.0   24566.25   40019.0   \n",
       "\n",
       "                          75%       max  \n",
       "employee_residence                       \n",
       "CA                   96934.50  103691.0  \n",
       "DE                   89694.00   90734.0  \n",
       "FR                   55575.50   77684.0  \n",
       "GB                  110808.00  183228.0  \n",
       "IN                   31615.00   40481.0  \n",
       "US                  174500.00  412000.0  \n",
       "other                72996.75  122346.0  "
      ]
     },
     "execution_count": 19,
     "metadata": {},
     "output_type": "execute_result"
    }
   ],
   "source": [
    "DS_agg = DS1.groupby('employee_residence')['salary_in_usd'].describe().round(2)\n",
    "print('Размер заработной платы в засисимости от страны нахождения головного офиса')\n",
    "DS_agg"
   ]
  },
  {
   "cell_type": "markdown",
   "id": "bf8ce8fb-f716-4df3-bad3-e39804456068",
   "metadata": {},
   "source": [
    "CA - Канада    \n",
    "DE - Германия    \n",
    "FR - Франция    \n",
    "GB - Великобритании  \n",
    "IN - Индия   \n",
    "US - США   \n",
    "Можно сделать вывод, что существует статистически значимая взаимосвязь между страной проживания и уровнем заработной платы. "
   ]
  },
  {
   "cell_type": "markdown",
   "id": "369a95c5-395c-4301-ad4a-f414785c1948",
   "metadata": {
    "tags": []
   },
   "source": [
    "#### 2.5 Соотношение объема удаленной работы и размера заработной платы"
   ]
  },
  {
   "cell_type": "code",
   "execution_count": 20,
   "id": "d7cb5bd7-494d-4f5e-b9d8-067b62dcbf30",
   "metadata": {},
   "outputs": [
    {
     "data": {
      "image/png": "[encoded data removed]",
      "text/plain": [
       "<Figure size 640x480 with 1 Axes>"
      ]
     },
     "metadata": {},
     "output_type": "display_data"
    }
   ],
   "source": [
    "f = sns.boxplot(DS, \n",
    "            x = 'salary_in_usd', \n",
    "            y = 'remote_ratio', \n",
    "            orient='h', \n",
    "            medianprops={\"color\": \"red\", \"linestyle\": '--'},\n",
    "            hue=\"remote_ratio\")\n",
    "            \n",
    "f.set_title('Размер заработной платы в засисимости от объема удаленной работы')\n",
    "\n",
    "f.set(xlabel='Размер заработной платы у специалистов Data Scientist', \n",
    "      ylabel= 'Объем удаленной работы')\n",
    "\n",
    "f.legend(title=\"Объем удаленной работы\")\n",
    "    \n",
    "plt.show()"
   ]
  },
  {
   "cell_type": "code",
   "execution_count": 21,
   "id": "3266ed0d-e76f-49c1-b1d8-378c126707e5",
   "metadata": {},
   "outputs": [
    {
     "name": "stdout",
     "output_type": "stream",
     "text": [
      "Размер заработной платы в засисимости от страны нахождения головного офиса\n"
     ]
    },
    {
     "data": {
      "text/html": [
       "<div>\n",
       "<style scoped>\n",
       "    .dataframe tbody tr th:only-of-type {\n",
       "        vertical-align: middle;\n",
       "    }\n",
       "\n",
       "    .dataframe tbody tr th {\n",
       "        vertical-align: top;\n",
       "    }\n",
       "\n",
       "    .dataframe thead th {\n",
       "        text-align: right;\n",
       "    }\n",
       "</style>\n",
       "<table border=\"1\" class=\"dataframe\">\n",
       "  <thead>\n",
       "    <tr style=\"text-align: right;\">\n",
       "      <th></th>\n",
       "      <th>count</th>\n",
       "      <th>mean</th>\n",
       "      <th>std</th>\n",
       "      <th>min</th>\n",
       "      <th>25%</th>\n",
       "      <th>50%</th>\n",
       "      <th>75%</th>\n",
       "      <th>max</th>\n",
       "    </tr>\n",
       "    <tr>\n",
       "      <th>remote_ratio</th>\n",
       "      <th></th>\n",
       "      <th></th>\n",
       "      <th></th>\n",
       "      <th></th>\n",
       "      <th></th>\n",
       "      <th></th>\n",
       "      <th></th>\n",
       "      <th></th>\n",
       "    </tr>\n",
       "  </thead>\n",
       "  <tbody>\n",
       "    <tr>\n",
       "      <th>0</th>\n",
       "      <td>39.0</td>\n",
       "      <td>99520.74</td>\n",
       "      <td>58259.42</td>\n",
       "      <td>2859.0</td>\n",
       "      <td>50294.5</td>\n",
       "      <td>95550.0</td>\n",
       "      <td>140400.0</td>\n",
       "      <td>215300.0</td>\n",
       "    </tr>\n",
       "    <tr>\n",
       "      <th>50</th>\n",
       "      <td>25.0</td>\n",
       "      <td>74504.08</td>\n",
       "      <td>35602.82</td>\n",
       "      <td>20171.0</td>\n",
       "      <td>49646.0</td>\n",
       "      <td>62726.0</td>\n",
       "      <td>100000.0</td>\n",
       "      <td>147000.0</td>\n",
       "    </tr>\n",
       "    <tr>\n",
       "      <th>100</th>\n",
       "      <td>79.0</td>\n",
       "      <td>123125.94</td>\n",
       "      <td>69370.99</td>\n",
       "      <td>5679.0</td>\n",
       "      <td>76366.0</td>\n",
       "      <td>123000.0</td>\n",
       "      <td>162500.0</td>\n",
       "      <td>412000.0</td>\n",
       "    </tr>\n",
       "  </tbody>\n",
       "</table>\n",
       "</div>"
      ],
      "text/plain": [
       "              count       mean       std      min      25%       50%  \\\n",
       "remote_ratio                                                           \n",
       "0              39.0   99520.74  58259.42   2859.0  50294.5   95550.0   \n",
       "50             25.0   74504.08  35602.82  20171.0  49646.0   62726.0   \n",
       "100            79.0  123125.94  69370.99   5679.0  76366.0  123000.0   \n",
       "\n",
       "                   75%       max  \n",
       "remote_ratio                      \n",
       "0             140400.0  215300.0  \n",
       "50            100000.0  147000.0  \n",
       "100           162500.0  412000.0  "
      ]
     },
     "execution_count": 21,
     "metadata": {},
     "output_type": "execute_result"
    }
   ],
   "source": [
    "DS_agg = DS.groupby('remote_ratio')['salary_in_usd'].describe().round(2)\n",
    "print('Размер заработной платы в засисимости от страны нахождения головного офиса')\n",
    "DS_agg"
   ]
  },
  {
   "cell_type": "markdown",
   "id": "78176696-9801-4a17-8fc1-774f48d4de4f",
   "metadata": {},
   "source": [
    "Коробки при разном уровне удаленной работы имеют различный размах вариации значений, т.е. можем предположить о наличии статистически значимой связи между объемом удаленной работы и заработной платой у специалистов Data Scientist существует статистически значимая взаимосвязь. Но при этом четкой направленности этой связи визуально выявить не представляется возможным."
   ]
  },
  {
   "cell_type": "markdown",
   "id": "59e7282a-6278-4b02-a590-cf8e26f62e21",
   "metadata": {
    "tags": []
   },
   "source": [
    "#### 2.6 Соотношение размера компании и размера заработной платы"
   ]
  },
  {
   "cell_type": "code",
   "execution_count": 22,
   "id": "dfb51a05-d52e-4d85-8749-ee75fcf45ee5",
   "metadata": {},
   "outputs": [
    {
     "data": {
      "image/png": "[encoded data removed]",
      "text/plain": [
       "<Figure size 640x480 with 1 Axes>"
      ]
     },
     "metadata": {},
     "output_type": "display_data"
    }
   ],
   "source": [
    "f = sns.boxplot(DS, \n",
    "            x = 'salary_in_usd', \n",
    "            y = 'company_size',\n",
    "            order=[\"S\", \"M\", \"L\"],\n",
    "            orient='h', \n",
    "            medianprops={\"color\": \"red\", \"linestyle\": '--'},\n",
    "            hue=\"company_size\")\n",
    "            \n",
    "f.set_title('Размер заработной платы в засисимости от размера компании')\n",
    "\n",
    "f.set(xlabel='Размер заработной платы у специалистов Data Scientist', \n",
    "      ylabel= 'Размер компании')\n",
    "\n",
    "f.legend(title=\"Размер компании\")\n",
    "    \n",
    "plt.show()"
   ]
  },
  {
   "cell_type": "code",
   "execution_count": 23,
   "id": "45fde305-e021-4de6-b330-813389b61671",
   "metadata": {},
   "outputs": [
    {
     "name": "stdout",
     "output_type": "stream",
     "text": [
      "Размер заработной платы в засисимости от размера компании\n"
     ]
    },
    {
     "data": {
      "text/html": [
       "<div>\n",
       "<style scoped>\n",
       "    .dataframe tbody tr th:only-of-type {\n",
       "        vertical-align: middle;\n",
       "    }\n",
       "\n",
       "    .dataframe tbody tr th {\n",
       "        vertical-align: top;\n",
       "    }\n",
       "\n",
       "    .dataframe thead th {\n",
       "        text-align: right;\n",
       "    }\n",
       "</style>\n",
       "<table border=\"1\" class=\"dataframe\">\n",
       "  <thead>\n",
       "    <tr style=\"text-align: right;\">\n",
       "      <th></th>\n",
       "      <th>count</th>\n",
       "      <th>mean</th>\n",
       "      <th>std</th>\n",
       "      <th>min</th>\n",
       "      <th>25%</th>\n",
       "      <th>50%</th>\n",
       "      <th>75%</th>\n",
       "      <th>max</th>\n",
       "    </tr>\n",
       "    <tr>\n",
       "      <th>company_size</th>\n",
       "      <th></th>\n",
       "      <th></th>\n",
       "      <th></th>\n",
       "      <th></th>\n",
       "      <th></th>\n",
       "      <th></th>\n",
       "      <th></th>\n",
       "      <th></th>\n",
       "    </tr>\n",
       "  </thead>\n",
       "  <tbody>\n",
       "    <tr>\n",
       "      <th>L</th>\n",
       "      <td>45.0</td>\n",
       "      <td>103313.36</td>\n",
       "      <td>71815.18</td>\n",
       "      <td>13400.0</td>\n",
       "      <td>50000.0</td>\n",
       "      <td>90734.0</td>\n",
       "      <td>135000.0</td>\n",
       "      <td>412000.0</td>\n",
       "    </tr>\n",
       "    <tr>\n",
       "      <th>M</th>\n",
       "      <td>77.0</td>\n",
       "      <td>126380.75</td>\n",
       "      <td>56389.53</td>\n",
       "      <td>4000.0</td>\n",
       "      <td>90000.0</td>\n",
       "      <td>130000.0</td>\n",
       "      <td>165000.0</td>\n",
       "      <td>260000.0</td>\n",
       "    </tr>\n",
       "    <tr>\n",
       "      <th>S</th>\n",
       "      <td>21.0</td>\n",
       "      <td>51925.76</td>\n",
       "      <td>33216.29</td>\n",
       "      <td>2859.0</td>\n",
       "      <td>21669.0</td>\n",
       "      <td>49268.0</td>\n",
       "      <td>82500.0</td>\n",
       "      <td>105000.0</td>\n",
       "    </tr>\n",
       "  </tbody>\n",
       "</table>\n",
       "</div>"
      ],
      "text/plain": [
       "              count       mean       std      min      25%       50%  \\\n",
       "company_size                                                           \n",
       "L              45.0  103313.36  71815.18  13400.0  50000.0   90734.0   \n",
       "M              77.0  126380.75  56389.53   4000.0  90000.0  130000.0   \n",
       "S              21.0   51925.76  33216.29   2859.0  21669.0   49268.0   \n",
       "\n",
       "                   75%       max  \n",
       "company_size                      \n",
       "L             135000.0  412000.0  \n",
       "M             165000.0  260000.0  \n",
       "S              82500.0  105000.0  "
      ]
     },
     "execution_count": 23,
     "metadata": {},
     "output_type": "execute_result"
    }
   ],
   "source": [
    "DS_agg = DS.groupby('company_size')['salary_in_usd'].describe().round(2)\n",
    "print('Размер заработной платы в засисимости от размера компании')\n",
    "DS_agg"
   ]
  },
  {
   "cell_type": "markdown",
   "id": "dfa66d99-3fe3-4e61-a039-98fee2ede4e9",
   "metadata": {},
   "source": [
    "Коробки при разном размере компании имеют различный размах вариации значений, т.е. можем предположить о наличии статистически значимой связи между размером компании и заработной платой у специалистов Data Scientist. При этом направленность связи не очевидна."
   ]
  },
  {
   "cell_type": "markdown",
   "id": "d9cff357-47b1-45db-b1e2-b460d86e3d76",
   "metadata": {},
   "source": [
    "### 3. Как соотносятся зарплаты Data Scientist и Data Engineer в различных компаниях?"
   ]
  },
  {
   "cell_type": "markdown",
   "id": "dba15457-3828-497a-ae41-9dc38548c208",
   "metadata": {
    "tags": []
   },
   "source": [
    "#### 3.1 в зависимости от места нахождения головного офиса компании"
   ]
  },
  {
   "cell_type": "code",
   "execution_count": 24,
   "id": "ca188172-11dc-4aae-b0e2-83afe82933c0",
   "metadata": {},
   "outputs": [],
   "source": [
    "DS_DE = ds_salaries[(ds_salaries['job_title'] == 'Data Scientist') | (ds_salaries['job_title'] == 'Data Engineer')] # выделим специалистов Data Scientist и Data Engineer в отдельный датасет"
   ]
  },
  {
   "cell_type": "code",
   "execution_count": 25,
   "id": "2f1e0386-d8f0-40d0-bc15-3da7ebfd3924",
   "metadata": {},
   "outputs": [],
   "source": [
    "DS_DE1 = DS_DE.copy()"
   ]
  },
  {
   "cell_type": "code",
   "execution_count": 26,
   "id": "aa8fc94f-9464-40eb-b355-85fdfebdb174",
   "metadata": {},
   "outputs": [],
   "source": [
    "def get_city2(city):                          \n",
    "    \n",
    "    country_list = ['US', 'GB', 'IN', 'FR', 'DE', 'ES'] # выбираем страны, в которых работает более 5 специалистов, СА и GR исключены, т.е. в них не представлены обе профессии\n",
    "    \n",
    "    if city in country_list:         # если город в списке\n",
    "        return city                  # возвращаем его название\n",
    "    else:  \n",
    "        return 'other'               # в остальных случаях другие\n",
    "    \n",
    "DS_DE1['company_location'] = DS_DE1['company_location'].apply(get_city2).astype('category')"
   ]
  },
  {
   "cell_type": "code",
   "execution_count": 27,
   "id": "f08d522b-fcdb-4972-aaf8-0ab1c11b57de",
   "metadata": {},
   "outputs": [
    {
     "data": {
      "image/png": "[encoded data removed]",
      "text/plain": [
       "<Figure size 1500x500 with 2 Axes>"
      ]
     },
     "metadata": {},
     "output_type": "display_data"
    }
   ],
   "source": [
    "DS_DE2 = DS_DE1[DS_DE1['job_title'] == 'Data Engineer']\n",
    "\n",
    "fig, axes = plt.subplots(1, 2, figsize=(15, 5))\n",
    "sns.histplot(DS_DE2['salary_in_usd'], \n",
    "             kde=True,\n",
    "             ax=axes[0])\n",
    "axes[0].set(xlabel='Размер заработной платы у специалистов Data Engineer', \n",
    "            ylabel='Частота')\n",
    "axes[0].set_title('Размер заработной платы')\n",
    "\n",
    "axes[0].axvline(DS_DE2['salary_in_usd'].mean(), \n",
    "                color='red', \n",
    "                linestyle='--', \n",
    "                linewidth=0.8, \n",
    "                label='Средняя ЗП')\n",
    "\n",
    "axes[0].axvline(DS_DE2['salary_in_usd'].median(), \n",
    "                color='blue', \n",
    "                linestyle='--', \n",
    "                linewidth=0.8, \n",
    "                label='Медианная ЗП')\n",
    "\n",
    "axes[0].set(xscale=\"log\")\n",
    "axes[0].legend(loc='upper left')\n",
    "\n",
    "sns.violinplot(data = DS_DE1, \n",
    "               x = 'company_location', \n",
    "               y = 'salary_in_usd', \n",
    "               hue = 'job_title')\n",
    "\n",
    "axes[1].legend(title=\"Профессия\", loc='upper left')\n",
    "axes[1].set(xlabel='Страна нахождения головного офиса компании', \n",
    "      ylabel= 'Размер заработной платы')\n",
    "\n",
    "\n",
    "plt.show()"
   ]
  },
  {
   "cell_type": "markdown",
   "id": "42f6b127-2c84-4287-a9af-7be2a3a34403",
   "metadata": {},
   "source": [
    "Распределение заработной платы у специалистов Data Engineer так же близко к нормальному.  \n",
    "В различных странах размер вариации значений заработной платы различен, т.е. можем предположить о наличии статистически значимой разницы в зарплатах Data Scientist и Data Engineer в компаниях разных стран. Т.е. можно предположить, что работая в одной из стран специалистом DS или DE, ты будешь получаить ЗП выше, чем выполняя те же функции в другой стране."
   ]
  },
  {
   "cell_type": "markdown",
   "id": "ea96140f-42f2-45b6-ac31-a717154b5168",
   "metadata": {
    "tags": []
   },
   "source": [
    "#### 3.2 в зависимости от размера компании"
   ]
  },
  {
   "cell_type": "code",
   "execution_count": 28,
   "id": "fbce1316-50d2-47db-95aa-45951c75a228",
   "metadata": {},
   "outputs": [
    {
     "data": {
      "image/png": "[encoded data removed]",
      "text/plain": [
       "<Figure size 640x480 with 1 Axes>"
      ]
     },
     "metadata": {},
     "output_type": "display_data"
    }
   ],
   "source": [
    "f = sns.boxplot(DS_DE1, \n",
    "            x = 'salary_in_usd', \n",
    "            y = 'company_size',\n",
    "            order=[\"S\", \"M\", \"L\"],\n",
    "            orient='h', \n",
    "            medianprops={\"color\": \"red\", \"linestyle\": '--'},\n",
    "            hue=\"job_title\")\n",
    "            \n",
    "f.set_title('Размер заработной платы в засисимости от размера компании')\n",
    "\n",
    "f.set(xlabel='Размер заработной платы', \n",
    "      ylabel= 'Размер компании')\n",
    "\n",
    "f.legend(title=\"Профессия\")\n",
    "    \n",
    "plt.show()"
   ]
  },
  {
   "cell_type": "markdown",
   "id": "74d1b5d6-4b40-4a10-acce-dfcafebcf94f",
   "metadata": {},
   "source": [
    "\"Коробки\" в компаниях разного размера имеют разный размер вариации значений, т.о. можем предположить  о наличии статистически значимой разницы в зарплатах Data Scientist и Data Engineer в компаниях разного размера. Но сделать вывод о том, что зарплата одних специалистов (например Data Engineer) выше зарплаты других специалистов (например Data Scientist) в компаниях всех размеров не представляется возможным."
   ]
  },
  {
   "cell_type": "markdown",
   "id": "dc6c20dd-bc46-4aae-82a7-6b602c972728",
   "metadata": {
    "tags": []
   },
   "source": [
    "### 4. Есть ли связь между наличием должностей Data Scientist и Data Engineer и размером компании?"
   ]
  },
  {
   "cell_type": "code",
   "execution_count": 29,
   "id": "ebff72f5-00df-46e4-86db-71f9ba4cc14d",
   "metadata": {},
   "outputs": [
    {
     "data": {
      "image/png": "[encoded data removed]",
      "text/plain": [
       "<Figure size 640x480 with 1 Axes>"
      ]
     },
     "metadata": {},
     "output_type": "display_data"
    }
   ],
   "source": [
    "ax = sns.countplot(data=DS_DE1, \n",
    "                   x=DS_DE1['company_size'],\n",
    "                   order = ['S', 'M', 'L'],\n",
    "                   hue='job_title')\n",
    "ax.set(xlabel='Размер компании', ylabel='Количество')\n",
    "ax.legend(title=\"Профессия\")\n",
    "plt.title('Соотношение наличия должностей по размеру компании')\n",
    "plt.show()"
   ]
  },
  {
   "cell_type": "code",
   "execution_count": 30,
   "id": "02f69b4d-b0d0-4c25-8d5c-0326f70104c0",
   "metadata": {},
   "outputs": [
    {
     "data": {
      "image/png": "[encoded data removed]",
      "text/plain": [
       "<Figure size 640x480 with 2 Axes>"
      ]
     },
     "metadata": {},
     "output_type": "display_data"
    }
   ],
   "source": [
    "cross_tab = pd.crosstab(index=DS_DE1['company_size'], columns=DS_DE1['job_title'])\n",
    "ax = sns.heatmap(cross_tab, annot=True, linewidth=.5, fmt='.0f', cmap=\"coolwarm\")\n",
    "ax.set(xlabel='Должность', ylabel='Размер компании')\n",
    "plt.title('Таблица сопряженности')\n",
    "plt.show()"
   ]
  },
  {
   "cell_type": "markdown",
   "id": "f66fbff5-f990-49a9-a77f-c41076e7149b",
   "metadata": {},
   "source": [
    "Графически связь между наличием должностей в компании и ее размером не установлена. Т.е. размер компании не влияет на наличие или отсутствие в ней должностей DS и DE."
   ]
  },
  {
   "cell_type": "markdown",
   "id": "e1380fd2-6ba2-4d05-86be-d3789168a599",
   "metadata": {},
   "source": [
    "### 5. Дополнительные исследования"
   ]
  },
  {
   "cell_type": "markdown",
   "id": "c0e5b075-bbf1-4b76-9b6f-d6986cff85b8",
   "metadata": {
    "tags": []
   },
   "source": [
    "#### 5.1 Существует ли взаимосвязь между размером заработной платы Data Scientist и валютой в которой специалист получает заработную плату."
   ]
  },
  {
   "cell_type": "code",
   "execution_count": 31,
   "id": "8508e254-9a98-484b-8548-592c360aee13",
   "metadata": {},
   "outputs": [],
   "source": [
    "DS3 = DS.copy()"
   ]
  },
  {
   "cell_type": "code",
   "execution_count": 32,
   "id": "b47e68c3-bbf7-42e8-a7bc-eb22b255eda7",
   "metadata": {},
   "outputs": [],
   "source": [
    "def get_currency(currency):                          \n",
    "    \n",
    "    currency_list = ['USD', 'EUR', 'GBP', 'INR', 'CAD'] # выбираем валюты, в которых получает зп более 5 специалистов\n",
    "    \n",
    "    if currency in currency_list:         \n",
    "        return currency               \n",
    "    else:  \n",
    "        return 'other'               \n",
    "    \n",
    "DS3['salary_currency'] = DS3['salary_currency'].apply(get_currency).astype('category')"
   ]
  },
  {
   "cell_type": "code",
   "execution_count": 33,
   "id": "05359f8d-153b-4493-bd42-095297325cb0",
   "metadata": {},
   "outputs": [
    {
     "data": {
      "image/png": "[encoded data removed]",
      "text/plain": [
       "<Figure size 640x480 with 1 Axes>"
      ]
     },
     "metadata": {},
     "output_type": "display_data"
    }
   ],
   "source": [
    "f = sns.boxplot(DS3, \n",
    "            x = 'salary_in_usd', \n",
    "            y = 'salary_currency',\n",
    "            orient='h', \n",
    "            medianprops={\"color\": \"red\", \"linestyle\": '--'}\n",
    "            )\n",
    "            \n",
    "f.set_title('Размер заработной платы в засисимости от валюты, вкоторой выплачивается заработная плата')\n",
    "\n",
    "f.set(xlabel='Размер заработной платы', \n",
    "      ylabel= 'Валюта')\n",
    "\n",
    "\n",
    "    \n",
    "plt.show()"
   ]
  },
  {
   "cell_type": "code",
   "execution_count": 34,
   "id": "7fefafe5-d203-4fe7-810a-13f4969726c1",
   "metadata": {},
   "outputs": [
    {
     "name": "stdout",
     "output_type": "stream",
     "text": [
      "Размер заработной платы в засисимости от валюты выплаты заработной платы\n"
     ]
    },
    {
     "data": {
      "text/html": [
       "<div>\n",
       "<style scoped>\n",
       "    .dataframe tbody tr th:only-of-type {\n",
       "        vertical-align: middle;\n",
       "    }\n",
       "\n",
       "    .dataframe tbody tr th {\n",
       "        vertical-align: top;\n",
       "    }\n",
       "\n",
       "    .dataframe thead th {\n",
       "        text-align: right;\n",
       "    }\n",
       "</style>\n",
       "<table border=\"1\" class=\"dataframe\">\n",
       "  <thead>\n",
       "    <tr style=\"text-align: right;\">\n",
       "      <th></th>\n",
       "      <th>count</th>\n",
       "      <th>mean</th>\n",
       "      <th>std</th>\n",
       "      <th>min</th>\n",
       "      <th>25%</th>\n",
       "      <th>50%</th>\n",
       "      <th>75%</th>\n",
       "      <th>max</th>\n",
       "    </tr>\n",
       "    <tr>\n",
       "      <th>salary_currency</th>\n",
       "      <th></th>\n",
       "      <th></th>\n",
       "      <th></th>\n",
       "      <th></th>\n",
       "      <th></th>\n",
       "      <th></th>\n",
       "      <th></th>\n",
       "      <th></th>\n",
       "    </tr>\n",
       "  </thead>\n",
       "  <tbody>\n",
       "    <tr>\n",
       "      <th>CAD</th>\n",
       "      <td>5.0</td>\n",
       "      <td>77787.00</td>\n",
       "      <td>19301.65</td>\n",
       "      <td>52396.0</td>\n",
       "      <td>69336.00</td>\n",
       "      <td>75774.0</td>\n",
       "      <td>87738.0</td>\n",
       "      <td>103691.0</td>\n",
       "    </tr>\n",
       "    <tr>\n",
       "      <th>EUR</th>\n",
       "      <td>22.0</td>\n",
       "      <td>57591.68</td>\n",
       "      <td>21531.70</td>\n",
       "      <td>21669.0</td>\n",
       "      <td>40486.25</td>\n",
       "      <td>52256.5</td>\n",
       "      <td>75370.0</td>\n",
       "      <td>91237.0</td>\n",
       "    </tr>\n",
       "    <tr>\n",
       "      <th>GBP</th>\n",
       "      <td>11.0</td>\n",
       "      <td>88177.36</td>\n",
       "      <td>41393.50</td>\n",
       "      <td>39263.0</td>\n",
       "      <td>60847.00</td>\n",
       "      <td>76958.0</td>\n",
       "      <td>110808.0</td>\n",
       "      <td>183228.0</td>\n",
       "    </tr>\n",
       "    <tr>\n",
       "      <th>INR</th>\n",
       "      <td>9.0</td>\n",
       "      <td>23838.33</td>\n",
       "      <td>11758.72</td>\n",
       "      <td>5679.0</td>\n",
       "      <td>16904.00</td>\n",
       "      <td>28399.0</td>\n",
       "      <td>31615.0</td>\n",
       "      <td>40481.0</td>\n",
       "    </tr>\n",
       "    <tr>\n",
       "      <th>USD</th>\n",
       "      <td>87.0</td>\n",
       "      <td>139712.76</td>\n",
       "      <td>58519.74</td>\n",
       "      <td>4000.0</td>\n",
       "      <td>103495.00</td>\n",
       "      <td>140000.0</td>\n",
       "      <td>166110.0</td>\n",
       "      <td>412000.0</td>\n",
       "    </tr>\n",
       "    <tr>\n",
       "      <th>other</th>\n",
       "      <td>9.0</td>\n",
       "      <td>52822.44</td>\n",
       "      <td>45107.18</td>\n",
       "      <td>2859.0</td>\n",
       "      <td>20171.00</td>\n",
       "      <td>35735.0</td>\n",
       "      <td>86703.0</td>\n",
       "      <td>122346.0</td>\n",
       "    </tr>\n",
       "  </tbody>\n",
       "</table>\n",
       "</div>"
      ],
      "text/plain": [
       "                 count       mean       std      min        25%       50%  \\\n",
       "salary_currency                                                             \n",
       "CAD                5.0   77787.00  19301.65  52396.0   69336.00   75774.0   \n",
       "EUR               22.0   57591.68  21531.70  21669.0   40486.25   52256.5   \n",
       "GBP               11.0   88177.36  41393.50  39263.0   60847.00   76958.0   \n",
       "INR                9.0   23838.33  11758.72   5679.0   16904.00   28399.0   \n",
       "USD               87.0  139712.76  58519.74   4000.0  103495.00  140000.0   \n",
       "other              9.0   52822.44  45107.18   2859.0   20171.00   35735.0   \n",
       "\n",
       "                      75%       max  \n",
       "salary_currency                      \n",
       "CAD               87738.0  103691.0  \n",
       "EUR               75370.0   91237.0  \n",
       "GBP              110808.0  183228.0  \n",
       "INR               31615.0   40481.0  \n",
       "USD              166110.0  412000.0  \n",
       "other             86703.0  122346.0  "
      ]
     },
     "execution_count": 34,
     "metadata": {},
     "output_type": "execute_result"
    }
   ],
   "source": [
    "DS_agg = DS3.groupby('salary_currency')['salary_in_usd'].describe().round(2)\n",
    "print('Размер заработной платы в засисимости от валюты выплаты заработной платы')\n",
    "DS_agg"
   ]
  },
  {
   "cell_type": "markdown",
   "id": "3c574e22-2615-469c-a2d2-9d2f3ac13ddc",
   "metadata": {},
   "source": [
    "Можно сделать предположение о наличии статистически значимой связи между вылютой, в которой выплачивается заработная плата и размером заработной платы у специалистов Data Scientist."
   ]
  },
  {
   "cell_type": "markdown",
   "id": "e9ee1535-d224-4eb3-8bd0-e54ef5de2535",
   "metadata": {
    "tags": []
   },
   "source": [
    "#### 5.2 Заработная плата каких специалистов была выше в рассматриваемый период?"
   ]
  },
  {
   "cell_type": "markdown",
   "id": "4ab13048-d385-4a07-a788-2718ffa1b064",
   "metadata": {},
   "source": [
    "Сравним заработные платы в 2020, 2021, 2022 гг у специалистов Data Scientist и Data Engineer."
   ]
  },
  {
   "cell_type": "code",
   "execution_count": 35,
   "id": "878bd3ba-f6d2-457a-b7ec-747c05189fc3",
   "metadata": {},
   "outputs": [
    {
     "data": {
      "image/png": "[encoded data removed]",
      "text/plain": [
       "<Figure size 640x480 with 1 Axes>"
      ]
     },
     "metadata": {},
     "output_type": "display_data"
    }
   ],
   "source": [
    "f = sns.boxplot(DS_DE1, \n",
    "            x = 'salary_in_usd', \n",
    "            y = 'work_year',\n",
    "            hue = 'job_title',\n",
    "            orient='h', \n",
    "            medianprops={\"color\": \"red\", \"linestyle\": '--'})\n",
    "\n",
    "f.set_title('Размер заработной платы')\n",
    "f.set(xscale=\"log\")\n",
    "f.set(xlabel='Размер заработной платы у специалистов Data Scientist', \n",
    "            ylabel= 'Годы')\n",
    "f.legend(title=\"Профессия\")\n",
    "plt.show()"
   ]
  },
  {
   "cell_type": "markdown",
   "id": "5ec1060d-8cfe-406e-ac6a-abb041b926b6",
   "metadata": {},
   "source": [
    "Графически можно сделать предположение, что в 2020 и 2021 годах ЗП была выше у Data Engineer,  а в последний год у Data Scientist"
   ]
  },
  {
   "cell_type": "markdown",
   "id": "25605815-c24d-4507-9db3-19b8f0309927",
   "metadata": {},
   "source": [
    "#### **Выводы по блоку визуализации данных**:  \n",
    "Признак заработная плата у специалистов Data Scientist в долларах США имеет распределение близкое к нормальному, что подтверждается визуально и не значительной разницей между средней и медианной заработной платой.  \n",
    "Ежегодный рост размера заработной платы у специалистов Data Scientist в долларах США отсутствует за рассматриваемый период времени. \n",
    "Заработная плата у Data Engineer была выше заработной платы Data Scientist в 2020 - 2021 годах.  \n",
    "\n",
    "Можно сделать предположение о статистически значимой связи между размером заработной платы у специалистов Data Scientist в долларах США  и следующими признаками:  \n",
    "* уровень опыта     \n",
    "* страной нахождения головного офиса    \n",
    "* страной проживания   \n",
    "* валютой, в которой выплачивается заработная плата\n",
    "* объемом удаленной работы  \n",
    "* размером компании   \n",
    "\n",
    "\n",
    "Наличие статистически значимой связи между размером заработной платы у специалистов Data Scientist в долларах США  и типом занятости не представляется возможным проверить.\n",
    "\n",
    "Визуально подтвердились гипотезы о зависимости зарплаты Data Scientist и Data Engineer от размера компании.   \n",
    "\n",
    "Не подтвердилась гипотеза о зависимости наличия должностей Data Scientist и Data Engineer и размера компании. "
   ]
  },
  {
   "cell_type": "markdown",
   "id": "6174fb7c-b258-4660-b420-fed731613add",
   "metadata": {},
   "source": [
    "##  Статистический анализ данных "
   ]
  },
  {
   "cell_type": "code",
   "execution_count": 36,
   "id": "fa617861-d7c7-482b-9df8-be32f6732b1a",
   "metadata": {},
   "outputs": [
    {
     "name": "stdout",
     "output_type": "stream",
     "text": [
      "Уровень значимости alpha = 0.05\n"
     ]
    }
   ],
   "source": [
    "# задаём уровень значимости\n",
    "alpha = 0.05 \n",
    "print(\"Уровень значимости alpha = {:.2f}\".format(alpha))"
   ]
  },
  {
   "cell_type": "markdown",
   "id": "dc177aaa-b66f-4b5d-8789-d68bc8217bc5",
   "metadata": {},
   "source": [
    "#### список датасетов для анализа\n",
    "\n",
    "DS - первоначальный датасет, где отфильтрованы данные потолько по специалистам DS  \n",
    "DS1  - датасет DS, в котором произведена группировка стран по количественному признаку  \n",
    "DS2 - датасет DS1, из которого исключены значения США  \n",
    "DS3 - датасет DS, в котором произведена группировка валют по количественному признаку  \n",
    "DS_DE1 - первоначальный датасет,  где отфильтрованы данные потолько по специалистам DS и DE, а страны сгруппированы по количественному признаку"
   ]
  },
  {
   "cell_type": "code",
   "execution_count": 37,
   "id": "9bf83e35-cd8d-429b-bfaf-7de8bb40aec8",
   "metadata": {},
   "outputs": [],
   "source": [
    "# функция для принятия решения о нормальности\n",
    "def decision_normality(p):\n",
    "    print('p-value = {:.3f}'.format(p))\n",
    "    if p <= alpha:\n",
    "        print('p-значение меньше, чем заданный уровень значимости {:.2f}. Распределение отлично от нормального'.format(alpha))\n",
    "    else:\n",
    "        print('p-значение больше, чем заданный уровень значимости {:.2f}. Распределение является нормальным'.format(alpha))\n",
    "\n",
    "\n",
    "# функция для принятия решения об отклонении нулевой гипотезы\n",
    "def decision_hypothesis(p):\n",
    "    print('p-value = {:.3f}'.format(p))\n",
    "    if p <= alpha:\n",
    "        print('p-значение меньше, чем заданный уровень значимости {:.2f}. Отвергаем нулевую гипотезу в пользу альтернативной.'.format(alpha))\n",
    "    else:\n",
    "        print('p-значение больше, чем заданный уровень значимости {:.2f}. У нас нет оснований отвергнуть нулевую гипотезу.'.format(alpha))"
   ]
  },
  {
   "cell_type": "markdown",
   "id": "064f3a2a-df71-48cc-ab2e-bcb05b964eeb",
   "metadata": {
    "tags": []
   },
   "source": [
    "### 1. Наблюдается ли ежегодный рост зарплат у специалистов Data Scientist?"
   ]
  },
  {
   "cell_type": "markdown",
   "id": "1990c10b-8ae6-45dd-9722-f00cd57d02b9",
   "metadata": {},
   "source": [
    "Распределение признака на протяжении 3 лет является временным рядом, что не попадает в категорию рассматриваемых тестов. Проведем попарные одновыборочные тесты."
   ]
  },
  {
   "cell_type": "code",
   "execution_count": 38,
   "id": "d2c84c8a-5e0b-43e4-94e3-ee374a1ac721",
   "metadata": {},
   "outputs": [
    {
     "name": "stdout",
     "output_type": "stream",
     "text": [
      "Для 2021:\n",
      "p-value = 0.125\n",
      "p-значение больше, чем заданный уровень значимости 0.05. Распределение является нормальным\n",
      "Для 2022:\n",
      "p-value = 0.327\n",
      "p-значение больше, чем заданный уровень значимости 0.05. Распределение является нормальным\n"
     ]
    }
   ],
   "source": [
    "# зададим уровень с которым будем сравнивать для 2021 года\n",
    "DS_agg = DS.groupby('work_year')['salary_in_usd'].describe().round(2)\n",
    "salary_20_m = DS_agg['mean'].iloc[0]\n",
    "salary_21_m = DS_agg['mean'].iloc[1]\n",
    "\n",
    "# проверим нормальность распределения зарплат DS в 2021 году\n",
    "salary_21 = DS[DS['work_year'] == 2021]['salary_in_usd']\n",
    "salary_22 = DS[DS['work_year'] == 2022]['salary_in_usd']\n",
    "\n",
    "# проводим тест Шапиро-Уилка\n",
    "print('Для 2021:')\n",
    "result = stats.shapiro(salary_21)\n",
    "decision_normality(result[1])\n",
    "\n",
    "print('Для 2022:')\n",
    "result = stats.shapiro(salary_22)\n",
    "decision_normality(result[1])"
   ]
  },
  {
   "cell_type": "markdown",
   "id": "c7109aea-91fb-45dd-a243-74f98d0cd06f",
   "metadata": {},
   "source": [
    "Сформулируем гипотезы:  \n",
    "*Нулевая гипотеза*: средняя заработная плата DS в текущем году меньше или равна средней заработной плате DS в предыдущем году, рост отсутствует.  H0: m <= m-1  \n",
    "*Альтернативная гипотеза*: средняя заработная плата DS в текущем году году больше средней заработной плате DS в предыдущем году году, рост отсутствует.  H0: m > m-1 "
   ]
  },
  {
   "cell_type": "markdown",
   "id": "b6bc1e38-22e5-4d95-a7fc-f50412223c41",
   "metadata": {},
   "source": [
    "**Выберем подходящий статистический тест**\n",
    "\n",
    "* У признака заработная плата количественный тип.\n",
    "* 1 сравниваемая группа.\n",
    "* Распределение нормальное.\n",
    " \n",
    "Для проверки нашей гипотезы можно использовать одновыборочный t-критерий.\n",
    "\n",
    "**Проведём тест**"
   ]
  },
  {
   "cell_type": "code",
   "execution_count": 39,
   "id": "ad83f128-1e2e-4a3a-bcca-635c0cacfaa2",
   "metadata": {},
   "outputs": [
    {
     "name": "stdout",
     "output_type": "stream",
     "text": [
      "2021:\n",
      "p-value = 0.986\n",
      "p-значение больше, чем заданный уровень значимости 0.05. У нас нет оснований отвергнуть нулевую гипотезу.\n",
      "2022:\n",
      "p-value = 0.000\n",
      "p-значение меньше, чем заданный уровень значимости 0.05. Отвергаем нулевую гипотезу в пользу альтернативной.\n"
     ]
    }
   ],
   "source": [
    "# проводим тест\n",
    "_, p = stats.ttest_1samp(salary_21, popmean=salary_20_m, alternative='greater')\n",
    "print('2021:')\n",
    "decision_hypothesis(p)\n",
    "\n",
    "_, p = stats.ttest_1samp(salary_22, popmean=salary_21_m, alternative='greater')\n",
    "print('2022:')\n",
    "decision_hypothesis(p)"
   ]
  },
  {
   "cell_type": "markdown",
   "id": "28654c5e-13df-4839-a496-e9f302e1d7be",
   "metadata": {},
   "source": [
    "**Вывод**: поскольку для двух последовательных периодов гипотезы получили различный результат, сделать вывод  о ежегодном росте не представляется возможным. Рост средней заработной платы DS наблюдается только в 2022 году по отношению к 2021 году."
   ]
  },
  {
   "cell_type": "markdown",
   "id": "f86fde70-c38c-4db6-b996-f007b1ae8dd9",
   "metadata": {
    "tags": []
   },
   "source": [
    "### 2. Соотношение уровня опыта работы и размера заработной платы DS\n",
    "\n",
    "**Сформулируем нулевую и альтернативные гипотезы**:  \n",
    "*Нулевая гипотеза*: уровень опыта не влияет на уровень заработной платы. H0: m1 = m2 = m3  \n",
    "*Альтернативная гипотеза*: уровень опыта влияет на уровень заработной платы. H0: m1 != m2 != m3   \n",
    "\n",
    "**Проверка на нормальность**  \n",
    "С помощью теста Шапиро-Уилка проверим, распределён ли признак нормально."
   ]
  },
  {
   "cell_type": "code",
   "execution_count": 40,
   "id": "5e784676-afe3-413b-a1e9-43603152247a",
   "metadata": {},
   "outputs": [
    {
     "name": "stdout",
     "output_type": "stream",
     "text": [
      "Для Младшего - Среднего уровня:\n",
      "p-value = 0.178\n",
      "p-значение больше, чем заданный уровень значимости 0.05. Распределение является нормальным\n",
      "Для Начального уровня:\n",
      "p-value = 0.174\n",
      "p-значение больше, чем заданный уровень значимости 0.05. Распределение является нормальным\n",
      "Для Промежуточного - Старшего уровня:\n",
      "p-value = 0.000\n",
      "p-значение меньше, чем заданный уровень значимости 0.05. Распределение отлично от нормального\n"
     ]
    }
   ],
   "source": [
    "# значения ЗП DS в долларах США\n",
    "salary_MI = DS.loc[DS['experience_level']=='MI', 'salary_in_usd']\n",
    "salary_EN = DS.loc[DS['experience_level']=='EN', 'salary_in_usd']\n",
    "salary_SE = DS.loc[DS['experience_level']=='SE', 'salary_in_usd']\n",
    "\n",
    "\n",
    "# проводим тест Шапиро-Уилка\n",
    "print('Для Младшего - Среднего уровня:')\n",
    "result = stats.shapiro(salary_MI)\n",
    "decision_normality(result[1])\n",
    "\n",
    "print('Для Начального уровня:')\n",
    "result = stats.shapiro(salary_EN)\n",
    "decision_normality(result[1])\n",
    "\n",
    "print('Для Промежуточного - Старшего уровня:')\n",
    "result = stats.shapiro(salary_SE)\n",
    "decision_normality(result[1])"
   ]
  },
  {
   "cell_type": "markdown",
   "id": "abf31d46-60a4-4dba-ba7b-16185f3da75d",
   "metadata": {},
   "source": [
    "**Выберем подходящий статистический тест**\n",
    "\n",
    "* У признака заработная плата количественный тип.\n",
    "* 3 сравниваемые группы.\n",
    "* Группы не зависимы.\n",
    "* Распределение одной из групп отличается от нормального\n",
    " \n",
    "Для проверки нашей гипотезы можно использовать критерий Краскела — Уоллиса.\n",
    "\n",
    "**Проведём тест**"
   ]
  },
  {
   "cell_type": "code",
   "execution_count": 41,
   "id": "7c862ad3-f46f-49e5-a0e8-34ea156dec1d",
   "metadata": {},
   "outputs": [
    {
     "name": "stdout",
     "output_type": "stream",
     "text": [
      "p-value = 0.000\n",
      "p-значение меньше, чем заданный уровень значимости 0.05. Отвергаем нулевую гипотезу в пользу альтернативной.\n"
     ]
    }
   ],
   "source": [
    "_, p = stats.kruskal(salary_MI, salary_EN, salary_SE)\n",
    "decision_hypothesis(p)"
   ]
  },
  {
   "cell_type": "markdown",
   "id": "7d8f5317-3c4f-4e96-8a55-32f37a1a0c74",
   "metadata": {},
   "source": [
    "**Вывод**: уровень опыта влияет на размер заработной платы"
   ]
  },
  {
   "cell_type": "markdown",
   "id": "91ee2cc1-83d7-4006-b96d-750de010ec3b",
   "metadata": {
    "tags": []
   },
   "source": [
    "### 3. Соотношение типа занятости и размера заработной платы  DS"
   ]
  },
  {
   "cell_type": "markdown",
   "id": "2991972f-9730-48c2-8554-fb22d6e77201",
   "metadata": {},
   "source": [
    "**Сформулировать нулевую и альтернативные гипотезы можно следующим образом**:  \n",
    "*Нулевая гипотеза*: тип занятости не влияет на уровень заработной платы. H0: m1 = m2 = m3  \n",
    "*Альтернативная гипотеза*: тип занятости влияет на уровень заработной платы. H0: m1 != m2 != m3   \n",
    "\n",
    "Но в связи с недостаточностью наблюдений в 2х выборках, проверить их не представляется возможным без дополнительных данных."
   ]
  },
  {
   "cell_type": "markdown",
   "id": "4ee8f275-a63c-410d-94ec-089c29c7b26f",
   "metadata": {
    "tags": []
   },
   "source": [
    "### 4. Соотношение страны, в которой расположен головной офис компании и размера заработной платы DS"
   ]
  },
  {
   "cell_type": "markdown",
   "id": "5f55baca-aab3-4e9f-944b-9bdc58da181c",
   "metadata": {},
   "source": [
    "**Сформулируем нулевую и альтернативные гипотезы**:  \n",
    "*Нулевая гипотеза*: страна не влияет на уровень заработной платы. H0: m1 = m2 = m3 ...  = m7  \n",
    "*Альтернативная гипотеза*: страна влияет на уровень заработной платы. H0: m1 != m2 != m3  ... != m7   \n",
    "\n",
    "**Проверка на нормальность**  \n",
    "С помощью теста Шапиро-Уилка проверим, распределён ли признак нормально."
   ]
  },
  {
   "cell_type": "code",
   "execution_count": 42,
   "id": "976c5c73-6c21-4015-a481-ca9fc2acc3a2",
   "metadata": {},
   "outputs": [
    {
     "name": "stdout",
     "output_type": "stream",
     "text": [
      "Для US:\n",
      "p-value = 0.000\n",
      "p-значение меньше, чем заданный уровень значимости 0.05. Распределение отлично от нормального\n",
      "Для GB:\n",
      "p-value = 0.277\n",
      "p-значение больше, чем заданный уровень значимости 0.05. Распределение является нормальным\n",
      "Для IN:\n",
      "p-value = 0.761\n",
      "p-значение больше, чем заданный уровень значимости 0.05. Распределение является нормальным\n",
      "Для FR:\n",
      "p-value = 0.128\n",
      "p-значение больше, чем заданный уровень значимости 0.05. Распределение является нормальным\n",
      "Для DE:\n",
      "p-value = 0.148\n",
      "p-значение больше, чем заданный уровень значимости 0.05. Распределение является нормальным\n",
      "Для CA:\n",
      "p-value = 0.997\n",
      "p-значение больше, чем заданный уровень значимости 0.05. Распределение является нормальным\n",
      "Для other:\n",
      "p-value = 0.072\n",
      "p-значение больше, чем заданный уровень значимости 0.05. Распределение является нормальным\n"
     ]
    }
   ],
   "source": [
    "#  значения ЗП DS в долларах США\n",
    "salary_US = DS1.loc[DS1['company_location']=='US', 'salary_in_usd']\n",
    "salary_GB = DS1.loc[DS1['company_location']=='GB', 'salary_in_usd']\n",
    "salary_IN = DS1.loc[DS1['company_location']=='IN', 'salary_in_usd']\n",
    "salary_FR = DS1.loc[DS1['company_location']=='FR', 'salary_in_usd']\n",
    "salary_DE = DS1.loc[DS1['company_location']=='DE', 'salary_in_usd']\n",
    "salary_CA = DS1.loc[DS1['company_location']=='CA', 'salary_in_usd']\n",
    "salary_other = DS1.loc[DS1['company_location']=='other', 'salary_in_usd'] \n",
    "    \n",
    "# проводим тест Шапиро-Уилка\n",
    "print('Для US:')\n",
    "result = stats.shapiro(salary_US)\n",
    "decision_normality(result[1])\n",
    "\n",
    "print('Для GB:')\n",
    "result = stats.shapiro(salary_GB)\n",
    "decision_normality(result[1])\n",
    "\n",
    "print('Для IN:')\n",
    "result = stats.shapiro(salary_IN)\n",
    "decision_normality(result[1])\n",
    "\n",
    "print('Для FR:')\n",
    "result = stats.shapiro(salary_FR)\n",
    "decision_normality(result[1])\n",
    "\n",
    "print('Для DE:')\n",
    "result = stats.shapiro(salary_DE)\n",
    "decision_normality(result[1])\n",
    "\n",
    "print('Для CA:')\n",
    "result = stats.shapiro(salary_CA)\n",
    "decision_normality(result[1])\n",
    "\n",
    "print('Для other:')\n",
    "result = stats.shapiro(salary_other)\n",
    "decision_normality(result[1])"
   ]
  },
  {
   "cell_type": "markdown",
   "id": "8881d366-f7e4-4eca-8117-78c4d7ce0bf6",
   "metadata": {},
   "source": [
    "**Выберем подходящий статистический тест**\n",
    "\n",
    "* У признака, заработная плата количественны тип.\n",
    "* 7 сравниваемых групп.\n",
    "* Группы не зависимы.\n",
    "* Распределение одной из групп отличается от нормального.\n",
    " \n",
    "Для проверки нашей гипотезы можно использовать критерий Краскела — Уоллиса.\n",
    "\n",
    "**Проведём тест**"
   ]
  },
  {
   "cell_type": "code",
   "execution_count": 43,
   "id": "b8db25e0-4b88-4c94-b9df-46779f79b86d",
   "metadata": {},
   "outputs": [
    {
     "name": "stdout",
     "output_type": "stream",
     "text": [
      "p-value = 0.000\n",
      "p-значение меньше, чем заданный уровень значимости 0.05. Отвергаем нулевую гипотезу в пользу альтернативной.\n"
     ]
    }
   ],
   "source": [
    "_, p = stats.kruskal(salary_US, salary_GB, salary_IN, salary_FR, salary_DE, salary_CA, salary_other)\n",
    "decision_hypothesis(p)"
   ]
  },
  {
   "cell_type": "code",
   "execution_count": 44,
   "id": "868e65cd-3339-4f06-ab0d-30b30456547e",
   "metadata": {},
   "outputs": [],
   "source": [
    "DS2 = DS1[DS1['company_location'] !='US'] # поскольку распределене отличается от нормального только в US, выделим датасет без US и посмотрит будут ли отличаться результаты"
   ]
  },
  {
   "cell_type": "markdown",
   "id": "9301b953-c470-429e-acaa-e557b33ac56f",
   "metadata": {},
   "source": [
    "**Выберем подходящий статистический тест**\n",
    "\n",
    "* У признака, заработная плата количественны тип.\n",
    "* 6 сравниваемых групп.\n",
    "* Группы не зависимы.\n",
    "* Группы распределены нормально.\n",
    " \n",
    "Для проверки нашей гипотезы можно использовать Однофакторный дисперсионный анализ (ANOVA).\n",
    "\n",
    "**Проведём тест**"
   ]
  },
  {
   "cell_type": "code",
   "execution_count": 45,
   "id": "1383e21e-2c11-4c56-9147-689da8037a80",
   "metadata": {},
   "outputs": [
    {
     "name": "stdout",
     "output_type": "stream",
     "text": [
      "Тест на равенство дисперсий\n",
      "p-value = 0.114\n",
      "Дисперсии одинаковы, мы можем использовать тест ANOVA\n",
      "\n",
      "Тест на равенство средних\n",
      "p-value = 0.001\n",
      "p-значение меньше, чем заданный уровень значимости 0.05. Отвергаем нулевую гипотезу в пользу альтернативной.\n"
     ]
    }
   ],
   "source": [
    "# зададим новые группы\n",
    "salary_GB_ = DS2.loc[DS2['employee_residence']=='GB', 'salary_in_usd']\n",
    "salary_IN_ = DS2.loc[DS2['company_location']=='IN', 'salary_in_usd']\n",
    "salary_FR_ = DS2.loc[DS2['company_location']=='FR', 'salary_in_usd']\n",
    "salary_DE_ = DS2.loc[DS2['company_location']=='DE', 'salary_in_usd']\n",
    "salary_CA_ = DS2.loc[DS2['company_location']=='CA', 'salary_in_usd']\n",
    "salary_other_ = DS2.loc[DS2['company_location']=='other', 'salary_in_usd']\n",
    "\n",
    "# проводим тест Левена на равенство дисперсий\n",
    "print('Тест на равенство дисперсий')\n",
    "result = stats.levene(salary_GB_, salary_IN_, salary_FR_, salary_DE_, salary_CA_, salary_other_)\n",
    "p = result[1]\n",
    "print('p-value = {:.3f}'.format(p))\n",
    "\n",
    "# интерпретируем результат\n",
    "if p <= alpha:\n",
    "    print('Дисперсии не одинаковы, нужно использовать непараметрический тест')\n",
    "else:\n",
    "    print('Дисперсии одинаковы, мы можем использовать тест ANOVA')\n",
    "\n",
    "# проводим тест на сравнение средних в группах\n",
    "print('\\nТест на равенство средних')\n",
    "_, p = stats.f_oneway(salary_GB_, salary_IN_, salary_FR_, salary_DE_, salary_CA_, salary_other_)\n",
    "\n",
    "# интерпретируем результат\n",
    "decision_hypothesis(p)"
   ]
  },
  {
   "cell_type": "markdown",
   "id": "3717fa27-b62b-4de5-9aca-d61005427611",
   "metadata": {},
   "source": [
    "**Вывод**: страна, в которой расположен головной офис компании, влияет на размер заработной платы"
   ]
  },
  {
   "cell_type": "markdown",
   "id": "308d1a2e-4884-4d49-aea7-060aa483c320",
   "metadata": {
    "tags": []
   },
   "source": [
    "### 5. Соотношение страны проживания специалиста и размера заработной платы DS"
   ]
  },
  {
   "cell_type": "markdown",
   "id": "7100869f-1eba-476d-b89d-7c464b33065d",
   "metadata": {},
   "source": [
    "**Сформулируем нулевую и альтернативные гипотезы**:  \n",
    "*Нулевая гипотеза*: страна проживания специалиста не влияет на уровень заработной платы. H0: m1 = m2 = m3  ... = m7  \n",
    "*Альтернативная гипотеза*: страна проживания специалиста влияет на уровень заработной платы. H0: m1 != m2 != m3 ... != m7  \n",
    "\n",
    "**Проверка на нормальность**  \n",
    "С помощью теста Шапиро-Уилка проверим, распределён ли признак нормально."
   ]
  },
  {
   "cell_type": "code",
   "execution_count": 46,
   "id": "ca5c954a-0bbd-44f4-ab14-beda34b72b8f",
   "metadata": {},
   "outputs": [
    {
     "name": "stdout",
     "output_type": "stream",
     "text": [
      "Для US:\n",
      "p-value = 0.000\n",
      "p-значение меньше, чем заданный уровень значимости 0.05. Распределение отлично от нормального\n",
      "Для GB:\n",
      "p-value = 0.277\n",
      "p-значение больше, чем заданный уровень значимости 0.05. Распределение является нормальным\n",
      "Для IN:\n",
      "p-value = 0.661\n",
      "p-значение больше, чем заданный уровень значимости 0.05. Распределение является нормальным\n",
      "Для FR:\n",
      "p-value = 0.444\n",
      "p-значение больше, чем заданный уровень значимости 0.05. Распределение является нормальным\n",
      "Для DE:\n",
      "p-value = 0.170\n",
      "p-значение больше, чем заданный уровень значимости 0.05. Распределение является нормальным\n",
      "Для CA:\n",
      "p-value = 0.792\n",
      "p-значение больше, чем заданный уровень значимости 0.05. Распределение является нормальным\n",
      "Для other:\n",
      "p-value = 0.033\n",
      "p-значение меньше, чем заданный уровень значимости 0.05. Распределение отлично от нормального\n"
     ]
    }
   ],
   "source": [
    "#  значения ЗП DS в долларах США\n",
    "salary_US_e = DS1.loc[DS1['employee_residence']=='US', 'salary_in_usd']\n",
    "salary_GB_e = DS1.loc[DS1['employee_residence']=='GB', 'salary_in_usd']\n",
    "salary_IN_e = DS1.loc[DS1['employee_residence']=='IN', 'salary_in_usd']\n",
    "salary_FR_e = DS1.loc[DS1['employee_residence']=='FR', 'salary_in_usd']\n",
    "salary_DE_e = DS1.loc[DS1['employee_residence']=='DE', 'salary_in_usd']\n",
    "salary_CA_e = DS1.loc[DS1['employee_residence']=='CA', 'salary_in_usd']\n",
    "salary_other_e = DS1.loc[DS1['employee_residence']=='other', 'salary_in_usd'] \n",
    "    \n",
    "# проводим тест Шапиро-Уилка\n",
    "print('Для US:')\n",
    "result = stats.shapiro(salary_US_e)\n",
    "decision_normality(result[1])\n",
    "\n",
    "print('Для GB:')\n",
    "result = stats.shapiro(salary_GB_e)\n",
    "decision_normality(result[1])\n",
    "\n",
    "print('Для IN:')\n",
    "result = stats.shapiro(salary_IN_e)\n",
    "decision_normality(result[1])\n",
    "\n",
    "print('Для FR:')\n",
    "result = stats.shapiro(salary_FR_e)\n",
    "decision_normality(result[1])\n",
    "\n",
    "print('Для DE:')\n",
    "result = stats.shapiro(salary_DE_e)\n",
    "decision_normality(result[1])\n",
    "\n",
    "print('Для CA:')\n",
    "result = stats.shapiro(salary_CA_e)\n",
    "decision_normality(result[1])\n",
    "\n",
    "print('Для other:')\n",
    "result = stats.shapiro(salary_other_e)\n",
    "decision_normality(result[1])"
   ]
  },
  {
   "cell_type": "markdown",
   "id": "2832bc3f-c1ea-4145-9eb5-ebe6e9708752",
   "metadata": {},
   "source": [
    "**Выберем подходящий статистический тест**\n",
    "\n",
    "* У признака, заработная плата количественны тип.\n",
    "* 7 сравниваемых групп.\n",
    "* Группы не зависимы.\n",
    "* Распределение в двух группах отличается от нормального\n",
    "\n",
    "Для проверки нашей гипотезы можно использовать критерий Краскела — Уоллиса.\n",
    "\n",
    "**Проведём тест**"
   ]
  },
  {
   "cell_type": "code",
   "execution_count": 47,
   "id": "eaff54b8-7058-46c2-b76c-6605a1ff27a0",
   "metadata": {},
   "outputs": [
    {
     "name": "stdout",
     "output_type": "stream",
     "text": [
      "p-value = 0.000\n",
      "p-значение меньше, чем заданный уровень значимости 0.05. Отвергаем нулевую гипотезу в пользу альтернативной.\n"
     ]
    }
   ],
   "source": [
    "_, p = stats.kruskal(salary_US_e, salary_GB_e, salary_IN_e, salary_FR_e, salary_DE_e, salary_CA_e, salary_other_e)\n",
    "decision_hypothesis(p)"
   ]
  },
  {
   "cell_type": "markdown",
   "id": "7335d360-3be7-4391-bb5e-841248208952",
   "metadata": {},
   "source": [
    "**Вывод**: страна проживания специалиста влияет на размер его заработной платы"
   ]
  },
  {
   "cell_type": "markdown",
   "id": "a5c4d768-9e12-49fe-a91a-feee21164e3b",
   "metadata": {
    "tags": []
   },
   "source": [
    "### 6. Соотношение объема удаленной работы и размера заработной платы DS"
   ]
  },
  {
   "cell_type": "markdown",
   "id": "cc32c4ff-9054-4cb5-9f6e-c4b6c580b244",
   "metadata": {},
   "source": [
    "**Сформулируем нулевую и альтернативные гипотезы**:  \n",
    "*Нулевая гипотеза*: объем удаленной работы не влияет на уровень заработной платы. H0: m1 = m2 = m3  \n",
    "*Альтернативная гипотеза*: объем удаленной работы влияет на уровень заработной платы. H0: m1 != m2 != m3   \n",
    "\n",
    "**Проверка на нормальность**  \n",
    "С помощью теста Шапиро-Уилка проверим, распределён ли признак нормально."
   ]
  },
  {
   "cell_type": "code",
   "execution_count": 48,
   "id": "7d2e25fd-0f9b-4142-befd-559f2d3b2be1",
   "metadata": {},
   "outputs": [
    {
     "name": "stdout",
     "output_type": "stream",
     "text": [
      "Для 0:\n",
      "p-value = 0.363\n",
      "p-значение больше, чем заданный уровень значимости 0.05. Распределение является нормальным\n",
      "Для 50:\n",
      "p-value = 0.482\n",
      "p-значение больше, чем заданный уровень значимости 0.05. Распределение является нормальным\n",
      "Для 100:\n",
      "p-value = 0.002\n",
      "p-значение меньше, чем заданный уровень значимости 0.05. Распределение отлично от нормального\n"
     ]
    }
   ],
   "source": [
    "#  значения ЗП DS в долларах США\n",
    "salary_0 = DS.loc[DS['remote_ratio']== 0, 'salary_in_usd']\n",
    "salary_50 = DS.loc[DS['remote_ratio']== 50, 'salary_in_usd']\n",
    "salary_100 = DS.loc[DS['remote_ratio']== 100, 'salary_in_usd']\n",
    "\n",
    "\n",
    "# проводим тест Шапиро-Уилка\n",
    "print('Для 0:')\n",
    "result = stats.shapiro(salary_0)\n",
    "decision_normality(result[1])\n",
    "\n",
    "print('Для 50:')\n",
    "result = stats.shapiro(salary_50)\n",
    "decision_normality(result[1])\n",
    "\n",
    "print('Для 100:')\n",
    "result = stats.shapiro(salary_100)\n",
    "decision_normality(result[1])"
   ]
  },
  {
   "cell_type": "markdown",
   "id": "cd531dff-660d-4011-a486-75166899935f",
   "metadata": {},
   "source": [
    "**Выберем подходящий статистический тест**\n",
    "​\n",
    "* У признака заработная плата количественны тип.\n",
    "* 3 сравниваемые группы.\n",
    "* Группы не зависимы.\n",
    "* Распределение в одной из групп отличается от нормального  \n",
    "​\n",
    "Для проверки нашей гипотезы можно использовать критерий Краскела — Уоллиса.  \n",
    "\n",
    "**Проведём тест**"
   ]
  },
  {
   "cell_type": "code",
   "execution_count": 49,
   "id": "b5a892a3-6f89-4b72-bfec-479ad7bd0399",
   "metadata": {},
   "outputs": [
    {
     "name": "stdout",
     "output_type": "stream",
     "text": [
      "p-value = 0.002\n",
      "p-значение меньше, чем заданный уровень значимости 0.05. Отвергаем нулевую гипотезу в пользу альтернативной.\n"
     ]
    }
   ],
   "source": [
    "_, p = stats.kruskal(salary_0, salary_50, salary_100)\n",
    "decision_hypothesis(p)"
   ]
  },
  {
   "cell_type": "markdown",
   "id": "69b85e9b-130a-49a1-a5b7-d1d477b0ee31",
   "metadata": {},
   "source": [
    "**Вывод**: объем удаленной работы влияет на размер заработной платы"
   ]
  },
  {
   "cell_type": "markdown",
   "id": "c1f9660d-000f-49f8-9ce8-5ccc32f3b83a",
   "metadata": {
    "tags": []
   },
   "source": [
    "### 7. Соотношение размера компании и размера заработной платы DS"
   ]
  },
  {
   "cell_type": "markdown",
   "id": "ced587f4-32ff-4868-bc4a-9a9af7b0ed65",
   "metadata": {},
   "source": [
    "**Сформулируем нулевую и альтернативные гипотезы**:  \n",
    "*Нулевая гипотеза*: размер компании не влияет на уровень заработной платы. H0: m1 = m2 = m3  \n",
    "*Альтернативная гипотеза*: размер компании влияет на уровень заработной платы. H0: m1 != m2 != m3   \n",
    "\n",
    "**Проверка на нормальность**  \n",
    "С помощью теста Шапиро-Уилка проверим, распределён ли признак нормально."
   ]
  },
  {
   "cell_type": "code",
   "execution_count": 50,
   "id": "cd8d9a7a-dee0-4b5a-8560-4ad948d62c77",
   "metadata": {},
   "outputs": [
    {
     "name": "stdout",
     "output_type": "stream",
     "text": [
      "Для S:\n",
      "p-value = 0.189\n",
      "p-значение больше, чем заданный уровень значимости 0.05. Распределение является нормальным\n",
      "Для M:\n",
      "p-value = 0.639\n",
      "p-значение больше, чем заданный уровень значимости 0.05. Распределение является нормальным\n",
      "Для L:\n",
      "p-value = 0.000\n",
      "p-значение меньше, чем заданный уровень значимости 0.05. Распределение отлично от нормального\n"
     ]
    }
   ],
   "source": [
    "#  значения ЗП DS в долларах США\n",
    "salary_S = DS.loc[DS['company_size']=='S', 'salary_in_usd']\n",
    "salary_M = DS.loc[DS['company_size']=='M', 'salary_in_usd']\n",
    "salary_L = DS.loc[DS['company_size']=='L', 'salary_in_usd']\n",
    "\n",
    "\n",
    "# проводим тест Шапиро-Уилка\n",
    "print('Для S:')\n",
    "result = stats.shapiro(salary_S)\n",
    "decision_normality(result[1])\n",
    "\n",
    "print('Для M:')\n",
    "result = stats.shapiro(salary_M)\n",
    "decision_normality(result[1])\n",
    "\n",
    "print('Для L:')\n",
    "result = stats.shapiro(salary_L)\n",
    "decision_normality(result[1])"
   ]
  },
  {
   "cell_type": "markdown",
   "id": "5211030b-6119-44a3-a230-49ebb0596d52",
   "metadata": {},
   "source": [
    "**Выберем подходящий статистический тест**\n",
    "​\n",
    "* У признака, заработная плата количественны тип, н признака размер компании - категориальный.\n",
    "* 3 сравниваемыt группы.\n",
    "* Группы не зависимы.\n",
    "* Распределение в одной из групп отличается от нормального\n",
    "​\n",
    "Для проверки нашей гипотезы можно использовать критерий Краскела — Уоллиса.  \n",
    "​\n",
    "**Проведём тест**"
   ]
  },
  {
   "cell_type": "code",
   "execution_count": 51,
   "id": "71361f9b-3c0c-4f72-816f-8ae6b449e611",
   "metadata": {},
   "outputs": [
    {
     "name": "stdout",
     "output_type": "stream",
     "text": [
      "p-value = 0.000\n",
      "p-значение меньше, чем заданный уровень значимости 0.05. Отвергаем нулевую гипотезу в пользу альтернативной.\n"
     ]
    }
   ],
   "source": [
    "_, p = stats.kruskal(salary_S, salary_M, salary_L)\n",
    "decision_hypothesis(p)"
   ]
  },
  {
   "cell_type": "markdown",
   "id": "4e053baf-9d97-407c-95e7-84812cba32e5",
   "metadata": {},
   "source": [
    "**Вывод**: размер компании влияет на размер заработной платы  DS"
   ]
  },
  {
   "cell_type": "markdown",
   "id": "874565c2-29de-456f-83e1-dd0976fa6662",
   "metadata": {},
   "source": [
    "### 8. Как соотносятся зарплаты Data Scientist и Data Engineer в компаниях в зависимости от места нахождения головного офиса компании"
   ]
  },
  {
   "cell_type": "markdown",
   "id": "578008d7-0042-45ec-904b-fa394a773327",
   "metadata": {},
   "source": [
    "**Сформулируем нулевую и альтернативные гипотезы**:  \n",
    "*Нулевая гипотеза*: уровнь заработной платы Data Scientist (m1) такой же как уровень заработной платы Data Engineer (m2) в компаниях разного размера.   \n",
    "*Альтернативная гипотеза*: между уровнем заработной платы Data Scientist и Data Engineer и размером компании существует взаимосвязь (признаки зависимы).    \n",
    "\n",
    "**Проверка на нормальность**  \n",
    "С помощью теста Шапиро-Уилка проверим, распределён ли признак нормально."
   ]
  },
  {
   "cell_type": "code",
   "execution_count": 52,
   "id": "faa8dd0f-1736-4404-a38e-bc45f5e5cfa7",
   "metadata": {},
   "outputs": [
    {
     "name": "stdout",
     "output_type": "stream",
     "text": [
      "Для US:\n",
      "p-value = 0.000\n",
      "p-значение меньше, чем заданный уровень значимости 0.05. Распределение отлично от нормального\n",
      "Для GB:\n",
      "p-value = 0.015\n",
      "p-значение меньше, чем заданный уровень значимости 0.05. Распределение отлично от нормального\n",
      "Для IN:\n",
      "p-value = 0.830\n",
      "p-значение больше, чем заданный уровень значимости 0.05. Распределение является нормальным\n",
      "Для FR:\n",
      "p-value = 0.413\n",
      "p-значение больше, чем заданный уровень значимости 0.05. Распределение является нормальным\n",
      "Для DE:\n",
      "p-value = 0.335\n",
      "p-значение больше, чем заданный уровень значимости 0.05. Распределение является нормальным\n",
      "Для ES:\n",
      "p-value = 0.348\n",
      "p-значение больше, чем заданный уровень значимости 0.05. Распределение является нормальным\n",
      "Для other:\n",
      "p-value = 0.300\n",
      "p-значение больше, чем заданный уровень значимости 0.05. Распределение является нормальным\n"
     ]
    }
   ],
   "source": [
    "#  значения ЗП DS в долларах США\n",
    "salary_US2 = DS_DE1.loc[DS_DE1['company_location']=='US', 'salary_in_usd']\n",
    "salary_GB2 = DS_DE1.loc[DS_DE1['company_location']=='GB', 'salary_in_usd']\n",
    "salary_IN2 = DS_DE1.loc[DS_DE1['company_location']=='IN', 'salary_in_usd']\n",
    "salary_FR2 = DS_DE1.loc[DS_DE1['company_location']=='FR', 'salary_in_usd']\n",
    "salary_DE2 = DS_DE1.loc[DS_DE1['company_location']=='DE', 'salary_in_usd']\n",
    "salary_ES2 = DS_DE1.loc[DS_DE1['company_location']=='ES', 'salary_in_usd']\n",
    "salary_other2 = DS_DE1.loc[DS_DE1['company_location']=='other', 'salary_in_usd'] \n",
    "    \n",
    "# проводим тест Шапиро-Уилка\n",
    "print('Для US:')\n",
    "result = stats.shapiro(salary_US2)\n",
    "decision_normality(result[1])\n",
    "\n",
    "print('Для GB:')\n",
    "result = stats.shapiro(salary_GB2)\n",
    "decision_normality(result[1])\n",
    "\n",
    "print('Для IN:')\n",
    "result = stats.shapiro(salary_IN2)\n",
    "decision_normality(result[1])\n",
    "\n",
    "print('Для FR:')\n",
    "result = stats.shapiro(salary_FR2)\n",
    "decision_normality(result[1])\n",
    "\n",
    "print('Для DE:')\n",
    "result = stats.shapiro(salary_DE2)\n",
    "decision_normality(result[1])\n",
    "\n",
    "print('Для ES:')\n",
    "result = stats.shapiro(salary_ES2)\n",
    "decision_normality(result[1])\n",
    "\n",
    "print('Для other:')\n",
    "result = stats.shapiro(salary_other2)\n",
    "decision_normality(result[1])"
   ]
  },
  {
   "cell_type": "markdown",
   "id": "8203ce19-d017-43e6-8ae9-ea8ab65a24ba",
   "metadata": {},
   "source": [
    "**Выберем подходящий статистический тест**\n",
    "​\n",
    "* У признака, заработная плата количественны тип.\n",
    "* 7 сравниваемых групп.\n",
    "* Группы не зависимы.\n",
    "* Распределение в двух группах отличается от нормального.\n",
    "\n",
    "Для проверки нашей гипотезы можно использовать критерий Краскела — Уоллиса.  \n",
    "\n",
    "**Проведём тест**"
   ]
  },
  {
   "cell_type": "code",
   "execution_count": 53,
   "id": "f2c2fd79-fd42-4135-91de-4694f7e567c6",
   "metadata": {},
   "outputs": [
    {
     "name": "stdout",
     "output_type": "stream",
     "text": [
      "p-value = 0.000\n",
      "p-значение меньше, чем заданный уровень значимости 0.05. Отвергаем нулевую гипотезу в пользу альтернативной.\n"
     ]
    }
   ],
   "source": [
    "_, p = stats.kruskal(salary_US2, salary_GB2, salary_IN2, salary_FR2, salary_DE2, salary_ES2, salary_other2)\n",
    "decision_hypothesis(p)"
   ]
  },
  {
   "cell_type": "markdown",
   "id": "cee4f68b-5efd-4cad-a05d-4dc249c13683",
   "metadata": {},
   "source": [
    "**Вывод**: существует зависимость между местом нахождения головного офиса компании и размером заработной платы Data Scientist и Data Engineer, т.е. можно предположить, что работая в одних страннах данные специалисты получают больше, чем специалисты, работающие в других странах и выполняющие тот же функционал."
   ]
  },
  {
   "cell_type": "markdown",
   "id": "19c7ac0d-3495-4ad2-94e7-badd0d08dec1",
   "metadata": {},
   "source": [
    "### 9. Как соотносятся зарплаты Data Scientist и Data Engineer в компаниях в зависимости от размера компании"
   ]
  },
  {
   "cell_type": "markdown",
   "id": "50ed2f27-6f95-4bec-b374-902402015411",
   "metadata": {},
   "source": [
    "**Сформулируем нулевую и альтернативные гипотезы**:  \n",
    "*Нулевая гипотеза*: размер компании не влияет на уровень заработной платы Data Scientist и Data Engineer (признаки не зависимы).   \n",
    "*Альтернативная гипотеза*: размер компании влияет на уровень заработной платы Data Scientist и Data Engineer (признаки зависимы). \n",
    "\n",
    "Категоризирем признак заработной платы."
   ]
  },
  {
   "cell_type": "code",
   "execution_count": 54,
   "id": "0ca0dad7-32ca-4b03-bef0-660451a3b528",
   "metadata": {},
   "outputs": [],
   "source": [
    "DS_DE2 = DS_DE1.copy()"
   ]
  },
  {
   "cell_type": "code",
   "execution_count": 55,
   "id": "4329ce26-b3ff-4705-9937-4c6a063406b2",
   "metadata": {},
   "outputs": [],
   "source": [
    "def get_salary(salary):\n",
    "    if salary < 50000:\n",
    "        return 1\n",
    "    elif salary >= 50000 & salary < 100000:\n",
    "        return 2\n",
    "    elif salary >= 100000 & salary < 150000:\n",
    "        return 3\n",
    "    elif salary >= 150000:\n",
    "        return 4"
   ]
  },
  {
   "cell_type": "code",
   "execution_count": 56,
   "id": "318c5eeb-3206-4862-bcd3-31b78199894f",
   "metadata": {},
   "outputs": [],
   "source": [
    "DS_DE2['salary_interval'] = DS_DE2['salary_in_usd'].apply(get_salary).astype('int')"
   ]
  },
  {
   "cell_type": "code",
   "execution_count": 57,
   "id": "5a240fd9-1f7b-4900-ae29-aadab2919f85",
   "metadata": {},
   "outputs": [
    {
     "data": {
      "text/html": [
       "<div>\n",
       "<style scoped>\n",
       "    .dataframe tbody tr th:only-of-type {\n",
       "        vertical-align: middle;\n",
       "    }\n",
       "\n",
       "    .dataframe tbody tr th {\n",
       "        vertical-align: top;\n",
       "    }\n",
       "\n",
       "    .dataframe thead tr th {\n",
       "        text-align: left;\n",
       "    }\n",
       "\n",
       "    .dataframe thead tr:last-of-type th {\n",
       "        text-align: right;\n",
       "    }\n",
       "</style>\n",
       "<table border=\"1\" class=\"dataframe\">\n",
       "  <thead>\n",
       "    <tr>\n",
       "      <th>job_title</th>\n",
       "      <th colspan=\"3\" halign=\"left\">Data Engineer</th>\n",
       "      <th colspan=\"3\" halign=\"left\">Data Scientist</th>\n",
       "    </tr>\n",
       "    <tr>\n",
       "      <th>company_size</th>\n",
       "      <th>L</th>\n",
       "      <th>M</th>\n",
       "      <th>S</th>\n",
       "      <th>L</th>\n",
       "      <th>M</th>\n",
       "      <th>S</th>\n",
       "    </tr>\n",
       "    <tr>\n",
       "      <th>salary_interval</th>\n",
       "      <th></th>\n",
       "      <th></th>\n",
       "      <th></th>\n",
       "      <th></th>\n",
       "      <th></th>\n",
       "      <th></th>\n",
       "    </tr>\n",
       "  </thead>\n",
       "  <tbody>\n",
       "    <tr>\n",
       "      <th>1</th>\n",
       "      <td>7</td>\n",
       "      <td>8</td>\n",
       "      <td>2</td>\n",
       "      <td>11</td>\n",
       "      <td>10</td>\n",
       "      <td>11</td>\n",
       "    </tr>\n",
       "    <tr>\n",
       "      <th>2</th>\n",
       "      <td>30</td>\n",
       "      <td>81</td>\n",
       "      <td>4</td>\n",
       "      <td>34</td>\n",
       "      <td>67</td>\n",
       "      <td>10</td>\n",
       "    </tr>\n",
       "  </tbody>\n",
       "</table>\n",
       "</div>"
      ],
      "text/plain": [
       "job_title       Data Engineer        Data Scientist        \n",
       "company_size                L   M  S              L   M   S\n",
       "salary_interval                                            \n",
       "1                           7   8  2             11  10  11\n",
       "2                          30  81  4             34  67  10"
      ]
     },
     "execution_count": 57,
     "metadata": {},
     "output_type": "execute_result"
    }
   ],
   "source": [
    "# составляем таблицу сопряжённости\n",
    "cross_tab2 = pd.crosstab(DS_DE2['salary_interval'], [DS_DE2['job_title'], DS_DE2['company_size']])\n",
    "cross_tab2"
   ]
  },
  {
   "cell_type": "markdown",
   "id": "617bcc62-c32a-433a-9965-9a704b19d392",
   "metadata": {},
   "source": [
    "**Выберем подходящий статистический тест**\n",
    "\n",
    "Для выбора нужного теста воспользуемся алгоритмом выбора теста. Для этого ответим на следующие вопросы:\n",
    "* Уровень заработной платы - категориальный признак.\n",
    "* 2 сравниваемые группы - уровень зп DS и уровень зп DЕ.\n",
    "* Проверяется независимость групп? — Да.\n",
    "\n",
    "Для проверки нашей гипотезы можно использовать критерий ${\\chi}^2$ (хи-квадрат).\n",
    "\n",
    "**Проведём тест**"
   ]
  },
  {
   "cell_type": "code",
   "execution_count": 58,
   "id": "b3c28676-07fd-4baa-a0f9-4c932e5535e9",
   "metadata": {},
   "outputs": [
    {
     "name": "stdout",
     "output_type": "stream",
     "text": [
      "p-value = 0.000\n",
      "p-значение меньше, чем заданный уровень значимости 0.05. Отвергаем нулевую гипотезу в пользу альтернативной.\n"
     ]
    }
   ],
   "source": [
    "# проводим тест\n",
    "_, p, _, _ = stats.chi2_contingency(cross_tab2)\n",
    "decision_hypothesis(p)"
   ]
  },
  {
   "cell_type": "markdown",
   "id": "e5b5a8c0-cd66-4674-9210-d476e9ec9f76",
   "metadata": {},
   "source": [
    "**Вывод**: размер компании влияет на уровень заработной платы Data Scientist и Data Engineer (признаки зависимы)"
   ]
  },
  {
   "cell_type": "markdown",
   "id": "149478f5-8ea6-4777-93be-36fee6a4734e",
   "metadata": {},
   "source": [
    "### 10. Есть ли связь между наличием должностей Data Scientist и Data Engineer и размером компании"
   ]
  },
  {
   "cell_type": "markdown",
   "id": "828f9d6c-0a3f-4490-ba7b-eac4c0bc9e79",
   "metadata": {},
   "source": [
    "**Сформулируем нулевую и альтернативные гипотезы**:  \n",
    "*Нулевая гипотеза*: между наличием должностей Data Scientist и Data Engineer и размером компании нет взаимосвязи (признаки независимы) \n",
    "*Альтернативная гипотеза*: между наличием должностей Data Scientist и Data Engineer и размером компании есть взаимосвязь (признаки зависимы).  "
   ]
  },
  {
   "cell_type": "code",
   "execution_count": 59,
   "id": "07953290-a228-48cf-a202-2df3bfcb0dcb",
   "metadata": {},
   "outputs": [
    {
     "data": {
      "text/html": [
       "<div>\n",
       "<style scoped>\n",
       "    .dataframe tbody tr th:only-of-type {\n",
       "        vertical-align: middle;\n",
       "    }\n",
       "\n",
       "    .dataframe tbody tr th {\n",
       "        vertical-align: top;\n",
       "    }\n",
       "\n",
       "    .dataframe thead th {\n",
       "        text-align: right;\n",
       "    }\n",
       "</style>\n",
       "<table border=\"1\" class=\"dataframe\">\n",
       "  <thead>\n",
       "    <tr style=\"text-align: right;\">\n",
       "      <th>job_title</th>\n",
       "      <th>Data Engineer</th>\n",
       "      <th>Data Scientist</th>\n",
       "    </tr>\n",
       "    <tr>\n",
       "      <th>company_size</th>\n",
       "      <th></th>\n",
       "      <th></th>\n",
       "    </tr>\n",
       "  </thead>\n",
       "  <tbody>\n",
       "    <tr>\n",
       "      <th>L</th>\n",
       "      <td>37</td>\n",
       "      <td>45</td>\n",
       "    </tr>\n",
       "    <tr>\n",
       "      <th>M</th>\n",
       "      <td>89</td>\n",
       "      <td>77</td>\n",
       "    </tr>\n",
       "    <tr>\n",
       "      <th>S</th>\n",
       "      <td>6</td>\n",
       "      <td>21</td>\n",
       "    </tr>\n",
       "  </tbody>\n",
       "</table>\n",
       "</div>"
      ],
      "text/plain": [
       "job_title     Data Engineer  Data Scientist\n",
       "company_size                               \n",
       "L                        37              45\n",
       "M                        89              77\n",
       "S                         6              21"
      ]
     },
     "execution_count": 59,
     "metadata": {},
     "output_type": "execute_result"
    }
   ],
   "source": [
    "# составляем таблицу сопряжённости\n",
    "cross_tab = pd.crosstab(index=DS_DE1['company_size'], columns=DS_DE1['job_title'])\n",
    "cross_tab"
   ]
  },
  {
   "cell_type": "markdown",
   "id": "1e72cfa2-d16e-4c7d-b5ce-4c33a46f71b4",
   "metadata": {},
   "source": [
    "**Выберем подходящий статистический тест**\n",
    "\n",
    "Для выбора нужного теста воспользуемся алгоритмом выбора теста. Для этого ответим на следующие вопросы:\n",
    "* Наличие должностей - бинарный признак.\n",
    "* Две сравниваемые группы одной выборки.\n",
    "* Проверяется независимость групп? — Да.\n",
    "\n",
    "Для проверки нашей гипотезы можно использовать критерий ${\\chi}^2$ (хи-квадрат).\n",
    "\n",
    "**Проведём тест**"
   ]
  },
  {
   "cell_type": "code",
   "execution_count": 60,
   "id": "d5e01f7e-3eac-4568-96e1-978be3b3836b",
   "metadata": {},
   "outputs": [
    {
     "name": "stdout",
     "output_type": "stream",
     "text": [
      "p-value = 0.008\n",
      "p-значение меньше, чем заданный уровень значимости 0.05. Отвергаем нулевую гипотезу в пользу альтернативной.\n"
     ]
    }
   ],
   "source": [
    "# проводим тест\n",
    "_, p, _, _ = stats.chi2_contingency(cross_tab)\n",
    "decision_hypothesis(p)"
   ]
  },
  {
   "cell_type": "markdown",
   "id": "e4ccbea0-fd60-4e0a-92e6-69d4a613f720",
   "metadata": {},
   "source": [
    "**Вывод**: между наличием должностей Data Scientist и Data Engineer и размером компании есть взаимосвязь (признаки зависимы)"
   ]
  },
  {
   "cell_type": "markdown",
   "id": "643c507c-d6a2-4dd0-a003-036961c093f5",
   "metadata": {},
   "source": [
    "### 11. Существует ли взаимосвязь между размером заработной платы Data Scientist и валютой, в которой специалист получает заработную плату"
   ]
  },
  {
   "cell_type": "markdown",
   "id": "cbb623de-8091-4d68-9921-4a6c4f551d61",
   "metadata": {},
   "source": [
    "**Сформулируем нулевую и альтернативные гипотезы**:  \n",
    "*Нулевая гипотеза*: валюта, в которой специалист получает заработную плату не влияет на уровень заработной платы (признаки не зависимы).   \n",
    "*Альтернативная гипотеза*: валюта, в которой специалист получает заработную плату влияет на уровень заработной платы (признаки зависимы). "
   ]
  },
  {
   "cell_type": "code",
   "execution_count": 61,
   "id": "08976411-fd07-4350-8eca-12017d806c2c",
   "metadata": {},
   "outputs": [],
   "source": [
    "DS4 = DS1.copy()"
   ]
  },
  {
   "cell_type": "code",
   "execution_count": 62,
   "id": "99797f63-9343-4295-9903-60fae042afc7",
   "metadata": {},
   "outputs": [],
   "source": [
    "def get_salary(salary):                          \n",
    "    if salary < 50000:         \n",
    "        return 1               \n",
    "    elif salary >= 50000 and salary < 100000:  \n",
    "        return 2 \n",
    "    elif salary >= 100000 and salary <150000:\n",
    "        return 3\n",
    "    else:\n",
    "        return 4\n",
    "    \n",
    "DS4['salary_interval'] = DS4['salary_in_usd'].apply(get_salary).astype('int')"
   ]
  },
  {
   "cell_type": "code",
   "execution_count": 63,
   "id": "1b130bb9-984c-49a3-9ea4-56140359fc8f",
   "metadata": {},
   "outputs": [
    {
     "data": {
      "text/html": [
       "<div>\n",
       "<style scoped>\n",
       "    .dataframe tbody tr th:only-of-type {\n",
       "        vertical-align: middle;\n",
       "    }\n",
       "\n",
       "    .dataframe tbody tr th {\n",
       "        vertical-align: top;\n",
       "    }\n",
       "\n",
       "    .dataframe thead th {\n",
       "        text-align: right;\n",
       "    }\n",
       "</style>\n",
       "<table border=\"1\" class=\"dataframe\">\n",
       "  <thead>\n",
       "    <tr style=\"text-align: right;\">\n",
       "      <th>salary_interval</th>\n",
       "      <th>1</th>\n",
       "      <th>2</th>\n",
       "      <th>3</th>\n",
       "      <th>4</th>\n",
       "    </tr>\n",
       "    <tr>\n",
       "      <th>salary_currency</th>\n",
       "      <th></th>\n",
       "      <th></th>\n",
       "      <th></th>\n",
       "      <th></th>\n",
       "    </tr>\n",
       "  </thead>\n",
       "  <tbody>\n",
       "    <tr>\n",
       "      <th>CAD</th>\n",
       "      <td>0</td>\n",
       "      <td>4</td>\n",
       "      <td>1</td>\n",
       "      <td>0</td>\n",
       "    </tr>\n",
       "    <tr>\n",
       "      <th>EUR</th>\n",
       "      <td>10</td>\n",
       "      <td>12</td>\n",
       "      <td>0</td>\n",
       "      <td>0</td>\n",
       "    </tr>\n",
       "    <tr>\n",
       "      <th>GBP</th>\n",
       "      <td>2</td>\n",
       "      <td>5</td>\n",
       "      <td>3</td>\n",
       "      <td>1</td>\n",
       "    </tr>\n",
       "    <tr>\n",
       "      <th>INR</th>\n",
       "      <td>9</td>\n",
       "      <td>0</td>\n",
       "      <td>0</td>\n",
       "      <td>0</td>\n",
       "    </tr>\n",
       "    <tr>\n",
       "      <th>USD</th>\n",
       "      <td>5</td>\n",
       "      <td>11</td>\n",
       "      <td>40</td>\n",
       "      <td>31</td>\n",
       "    </tr>\n",
       "    <tr>\n",
       "      <th>other</th>\n",
       "      <td>6</td>\n",
       "      <td>1</td>\n",
       "      <td>2</td>\n",
       "      <td>0</td>\n",
       "    </tr>\n",
       "  </tbody>\n",
       "</table>\n",
       "</div>"
      ],
      "text/plain": [
       "salary_interval   1   2   3   4\n",
       "salary_currency                \n",
       "CAD               0   4   1   0\n",
       "EUR              10  12   0   0\n",
       "GBP               2   5   3   1\n",
       "INR               9   0   0   0\n",
       "USD               5  11  40  31\n",
       "other             6   1   2   0"
      ]
     },
     "execution_count": 63,
     "metadata": {},
     "output_type": "execute_result"
    }
   ],
   "source": [
    "DS4['salary_currency'] = DS4['salary_currency'].apply(get_currency).astype('category')\n",
    "\n",
    "cross_tab = pd.crosstab(index=DS4['salary_currency'], columns=DS4['salary_interval'])\n",
    "cross_tab"
   ]
  },
  {
   "cell_type": "markdown",
   "id": "1a994f08-2c20-4e00-ab85-81f015c64d18",
   "metadata": {},
   "source": [
    "**Выберем подходящий статистический тест**\n",
    "\n",
    "Для выбора нужного теста воспользуемся алгоритмом выбора теста. Для этого ответим на следующие вопросы:\n",
    "* Валюта - категориальны признак.\n",
    "* 4 сравниваемые группы одной выборки.\n",
    "* Проверяется независимость групп? — Да.\n",
    "\n",
    "Для проверки нашей гипотезы можно использовать критерий ${\\chi}^2$ (хи-квадрат).\n",
    "\n",
    "**Проведём тест**"
   ]
  },
  {
   "cell_type": "code",
   "execution_count": 64,
   "id": "c06bacd8-e0e1-40a5-8adb-5902e3ff9770",
   "metadata": {},
   "outputs": [
    {
     "name": "stdout",
     "output_type": "stream",
     "text": [
      "p-value = 0.000\n",
      "p-значение меньше, чем заданный уровень значимости 0.05. Отвергаем нулевую гипотезу в пользу альтернативной.\n"
     ]
    }
   ],
   "source": [
    "# проводим тест\n",
    "_, p, _, _ = stats.chi2_contingency(cross_tab)\n",
    "decision_hypothesis(p)"
   ]
  },
  {
   "cell_type": "markdown",
   "id": "2ddeaee2-d845-4d85-8131-5c20bf018860",
   "metadata": {},
   "source": [
    "**Вывод**: валюта, в которой специалист получает заработную плату влияет на уровень заработной платы (признаки зависимы)."
   ]
  },
  {
   "cell_type": "markdown",
   "id": "cbfcf737-ce05-46d8-92c8-9fa3a81f0322",
   "metadata": {},
   "source": [
    "### 12. Заработная плата каких специалистов была выше в рассматриваемый период?"
   ]
  },
  {
   "cell_type": "markdown",
   "id": "86f23112-ff97-48b8-b74e-22df8932cda2",
   "metadata": {},
   "source": [
    "**Сформулируем нулевую и альтернативные гипотезы**:  \n",
    "*Нулевая гипотеза*:заработная плата Data Engineer (m1) больше или равна заработной плате Data Scientist (m2) в 2020, 2021, 2022 годах.   H0: m1 >= m2\n",
    "*Альтернативная гипотеза*: заработная плата Data Engineer (m1) меньше заработной платs Data Scientist (m2) в 2020, 2021, 2022 годах.   H0: m1 < m2    \n",
    "\n",
    "**Проверка на нормальность**  \n",
    "С помощью теста Шапиро-Уилка проверим, распределён ли признак нормально."
   ]
  },
  {
   "cell_type": "code",
   "execution_count": 66,
   "id": "d859abf6-051e-4b8b-9da6-5d7646a2bcdb",
   "metadata": {},
   "outputs": [
    {
     "name": "stdout",
     "output_type": "stream",
     "text": [
      "Для ЗП DE в 2020 году:\n",
      "p-value = 0.341\n",
      "p-значение больше, чем заданный уровень значимости 0.05. Распределение является нормальным\n",
      "Для ЗП DS в 2020 году:\n",
      "p-value = 0.000\n",
      "p-значение меньше, чем заданный уровень значимости 0.05. Распределение отлично от нормального\n",
      "Для ЗП DE в 2021 году:\n",
      "p-value = 0.121\n",
      "p-значение больше, чем заданный уровень значимости 0.05. Распределение является нормальным\n",
      "Для ЗП DS в 2021 году:\n",
      "p-value = 0.125\n",
      "p-значение больше, чем заданный уровень значимости 0.05. Распределение является нормальным\n",
      "Для ЗП DE в 2022 году:\n",
      "p-value = 0.010\n",
      "p-значение меньше, чем заданный уровень значимости 0.05. Распределение отлично от нормального\n",
      "Для ЗП DS в 2022 году:\n",
      "p-value = 0.327\n",
      "p-значение больше, чем заданный уровень значимости 0.05. Распределение является нормальным\n"
     ]
    }
   ],
   "source": [
    "#  значения ЗП в долларах США\n",
    "DS_DE_2020 = DS_DE1[DS_DE['work_year'] == 2020]\n",
    "salary_20_DE = DS_DE_2020.loc[DS_DE_2020['job_title']=='Data Engineer', 'salary_in_usd']\n",
    "salary_20_DS = DS_DE_2020.loc[DS_DE_2020['job_title']=='Data Scientist', 'salary_in_usd']\n",
    "\n",
    "DS_DE_2021 = DS_DE1[DS_DE['work_year'] == 2021]\n",
    "salary_21_DE = DS_DE_2021.loc[DS_DE_2021['job_title']=='Data Engineer', 'salary_in_usd']\n",
    "salary_21_DS = DS_DE_2021.loc[DS_DE_2021['job_title']=='Data Scientist', 'salary_in_usd']\n",
    "\n",
    "DS_DE_2022 = DS_DE1[DS_DE['work_year'] == 2022]\n",
    "salary_22_DE = DS_DE_2022.loc[DS_DE_2022['job_title']=='Data Engineer', 'salary_in_usd']\n",
    "salary_22_DS = DS_DE_2022.loc[DS_DE_2022['job_title']=='Data Scientist', 'salary_in_usd']\n",
    "\n",
    "\n",
    "# проводим тест Шапиро-Уилка\n",
    "print('Для ЗП DE в 2020 году:')\n",
    "result = stats.shapiro(salary_20_DE)\n",
    "decision_normality(result[1])\n",
    "\n",
    "print('Для ЗП DS в 2020 году:')\n",
    "result = stats.shapiro(salary_20_DS)\n",
    "decision_normality(result[1])\n",
    "\n",
    "print('Для ЗП DE в 2021 году:')\n",
    "result = stats.shapiro(salary_21_DE)\n",
    "decision_normality(result[1])\n",
    "\n",
    "print('Для ЗП DS в 2021 году:')\n",
    "result = stats.shapiro(salary_21_DS)\n",
    "decision_normality(result[1])\n",
    "\n",
    "print('Для ЗП DE в 2022 году:')\n",
    "result = stats.shapiro(salary_22_DE)\n",
    "decision_normality(result[1])\n",
    "\n",
    "print('Для ЗП DS в 2022 году:')\n",
    "result = stats.shapiro(salary_22_DS)\n",
    "decision_normality(result[1])"
   ]
  },
  {
   "cell_type": "markdown",
   "id": "7062c335-8152-4d63-a32f-0119974f4ac4",
   "metadata": {},
   "source": [
    "**Выберем подходящие статистические тесты**\n",
    "\n",
    "Для выбора нужного теста воспользуемся алгоритмом выбора теста. Для этого ответим на следующие вопросы:\n",
    "* Уровень заработной платы - категориальный признак.\n",
    "* 2 сравниваемые группы \n",
    "* Группы не зависимые\n",
    "* Не все выборки имеют нормальное распределение\n",
    "* Выборки не одинаковой длины\n",
    "\n",
    "Для проверки нашей гипотезы можно использовать: U критерий Манна-Уитни \n",
    "\n",
    "**Проведём тесты**"
   ]
  },
  {
   "cell_type": "code",
   "execution_count": 67,
   "id": "660ee0c1-8867-40ca-a121-eeac38b8badc",
   "metadata": {},
   "outputs": [
    {
     "name": "stdout",
     "output_type": "stream",
     "text": [
      "2020 :\n",
      "p-value = 0.214\n",
      "p-значение больше, чем заданный уровень значимости 0.05. У нас нет оснований отвергнуть нулевую гипотезу.\n",
      "2021 :\n",
      "p-value = 0.201\n",
      "p-значение больше, чем заданный уровень значимости 0.05. У нас нет оснований отвергнуть нулевую гипотезу.\n",
      "2022 :\n",
      "p-value = 0.923\n",
      "p-значение больше, чем заданный уровень значимости 0.05. У нас нет оснований отвергнуть нулевую гипотезу.\n"
     ]
    }
   ],
   "source": [
    "# проводим тест для 2020 года\n",
    "_, p = stats.mannwhitneyu(salary_20_DE, salary_20_DS, alternative = 'greater')\n",
    "print('2020 :')\n",
    "decision_hypothesis(p)\n",
    "\n",
    "# проводим тест для 2021 года\n",
    "_, p = stats.mannwhitneyu(salary_21_DE, salary_21_DS, alternative='greater')\n",
    "print('2021 :')\n",
    "decision_hypothesis(p)\n",
    "\n",
    "# проводим тест для 2023 года\n",
    "_, p = stats.mannwhitneyu(salary_22_DE, salary_22_DS, alternative = 'greater')\n",
    "\n",
    "print('2022 :')\n",
    "decision_hypothesis(p)"
   ]
  },
  {
   "cell_type": "markdown",
   "id": "df9544b0-eb22-4426-aa90-bf3fa08c90a2",
   "metadata": {},
   "source": [
    "**Вывод**: во всех трех рассматриваемых периодах заработная плата Data Engineer больше или равна заработной плате Data Scientist."
   ]
  },
  {
   "cell_type": "markdown",
   "id": "04c1c53d-2c4c-4ec1-af23-1fe7583117a3",
   "metadata": {},
   "source": [
    "## **Выводы по блоку статистического анализа**:  \n",
    "*Выводы о размере заработной платы*:\n",
    "1. Рост средней заработной платы DS наблюдается только в 2022 году по отношению к 2021 году.\n",
    "2. Во всех трех рассматриваемых периодах заработная плата Data Engineer больше или равна заработной плате Data Scientist.\n",
    "\n",
    "*Признаки, влияющие на размер заработной платы Data Scientist*:\n",
    "* уровень опыта  \n",
    "* страна, в которой расположен головной офис компании \n",
    "* страна проживания специалиста   \n",
    "* объем удаленной работы  \n",
    "* размер компании  \n",
    "\n",
    "Установлена зависимость между местом нахождения головного офиса компании и размером заработной платы Data Scientist и Data Engineer, т.е. можно предположить, что работая в одних страннах данные специалисты получают больше, чем специалисты, работающие в других странах и выполняющие тот же функционал.  \n",
    " \n",
    "*Установлена следующие пары зависимых признаков*:\n",
    "1. размер компании влияет на уровень заработной платы Data Scientist и Data Engineer (признаки зависимы)\n",
    "2. между наличием должностей Data Scientist и Data Engineer и размером компании есть взаимосвязь (признаки зависимы)\n",
    "3. валюта, в которой специалист получает заработную плату влияет на уровень заработной платы (признаки зависимы).\n",
    "\n"
   ]
  },
  {
   "cell_type": "code",
   "execution_count": null,
   "id": "e00c3726-5bfa-4f80-bba4-2b408a878d00",
   "metadata": {},
   "outputs": [],
   "source": []
  }
 ],
 "metadata": {
  "kernelspec": {
   "display_name": "Python 3 (ipykernel)",
   "language": "python",
   "name": "python3"
  },
  "language_info": {
   "codemirror_mode": {
    "name": "ipython",
    "version": 3
   },
   "file_extension": ".py",
   "mimetype": "text/x-python",
   "name": "python",
   "nbconvert_exporter": "python",
   "pygments_lexer": "ipython3",
   "version": "3.10.9"
  }
 },
 "nbformat": 4,
 "nbformat_minor": 5
}
